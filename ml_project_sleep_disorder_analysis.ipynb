{
  "nbformat": 4,
  "nbformat_minor": 0,
  "metadata": {
    "colab": {
      "provenance": []
    },
    "kernelspec": {
      "name": "python3",
      "display_name": "Python 3"
    },
    "language_info": {
      "name": "python"
    }
  },
  "cells": [
    {
      "cell_type": "markdown",
      "source": [
        "# **Introduction**\n",
        "\n",
        "\n",
        "**Dataset Used:** Sleep_health_and_lifestyle_dataset\n",
        "\n",
        "**Dataset Columns:**\n",
        "\n",
        "*   **Person ID:** An identifier for each individual.\n",
        "*   **Gender:** The gender of the person (Male/Female).\n",
        "*   **Age:** The age of the person in years.\n",
        "*   **Occupation:** The occupation or profession of the person.\n",
        "*   **Sleep Duration (hours):** The number of hours the person sleeps per day.\n",
        "*   **Quality of Sleep (scale: 1-10):** A subjective rating of the quality of sleep, ranging from 1 to 10.\n",
        "*   **Physical Activity Level (minutes/day):** The number of minutes the person engages in physical activity daily.\n",
        "*   **Stress Level (scale: 1-10):** A subjective rating of the stress level experienced by the person, ranging from 1 to 10.\n",
        "*   **BMI Category:** The BMI category of the person (Underweight, Normal, Overweight, Obese).\n",
        "*   **Blood Pressure (systolic/diastolic):** The blood pressure measurement of the person, indicated as systolic pressure over diastolic pressure.\n",
        "*   **Heart Rate (bpm):** The resting heart rate of the person in beats per minute.\n",
        "*   **Daily Steps:** The number of steps the person takes per day.\n",
        "*   **Sleep Disorder:** The presence or absence of a sleep disorder in the person (None, Insomnia, Sleep Apnea).\n",
        "\n",
        "**Details about Sleep Disorder Column:**\n",
        "\n",
        "*   **None:** The individual does not exhibit any specific sleep disorder.\n",
        "*   **Insomnia:** The individual experiences difficulty in falling asleep or staying asleep, leading to inadequate or poor-quality sleep.\n",
        "*   **Sleep Apnea:** The individual suffers from pauses in breathing during sleep, resulting in disrupted sleep patterns and potential health risks.\n"
      ],
      "metadata": {
        "id": "Eql7r5sb4NRo"
      }
    },
    {
      "cell_type": "markdown",
      "source": [
        "**Importing necessary packages**"
      ],
      "metadata": {
        "id": "3JnRVY_43s-E"
      }
    },
    {
      "cell_type": "code",
      "execution_count": null,
      "metadata": {
        "id": "X4NLKmNItCpm"
      },
      "outputs": [],
      "source": [
        "import pandas as pd\n",
        "import warnings\n",
        "warnings.filterwarnings('ignore')\n",
        "import matplotlib.pyplot as plt\n",
        "import seaborn as sns\n",
        "from sklearn.preprocessing import MinMaxScaler,LabelEncoder\n",
        "from sklearn.model_selection import train_test_split\n",
        "from imblearn.combine import SMOTEENN\n",
        "from sklearn.neighbors import KNeighborsClassifier\n",
        "from sklearn.svm import SVC\n",
        "from sklearn.naive_bayes import GaussianNB\n",
        "from sklearn.tree import DecisionTreeClassifier\n",
        "from sklearn.ensemble import RandomForestClassifier,AdaBoostClassifier,GradientBoostingClassifier\n",
        "from xgboost import XGBClassifier\n",
        "from sklearn.ensemble import StackingClassifier\n",
        "from sklearn.linear_model import LogisticRegression\n",
        "from sklearn.metrics import classification_report,accuracy_score"
      ]
    },
    {
      "cell_type": "markdown",
      "source": [
        "**Uploading the dataset**"
      ],
      "metadata": {
        "id": "Ja1XrNrXjsmm"
      }
    },
    {
      "cell_type": "code",
      "source": [
        "df=pd.read_csv('/content/drive/MyDrive/dataset/Sleep_health_and_lifestyle_dataset.csv')\n",
        "df"
      ],
      "metadata": {
        "colab": {
          "base_uri": "https://localhost:8080/",
          "height": 468
        },
        "id": "8Y_jH3qNuZN1",
        "outputId": "fe7bb168-2a97-4e16-a384-ae80f70d3abd"
      },
      "execution_count": null,
      "outputs": [
        {
          "output_type": "execute_result",
          "data": {
            "text/plain": [
              "     Person ID  Gender  Age            Occupation  Sleep Duration  \\\n",
              "0            1    Male   27     Software Engineer             6.1   \n",
              "1            2    Male   28                Doctor             6.2   \n",
              "2            3    Male   28                Doctor             6.2   \n",
              "3            4    Male   28  Sales Representative             5.9   \n",
              "4            5    Male   28  Sales Representative             5.9   \n",
              "..         ...     ...  ...                   ...             ...   \n",
              "369        370  Female   59                 Nurse             8.1   \n",
              "370        371  Female   59                 Nurse             8.0   \n",
              "371        372  Female   59                 Nurse             8.1   \n",
              "372        373  Female   59                 Nurse             8.1   \n",
              "373        374  Female   59                 Nurse             8.1   \n",
              "\n",
              "     Quality of Sleep  Physical Activity Level  Stress Level BMI Category  \\\n",
              "0                   6                       42             6   Overweight   \n",
              "1                   6                       60             8       Normal   \n",
              "2                   6                       60             8       Normal   \n",
              "3                   4                       30             8        Obese   \n",
              "4                   4                       30             8        Obese   \n",
              "..                ...                      ...           ...          ...   \n",
              "369                 9                       75             3   Overweight   \n",
              "370                 9                       75             3   Overweight   \n",
              "371                 9                       75             3   Overweight   \n",
              "372                 9                       75             3   Overweight   \n",
              "373                 9                       75             3   Overweight   \n",
              "\n",
              "    Blood Pressure  Heart Rate  Daily Steps Sleep Disorder  \n",
              "0           126/83          77         4200           None  \n",
              "1           125/80          75        10000           None  \n",
              "2           125/80          75        10000           None  \n",
              "3           140/90          85         3000    Sleep Apnea  \n",
              "4           140/90          85         3000    Sleep Apnea  \n",
              "..             ...         ...          ...            ...  \n",
              "369         140/95          68         7000    Sleep Apnea  \n",
              "370         140/95          68         7000    Sleep Apnea  \n",
              "371         140/95          68         7000    Sleep Apnea  \n",
              "372         140/95          68         7000    Sleep Apnea  \n",
              "373         140/95          68         7000    Sleep Apnea  \n",
              "\n",
              "[374 rows x 13 columns]"
            ],
            "text/html": [
              "\n",
              "\n",
              "  <div id=\"df-cc42b99c-aefb-49db-81b4-c0d5b4936ae5\">\n",
              "    <div class=\"colab-df-container\">\n",
              "      <div>\n",
              "<style scoped>\n",
              "    .dataframe tbody tr th:only-of-type {\n",
              "        vertical-align: middle;\n",
              "    }\n",
              "\n",
              "    .dataframe tbody tr th {\n",
              "        vertical-align: top;\n",
              "    }\n",
              "\n",
              "    .dataframe thead th {\n",
              "        text-align: right;\n",
              "    }\n",
              "</style>\n",
              "<table border=\"1\" class=\"dataframe\">\n",
              "  <thead>\n",
              "    <tr style=\"text-align: right;\">\n",
              "      <th></th>\n",
              "      <th>Person ID</th>\n",
              "      <th>Gender</th>\n",
              "      <th>Age</th>\n",
              "      <th>Occupation</th>\n",
              "      <th>Sleep Duration</th>\n",
              "      <th>Quality of Sleep</th>\n",
              "      <th>Physical Activity Level</th>\n",
              "      <th>Stress Level</th>\n",
              "      <th>BMI Category</th>\n",
              "      <th>Blood Pressure</th>\n",
              "      <th>Heart Rate</th>\n",
              "      <th>Daily Steps</th>\n",
              "      <th>Sleep Disorder</th>\n",
              "    </tr>\n",
              "  </thead>\n",
              "  <tbody>\n",
              "    <tr>\n",
              "      <th>0</th>\n",
              "      <td>1</td>\n",
              "      <td>Male</td>\n",
              "      <td>27</td>\n",
              "      <td>Software Engineer</td>\n",
              "      <td>6.1</td>\n",
              "      <td>6</td>\n",
              "      <td>42</td>\n",
              "      <td>6</td>\n",
              "      <td>Overweight</td>\n",
              "      <td>126/83</td>\n",
              "      <td>77</td>\n",
              "      <td>4200</td>\n",
              "      <td>None</td>\n",
              "    </tr>\n",
              "    <tr>\n",
              "      <th>1</th>\n",
              "      <td>2</td>\n",
              "      <td>Male</td>\n",
              "      <td>28</td>\n",
              "      <td>Doctor</td>\n",
              "      <td>6.2</td>\n",
              "      <td>6</td>\n",
              "      <td>60</td>\n",
              "      <td>8</td>\n",
              "      <td>Normal</td>\n",
              "      <td>125/80</td>\n",
              "      <td>75</td>\n",
              "      <td>10000</td>\n",
              "      <td>None</td>\n",
              "    </tr>\n",
              "    <tr>\n",
              "      <th>2</th>\n",
              "      <td>3</td>\n",
              "      <td>Male</td>\n",
              "      <td>28</td>\n",
              "      <td>Doctor</td>\n",
              "      <td>6.2</td>\n",
              "      <td>6</td>\n",
              "      <td>60</td>\n",
              "      <td>8</td>\n",
              "      <td>Normal</td>\n",
              "      <td>125/80</td>\n",
              "      <td>75</td>\n",
              "      <td>10000</td>\n",
              "      <td>None</td>\n",
              "    </tr>\n",
              "    <tr>\n",
              "      <th>3</th>\n",
              "      <td>4</td>\n",
              "      <td>Male</td>\n",
              "      <td>28</td>\n",
              "      <td>Sales Representative</td>\n",
              "      <td>5.9</td>\n",
              "      <td>4</td>\n",
              "      <td>30</td>\n",
              "      <td>8</td>\n",
              "      <td>Obese</td>\n",
              "      <td>140/90</td>\n",
              "      <td>85</td>\n",
              "      <td>3000</td>\n",
              "      <td>Sleep Apnea</td>\n",
              "    </tr>\n",
              "    <tr>\n",
              "      <th>4</th>\n",
              "      <td>5</td>\n",
              "      <td>Male</td>\n",
              "      <td>28</td>\n",
              "      <td>Sales Representative</td>\n",
              "      <td>5.9</td>\n",
              "      <td>4</td>\n",
              "      <td>30</td>\n",
              "      <td>8</td>\n",
              "      <td>Obese</td>\n",
              "      <td>140/90</td>\n",
              "      <td>85</td>\n",
              "      <td>3000</td>\n",
              "      <td>Sleep Apnea</td>\n",
              "    </tr>\n",
              "    <tr>\n",
              "      <th>...</th>\n",
              "      <td>...</td>\n",
              "      <td>...</td>\n",
              "      <td>...</td>\n",
              "      <td>...</td>\n",
              "      <td>...</td>\n",
              "      <td>...</td>\n",
              "      <td>...</td>\n",
              "      <td>...</td>\n",
              "      <td>...</td>\n",
              "      <td>...</td>\n",
              "      <td>...</td>\n",
              "      <td>...</td>\n",
              "      <td>...</td>\n",
              "    </tr>\n",
              "    <tr>\n",
              "      <th>369</th>\n",
              "      <td>370</td>\n",
              "      <td>Female</td>\n",
              "      <td>59</td>\n",
              "      <td>Nurse</td>\n",
              "      <td>8.1</td>\n",
              "      <td>9</td>\n",
              "      <td>75</td>\n",
              "      <td>3</td>\n",
              "      <td>Overweight</td>\n",
              "      <td>140/95</td>\n",
              "      <td>68</td>\n",
              "      <td>7000</td>\n",
              "      <td>Sleep Apnea</td>\n",
              "    </tr>\n",
              "    <tr>\n",
              "      <th>370</th>\n",
              "      <td>371</td>\n",
              "      <td>Female</td>\n",
              "      <td>59</td>\n",
              "      <td>Nurse</td>\n",
              "      <td>8.0</td>\n",
              "      <td>9</td>\n",
              "      <td>75</td>\n",
              "      <td>3</td>\n",
              "      <td>Overweight</td>\n",
              "      <td>140/95</td>\n",
              "      <td>68</td>\n",
              "      <td>7000</td>\n",
              "      <td>Sleep Apnea</td>\n",
              "    </tr>\n",
              "    <tr>\n",
              "      <th>371</th>\n",
              "      <td>372</td>\n",
              "      <td>Female</td>\n",
              "      <td>59</td>\n",
              "      <td>Nurse</td>\n",
              "      <td>8.1</td>\n",
              "      <td>9</td>\n",
              "      <td>75</td>\n",
              "      <td>3</td>\n",
              "      <td>Overweight</td>\n",
              "      <td>140/95</td>\n",
              "      <td>68</td>\n",
              "      <td>7000</td>\n",
              "      <td>Sleep Apnea</td>\n",
              "    </tr>\n",
              "    <tr>\n",
              "      <th>372</th>\n",
              "      <td>373</td>\n",
              "      <td>Female</td>\n",
              "      <td>59</td>\n",
              "      <td>Nurse</td>\n",
              "      <td>8.1</td>\n",
              "      <td>9</td>\n",
              "      <td>75</td>\n",
              "      <td>3</td>\n",
              "      <td>Overweight</td>\n",
              "      <td>140/95</td>\n",
              "      <td>68</td>\n",
              "      <td>7000</td>\n",
              "      <td>Sleep Apnea</td>\n",
              "    </tr>\n",
              "    <tr>\n",
              "      <th>373</th>\n",
              "      <td>374</td>\n",
              "      <td>Female</td>\n",
              "      <td>59</td>\n",
              "      <td>Nurse</td>\n",
              "      <td>8.1</td>\n",
              "      <td>9</td>\n",
              "      <td>75</td>\n",
              "      <td>3</td>\n",
              "      <td>Overweight</td>\n",
              "      <td>140/95</td>\n",
              "      <td>68</td>\n",
              "      <td>7000</td>\n",
              "      <td>Sleep Apnea</td>\n",
              "    </tr>\n",
              "  </tbody>\n",
              "</table>\n",
              "<p>374 rows × 13 columns</p>\n",
              "</div>\n",
              "      <button class=\"colab-df-convert\" onclick=\"convertToInteractive('df-cc42b99c-aefb-49db-81b4-c0d5b4936ae5')\"\n",
              "              title=\"Convert this dataframe to an interactive table.\"\n",
              "              style=\"display:none;\">\n",
              "\n",
              "  <svg xmlns=\"http://www.w3.org/2000/svg\" height=\"24px\"viewBox=\"0 0 24 24\"\n",
              "       width=\"24px\">\n",
              "    <path d=\"M0 0h24v24H0V0z\" fill=\"none\"/>\n",
              "    <path d=\"M18.56 5.44l.94 2.06.94-2.06 2.06-.94-2.06-.94-.94-2.06-.94 2.06-2.06.94zm-11 1L8.5 8.5l.94-2.06 2.06-.94-2.06-.94L8.5 2.5l-.94 2.06-2.06.94zm10 10l.94 2.06.94-2.06 2.06-.94-2.06-.94-.94-2.06-.94 2.06-2.06.94z\"/><path d=\"M17.41 7.96l-1.37-1.37c-.4-.4-.92-.59-1.43-.59-.52 0-1.04.2-1.43.59L10.3 9.45l-7.72 7.72c-.78.78-.78 2.05 0 2.83L4 21.41c.39.39.9.59 1.41.59.51 0 1.02-.2 1.41-.59l7.78-7.78 2.81-2.81c.8-.78.8-2.07 0-2.86zM5.41 20L4 18.59l7.72-7.72 1.47 1.35L5.41 20z\"/>\n",
              "  </svg>\n",
              "      </button>\n",
              "\n",
              "\n",
              "\n",
              "    <div id=\"df-e9b18c98-5aaf-45df-ba41-3035f25831d2\">\n",
              "      <button class=\"colab-df-quickchart\" onclick=\"quickchart('df-e9b18c98-5aaf-45df-ba41-3035f25831d2')\"\n",
              "              title=\"Suggest charts.\"\n",
              "              style=\"display:none;\">\n",
              "\n",
              "<svg xmlns=\"http://www.w3.org/2000/svg\" height=\"24px\"viewBox=\"0 0 24 24\"\n",
              "     width=\"24px\">\n",
              "    <g>\n",
              "        <path d=\"M19 3H5c-1.1 0-2 .9-2 2v14c0 1.1.9 2 2 2h14c1.1 0 2-.9 2-2V5c0-1.1-.9-2-2-2zM9 17H7v-7h2v7zm4 0h-2V7h2v10zm4 0h-2v-4h2v4z\"/>\n",
              "    </g>\n",
              "</svg>\n",
              "      </button>\n",
              "    </div>\n",
              "\n",
              "<style>\n",
              "  .colab-df-quickchart {\n",
              "    background-color: #E8F0FE;\n",
              "    border: none;\n",
              "    border-radius: 50%;\n",
              "    cursor: pointer;\n",
              "    display: none;\n",
              "    fill: #1967D2;\n",
              "    height: 32px;\n",
              "    padding: 0 0 0 0;\n",
              "    width: 32px;\n",
              "  }\n",
              "\n",
              "  .colab-df-quickchart:hover {\n",
              "    background-color: #E2EBFA;\n",
              "    box-shadow: 0px 1px 2px rgba(60, 64, 67, 0.3), 0px 1px 3px 1px rgba(60, 64, 67, 0.15);\n",
              "    fill: #174EA6;\n",
              "  }\n",
              "\n",
              "  [theme=dark] .colab-df-quickchart {\n",
              "    background-color: #3B4455;\n",
              "    fill: #D2E3FC;\n",
              "  }\n",
              "\n",
              "  [theme=dark] .colab-df-quickchart:hover {\n",
              "    background-color: #434B5C;\n",
              "    box-shadow: 0px 1px 3px 1px rgba(0, 0, 0, 0.15);\n",
              "    filter: drop-shadow(0px 1px 2px rgba(0, 0, 0, 0.3));\n",
              "    fill: #FFFFFF;\n",
              "  }\n",
              "</style>\n",
              "\n",
              "    <script>\n",
              "      async function quickchart(key) {\n",
              "        const containerElement = document.querySelector('#' + key);\n",
              "        const charts = await google.colab.kernel.invokeFunction(\n",
              "            'suggestCharts', [key], {});\n",
              "      }\n",
              "    </script>\n",
              "\n",
              "      <script>\n",
              "\n",
              "function displayQuickchartButton(domScope) {\n",
              "  let quickchartButtonEl =\n",
              "    domScope.querySelector('#df-e9b18c98-5aaf-45df-ba41-3035f25831d2 button.colab-df-quickchart');\n",
              "  quickchartButtonEl.style.display =\n",
              "    google.colab.kernel.accessAllowed ? 'block' : 'none';\n",
              "}\n",
              "\n",
              "        displayQuickchartButton(document);\n",
              "      </script>\n",
              "      <style>\n",
              "    .colab-df-container {\n",
              "      display:flex;\n",
              "      flex-wrap:wrap;\n",
              "      gap: 12px;\n",
              "    }\n",
              "\n",
              "    .colab-df-convert {\n",
              "      background-color: #E8F0FE;\n",
              "      border: none;\n",
              "      border-radius: 50%;\n",
              "      cursor: pointer;\n",
              "      display: none;\n",
              "      fill: #1967D2;\n",
              "      height: 32px;\n",
              "      padding: 0 0 0 0;\n",
              "      width: 32px;\n",
              "    }\n",
              "\n",
              "    .colab-df-convert:hover {\n",
              "      background-color: #E2EBFA;\n",
              "      box-shadow: 0px 1px 2px rgba(60, 64, 67, 0.3), 0px 1px 3px 1px rgba(60, 64, 67, 0.15);\n",
              "      fill: #174EA6;\n",
              "    }\n",
              "\n",
              "    [theme=dark] .colab-df-convert {\n",
              "      background-color: #3B4455;\n",
              "      fill: #D2E3FC;\n",
              "    }\n",
              "\n",
              "    [theme=dark] .colab-df-convert:hover {\n",
              "      background-color: #434B5C;\n",
              "      box-shadow: 0px 1px 3px 1px rgba(0, 0, 0, 0.15);\n",
              "      filter: drop-shadow(0px 1px 2px rgba(0, 0, 0, 0.3));\n",
              "      fill: #FFFFFF;\n",
              "    }\n",
              "  </style>\n",
              "\n",
              "      <script>\n",
              "        const buttonEl =\n",
              "          document.querySelector('#df-cc42b99c-aefb-49db-81b4-c0d5b4936ae5 button.colab-df-convert');\n",
              "        buttonEl.style.display =\n",
              "          google.colab.kernel.accessAllowed ? 'block' : 'none';\n",
              "\n",
              "        async function convertToInteractive(key) {\n",
              "          const element = document.querySelector('#df-cc42b99c-aefb-49db-81b4-c0d5b4936ae5');\n",
              "          const dataTable =\n",
              "            await google.colab.kernel.invokeFunction('convertToInteractive',\n",
              "                                                     [key], {});\n",
              "          if (!dataTable) return;\n",
              "\n",
              "          const docLinkHtml = 'Like what you see? Visit the ' +\n",
              "            '<a target=\"_blank\" href=https://colab.research.google.com/notebooks/data_table.ipynb>data table notebook</a>'\n",
              "            + ' to learn more about interactive tables.';\n",
              "          element.innerHTML = '';\n",
              "          dataTable['output_type'] = 'display_data';\n",
              "          await google.colab.output.renderOutput(dataTable, element);\n",
              "          const docLink = document.createElement('div');\n",
              "          docLink.innerHTML = docLinkHtml;\n",
              "          element.appendChild(docLink);\n",
              "        }\n",
              "      </script>\n",
              "    </div>\n",
              "  </div>\n"
            ]
          },
          "metadata": {},
          "execution_count": 2
        }
      ]
    },
    {
      "cell_type": "markdown",
      "source": [
        "# **Preprocessing the data**"
      ],
      "metadata": {
        "id": "vY6w0PXprlf6"
      }
    },
    {
      "cell_type": "markdown",
      "source": [
        "**Checking whether the dataset contains any missing values or not**"
      ],
      "metadata": {
        "id": "7N8honiRjx2E"
      }
    },
    {
      "cell_type": "code",
      "source": [
        "df.isna().sum()"
      ],
      "metadata": {
        "colab": {
          "base_uri": "https://localhost:8080/"
        },
        "id": "qphrSqx0uj9o",
        "outputId": "020cb580-f6a7-4153-c34a-19109a0b5f43"
      },
      "execution_count": null,
      "outputs": [
        {
          "output_type": "execute_result",
          "data": {
            "text/plain": [
              "Person ID                  0\n",
              "Gender                     0\n",
              "Age                        0\n",
              "Occupation                 0\n",
              "Sleep Duration             0\n",
              "Quality of Sleep           0\n",
              "Physical Activity Level    0\n",
              "Stress Level               0\n",
              "BMI Category               0\n",
              "Blood Pressure             0\n",
              "Heart Rate                 0\n",
              "Daily Steps                0\n",
              "Sleep Disorder             0\n",
              "dtype: int64"
            ]
          },
          "metadata": {},
          "execution_count": 3
        }
      ]
    },
    {
      "cell_type": "markdown",
      "source": [
        "**Dropping unnecessary columns from the dataset**"
      ],
      "metadata": {
        "id": "uH7wLGm2kCbo"
      }
    },
    {
      "cell_type": "code",
      "source": [
        "df.drop(['Person ID'],axis=1,inplace=True)\n",
        "df"
      ],
      "metadata": {
        "colab": {
          "base_uri": "https://localhost:8080/",
          "height": 424
        },
        "id": "LVoCDLA8vEvO",
        "outputId": "9bc575c7-c22b-41ea-f12f-ac6e162de557"
      },
      "execution_count": null,
      "outputs": [
        {
          "output_type": "execute_result",
          "data": {
            "text/plain": [
              "     Gender  Age            Occupation  Sleep Duration  Quality of Sleep  \\\n",
              "0      Male   27     Software Engineer             6.1                 6   \n",
              "1      Male   28                Doctor             6.2                 6   \n",
              "2      Male   28                Doctor             6.2                 6   \n",
              "3      Male   28  Sales Representative             5.9                 4   \n",
              "4      Male   28  Sales Representative             5.9                 4   \n",
              "..      ...  ...                   ...             ...               ...   \n",
              "369  Female   59                 Nurse             8.1                 9   \n",
              "370  Female   59                 Nurse             8.0                 9   \n",
              "371  Female   59                 Nurse             8.1                 9   \n",
              "372  Female   59                 Nurse             8.1                 9   \n",
              "373  Female   59                 Nurse             8.1                 9   \n",
              "\n",
              "     Physical Activity Level  Stress Level BMI Category Blood Pressure  \\\n",
              "0                         42             6   Overweight         126/83   \n",
              "1                         60             8       Normal         125/80   \n",
              "2                         60             8       Normal         125/80   \n",
              "3                         30             8        Obese         140/90   \n",
              "4                         30             8        Obese         140/90   \n",
              "..                       ...           ...          ...            ...   \n",
              "369                       75             3   Overweight         140/95   \n",
              "370                       75             3   Overweight         140/95   \n",
              "371                       75             3   Overweight         140/95   \n",
              "372                       75             3   Overweight         140/95   \n",
              "373                       75             3   Overweight         140/95   \n",
              "\n",
              "     Heart Rate  Daily Steps Sleep Disorder  \n",
              "0            77         4200           None  \n",
              "1            75        10000           None  \n",
              "2            75        10000           None  \n",
              "3            85         3000    Sleep Apnea  \n",
              "4            85         3000    Sleep Apnea  \n",
              "..          ...          ...            ...  \n",
              "369          68         7000    Sleep Apnea  \n",
              "370          68         7000    Sleep Apnea  \n",
              "371          68         7000    Sleep Apnea  \n",
              "372          68         7000    Sleep Apnea  \n",
              "373          68         7000    Sleep Apnea  \n",
              "\n",
              "[374 rows x 12 columns]"
            ],
            "text/html": [
              "\n",
              "\n",
              "  <div id=\"df-3a99b569-379a-4717-b526-70327e79819b\">\n",
              "    <div class=\"colab-df-container\">\n",
              "      <div>\n",
              "<style scoped>\n",
              "    .dataframe tbody tr th:only-of-type {\n",
              "        vertical-align: middle;\n",
              "    }\n",
              "\n",
              "    .dataframe tbody tr th {\n",
              "        vertical-align: top;\n",
              "    }\n",
              "\n",
              "    .dataframe thead th {\n",
              "        text-align: right;\n",
              "    }\n",
              "</style>\n",
              "<table border=\"1\" class=\"dataframe\">\n",
              "  <thead>\n",
              "    <tr style=\"text-align: right;\">\n",
              "      <th></th>\n",
              "      <th>Gender</th>\n",
              "      <th>Age</th>\n",
              "      <th>Occupation</th>\n",
              "      <th>Sleep Duration</th>\n",
              "      <th>Quality of Sleep</th>\n",
              "      <th>Physical Activity Level</th>\n",
              "      <th>Stress Level</th>\n",
              "      <th>BMI Category</th>\n",
              "      <th>Blood Pressure</th>\n",
              "      <th>Heart Rate</th>\n",
              "      <th>Daily Steps</th>\n",
              "      <th>Sleep Disorder</th>\n",
              "    </tr>\n",
              "  </thead>\n",
              "  <tbody>\n",
              "    <tr>\n",
              "      <th>0</th>\n",
              "      <td>Male</td>\n",
              "      <td>27</td>\n",
              "      <td>Software Engineer</td>\n",
              "      <td>6.1</td>\n",
              "      <td>6</td>\n",
              "      <td>42</td>\n",
              "      <td>6</td>\n",
              "      <td>Overweight</td>\n",
              "      <td>126/83</td>\n",
              "      <td>77</td>\n",
              "      <td>4200</td>\n",
              "      <td>None</td>\n",
              "    </tr>\n",
              "    <tr>\n",
              "      <th>1</th>\n",
              "      <td>Male</td>\n",
              "      <td>28</td>\n",
              "      <td>Doctor</td>\n",
              "      <td>6.2</td>\n",
              "      <td>6</td>\n",
              "      <td>60</td>\n",
              "      <td>8</td>\n",
              "      <td>Normal</td>\n",
              "      <td>125/80</td>\n",
              "      <td>75</td>\n",
              "      <td>10000</td>\n",
              "      <td>None</td>\n",
              "    </tr>\n",
              "    <tr>\n",
              "      <th>2</th>\n",
              "      <td>Male</td>\n",
              "      <td>28</td>\n",
              "      <td>Doctor</td>\n",
              "      <td>6.2</td>\n",
              "      <td>6</td>\n",
              "      <td>60</td>\n",
              "      <td>8</td>\n",
              "      <td>Normal</td>\n",
              "      <td>125/80</td>\n",
              "      <td>75</td>\n",
              "      <td>10000</td>\n",
              "      <td>None</td>\n",
              "    </tr>\n",
              "    <tr>\n",
              "      <th>3</th>\n",
              "      <td>Male</td>\n",
              "      <td>28</td>\n",
              "      <td>Sales Representative</td>\n",
              "      <td>5.9</td>\n",
              "      <td>4</td>\n",
              "      <td>30</td>\n",
              "      <td>8</td>\n",
              "      <td>Obese</td>\n",
              "      <td>140/90</td>\n",
              "      <td>85</td>\n",
              "      <td>3000</td>\n",
              "      <td>Sleep Apnea</td>\n",
              "    </tr>\n",
              "    <tr>\n",
              "      <th>4</th>\n",
              "      <td>Male</td>\n",
              "      <td>28</td>\n",
              "      <td>Sales Representative</td>\n",
              "      <td>5.9</td>\n",
              "      <td>4</td>\n",
              "      <td>30</td>\n",
              "      <td>8</td>\n",
              "      <td>Obese</td>\n",
              "      <td>140/90</td>\n",
              "      <td>85</td>\n",
              "      <td>3000</td>\n",
              "      <td>Sleep Apnea</td>\n",
              "    </tr>\n",
              "    <tr>\n",
              "      <th>...</th>\n",
              "      <td>...</td>\n",
              "      <td>...</td>\n",
              "      <td>...</td>\n",
              "      <td>...</td>\n",
              "      <td>...</td>\n",
              "      <td>...</td>\n",
              "      <td>...</td>\n",
              "      <td>...</td>\n",
              "      <td>...</td>\n",
              "      <td>...</td>\n",
              "      <td>...</td>\n",
              "      <td>...</td>\n",
              "    </tr>\n",
              "    <tr>\n",
              "      <th>369</th>\n",
              "      <td>Female</td>\n",
              "      <td>59</td>\n",
              "      <td>Nurse</td>\n",
              "      <td>8.1</td>\n",
              "      <td>9</td>\n",
              "      <td>75</td>\n",
              "      <td>3</td>\n",
              "      <td>Overweight</td>\n",
              "      <td>140/95</td>\n",
              "      <td>68</td>\n",
              "      <td>7000</td>\n",
              "      <td>Sleep Apnea</td>\n",
              "    </tr>\n",
              "    <tr>\n",
              "      <th>370</th>\n",
              "      <td>Female</td>\n",
              "      <td>59</td>\n",
              "      <td>Nurse</td>\n",
              "      <td>8.0</td>\n",
              "      <td>9</td>\n",
              "      <td>75</td>\n",
              "      <td>3</td>\n",
              "      <td>Overweight</td>\n",
              "      <td>140/95</td>\n",
              "      <td>68</td>\n",
              "      <td>7000</td>\n",
              "      <td>Sleep Apnea</td>\n",
              "    </tr>\n",
              "    <tr>\n",
              "      <th>371</th>\n",
              "      <td>Female</td>\n",
              "      <td>59</td>\n",
              "      <td>Nurse</td>\n",
              "      <td>8.1</td>\n",
              "      <td>9</td>\n",
              "      <td>75</td>\n",
              "      <td>3</td>\n",
              "      <td>Overweight</td>\n",
              "      <td>140/95</td>\n",
              "      <td>68</td>\n",
              "      <td>7000</td>\n",
              "      <td>Sleep Apnea</td>\n",
              "    </tr>\n",
              "    <tr>\n",
              "      <th>372</th>\n",
              "      <td>Female</td>\n",
              "      <td>59</td>\n",
              "      <td>Nurse</td>\n",
              "      <td>8.1</td>\n",
              "      <td>9</td>\n",
              "      <td>75</td>\n",
              "      <td>3</td>\n",
              "      <td>Overweight</td>\n",
              "      <td>140/95</td>\n",
              "      <td>68</td>\n",
              "      <td>7000</td>\n",
              "      <td>Sleep Apnea</td>\n",
              "    </tr>\n",
              "    <tr>\n",
              "      <th>373</th>\n",
              "      <td>Female</td>\n",
              "      <td>59</td>\n",
              "      <td>Nurse</td>\n",
              "      <td>8.1</td>\n",
              "      <td>9</td>\n",
              "      <td>75</td>\n",
              "      <td>3</td>\n",
              "      <td>Overweight</td>\n",
              "      <td>140/95</td>\n",
              "      <td>68</td>\n",
              "      <td>7000</td>\n",
              "      <td>Sleep Apnea</td>\n",
              "    </tr>\n",
              "  </tbody>\n",
              "</table>\n",
              "<p>374 rows × 12 columns</p>\n",
              "</div>\n",
              "      <button class=\"colab-df-convert\" onclick=\"convertToInteractive('df-3a99b569-379a-4717-b526-70327e79819b')\"\n",
              "              title=\"Convert this dataframe to an interactive table.\"\n",
              "              style=\"display:none;\">\n",
              "\n",
              "  <svg xmlns=\"http://www.w3.org/2000/svg\" height=\"24px\"viewBox=\"0 0 24 24\"\n",
              "       width=\"24px\">\n",
              "    <path d=\"M0 0h24v24H0V0z\" fill=\"none\"/>\n",
              "    <path d=\"M18.56 5.44l.94 2.06.94-2.06 2.06-.94-2.06-.94-.94-2.06-.94 2.06-2.06.94zm-11 1L8.5 8.5l.94-2.06 2.06-.94-2.06-.94L8.5 2.5l-.94 2.06-2.06.94zm10 10l.94 2.06.94-2.06 2.06-.94-2.06-.94-.94-2.06-.94 2.06-2.06.94z\"/><path d=\"M17.41 7.96l-1.37-1.37c-.4-.4-.92-.59-1.43-.59-.52 0-1.04.2-1.43.59L10.3 9.45l-7.72 7.72c-.78.78-.78 2.05 0 2.83L4 21.41c.39.39.9.59 1.41.59.51 0 1.02-.2 1.41-.59l7.78-7.78 2.81-2.81c.8-.78.8-2.07 0-2.86zM5.41 20L4 18.59l7.72-7.72 1.47 1.35L5.41 20z\"/>\n",
              "  </svg>\n",
              "      </button>\n",
              "\n",
              "\n",
              "\n",
              "    <div id=\"df-84d62a06-e39a-439b-af14-704b41c333ee\">\n",
              "      <button class=\"colab-df-quickchart\" onclick=\"quickchart('df-84d62a06-e39a-439b-af14-704b41c333ee')\"\n",
              "              title=\"Suggest charts.\"\n",
              "              style=\"display:none;\">\n",
              "\n",
              "<svg xmlns=\"http://www.w3.org/2000/svg\" height=\"24px\"viewBox=\"0 0 24 24\"\n",
              "     width=\"24px\">\n",
              "    <g>\n",
              "        <path d=\"M19 3H5c-1.1 0-2 .9-2 2v14c0 1.1.9 2 2 2h14c1.1 0 2-.9 2-2V5c0-1.1-.9-2-2-2zM9 17H7v-7h2v7zm4 0h-2V7h2v10zm4 0h-2v-4h2v4z\"/>\n",
              "    </g>\n",
              "</svg>\n",
              "      </button>\n",
              "    </div>\n",
              "\n",
              "<style>\n",
              "  .colab-df-quickchart {\n",
              "    background-color: #E8F0FE;\n",
              "    border: none;\n",
              "    border-radius: 50%;\n",
              "    cursor: pointer;\n",
              "    display: none;\n",
              "    fill: #1967D2;\n",
              "    height: 32px;\n",
              "    padding: 0 0 0 0;\n",
              "    width: 32px;\n",
              "  }\n",
              "\n",
              "  .colab-df-quickchart:hover {\n",
              "    background-color: #E2EBFA;\n",
              "    box-shadow: 0px 1px 2px rgba(60, 64, 67, 0.3), 0px 1px 3px 1px rgba(60, 64, 67, 0.15);\n",
              "    fill: #174EA6;\n",
              "  }\n",
              "\n",
              "  [theme=dark] .colab-df-quickchart {\n",
              "    background-color: #3B4455;\n",
              "    fill: #D2E3FC;\n",
              "  }\n",
              "\n",
              "  [theme=dark] .colab-df-quickchart:hover {\n",
              "    background-color: #434B5C;\n",
              "    box-shadow: 0px 1px 3px 1px rgba(0, 0, 0, 0.15);\n",
              "    filter: drop-shadow(0px 1px 2px rgba(0, 0, 0, 0.3));\n",
              "    fill: #FFFFFF;\n",
              "  }\n",
              "</style>\n",
              "\n",
              "    <script>\n",
              "      async function quickchart(key) {\n",
              "        const containerElement = document.querySelector('#' + key);\n",
              "        const charts = await google.colab.kernel.invokeFunction(\n",
              "            'suggestCharts', [key], {});\n",
              "      }\n",
              "    </script>\n",
              "\n",
              "      <script>\n",
              "\n",
              "function displayQuickchartButton(domScope) {\n",
              "  let quickchartButtonEl =\n",
              "    domScope.querySelector('#df-84d62a06-e39a-439b-af14-704b41c333ee button.colab-df-quickchart');\n",
              "  quickchartButtonEl.style.display =\n",
              "    google.colab.kernel.accessAllowed ? 'block' : 'none';\n",
              "}\n",
              "\n",
              "        displayQuickchartButton(document);\n",
              "      </script>\n",
              "      <style>\n",
              "    .colab-df-container {\n",
              "      display:flex;\n",
              "      flex-wrap:wrap;\n",
              "      gap: 12px;\n",
              "    }\n",
              "\n",
              "    .colab-df-convert {\n",
              "      background-color: #E8F0FE;\n",
              "      border: none;\n",
              "      border-radius: 50%;\n",
              "      cursor: pointer;\n",
              "      display: none;\n",
              "      fill: #1967D2;\n",
              "      height: 32px;\n",
              "      padding: 0 0 0 0;\n",
              "      width: 32px;\n",
              "    }\n",
              "\n",
              "    .colab-df-convert:hover {\n",
              "      background-color: #E2EBFA;\n",
              "      box-shadow: 0px 1px 2px rgba(60, 64, 67, 0.3), 0px 1px 3px 1px rgba(60, 64, 67, 0.15);\n",
              "      fill: #174EA6;\n",
              "    }\n",
              "\n",
              "    [theme=dark] .colab-df-convert {\n",
              "      background-color: #3B4455;\n",
              "      fill: #D2E3FC;\n",
              "    }\n",
              "\n",
              "    [theme=dark] .colab-df-convert:hover {\n",
              "      background-color: #434B5C;\n",
              "      box-shadow: 0px 1px 3px 1px rgba(0, 0, 0, 0.15);\n",
              "      filter: drop-shadow(0px 1px 2px rgba(0, 0, 0, 0.3));\n",
              "      fill: #FFFFFF;\n",
              "    }\n",
              "  </style>\n",
              "\n",
              "      <script>\n",
              "        const buttonEl =\n",
              "          document.querySelector('#df-3a99b569-379a-4717-b526-70327e79819b button.colab-df-convert');\n",
              "        buttonEl.style.display =\n",
              "          google.colab.kernel.accessAllowed ? 'block' : 'none';\n",
              "\n",
              "        async function convertToInteractive(key) {\n",
              "          const element = document.querySelector('#df-3a99b569-379a-4717-b526-70327e79819b');\n",
              "          const dataTable =\n",
              "            await google.colab.kernel.invokeFunction('convertToInteractive',\n",
              "                                                     [key], {});\n",
              "          if (!dataTable) return;\n",
              "\n",
              "          const docLinkHtml = 'Like what you see? Visit the ' +\n",
              "            '<a target=\"_blank\" href=https://colab.research.google.com/notebooks/data_table.ipynb>data table notebook</a>'\n",
              "            + ' to learn more about interactive tables.';\n",
              "          element.innerHTML = '';\n",
              "          dataTable['output_type'] = 'display_data';\n",
              "          await google.colab.output.renderOutput(dataTable, element);\n",
              "          const docLink = document.createElement('div');\n",
              "          docLink.innerHTML = docLinkHtml;\n",
              "          element.appendChild(docLink);\n",
              "        }\n",
              "      </script>\n",
              "    </div>\n",
              "  </div>\n"
            ]
          },
          "metadata": {},
          "execution_count": 4
        }
      ]
    },
    {
      "cell_type": "markdown",
      "source": [
        "**Checking each attribute in the column 'BMI Category'**"
      ],
      "metadata": {
        "id": "xqtthpV0kW2k"
      }
    },
    {
      "cell_type": "code",
      "source": [
        "df['BMI Category'].unique()"
      ],
      "metadata": {
        "colab": {
          "base_uri": "https://localhost:8080/"
        },
        "id": "tF8EYa054gGT",
        "outputId": "a159067d-fce7-49db-f1cf-19514a9c2265"
      },
      "execution_count": null,
      "outputs": [
        {
          "output_type": "execute_result",
          "data": {
            "text/plain": [
              "array(['Overweight', 'Normal', 'Obese', 'Normal Weight'], dtype=object)"
            ]
          },
          "metadata": {},
          "execution_count": 5
        }
      ]
    },
    {
      "cell_type": "code",
      "source": [
        "df['BMI Category'].value_counts()"
      ],
      "metadata": {
        "colab": {
          "base_uri": "https://localhost:8080/"
        },
        "id": "l8R6d-XPWylS",
        "outputId": "4e2c54e6-6523-4f3e-9039-87b4614f2e83"
      },
      "execution_count": null,
      "outputs": [
        {
          "output_type": "execute_result",
          "data": {
            "text/plain": [
              "Normal           195\n",
              "Overweight       148\n",
              "Normal Weight     21\n",
              "Obese             10\n",
              "Name: BMI Category, dtype: int64"
            ]
          },
          "metadata": {},
          "execution_count": 6
        }
      ]
    },
    {
      "cell_type": "markdown",
      "source": [
        "**Renplacing the attributes as follows:**\n",
        "\n",
        "'Normal Weight' --> 'Under Weight'"
      ],
      "metadata": {
        "id": "E8l3emtGkjci"
      }
    },
    {
      "cell_type": "code",
      "source": [
        "df['BMI Category']=df['BMI Category'].str.replace('Normal Weight','Under Weight')\n",
        "df"
      ],
      "metadata": {
        "colab": {
          "base_uri": "https://localhost:8080/",
          "height": 424
        },
        "id": "0edU1Vs0YzmM",
        "outputId": "84b761c9-4840-4a84-d088-2299980b61eb"
      },
      "execution_count": null,
      "outputs": [
        {
          "output_type": "execute_result",
          "data": {
            "text/plain": [
              "     Gender  Age            Occupation  Sleep Duration  Quality of Sleep  \\\n",
              "0      Male   27     Software Engineer             6.1                 6   \n",
              "1      Male   28                Doctor             6.2                 6   \n",
              "2      Male   28                Doctor             6.2                 6   \n",
              "3      Male   28  Sales Representative             5.9                 4   \n",
              "4      Male   28  Sales Representative             5.9                 4   \n",
              "..      ...  ...                   ...             ...               ...   \n",
              "369  Female   59                 Nurse             8.1                 9   \n",
              "370  Female   59                 Nurse             8.0                 9   \n",
              "371  Female   59                 Nurse             8.1                 9   \n",
              "372  Female   59                 Nurse             8.1                 9   \n",
              "373  Female   59                 Nurse             8.1                 9   \n",
              "\n",
              "     Physical Activity Level  Stress Level BMI Category Blood Pressure  \\\n",
              "0                         42             6   Overweight         126/83   \n",
              "1                         60             8       Normal         125/80   \n",
              "2                         60             8       Normal         125/80   \n",
              "3                         30             8        Obese         140/90   \n",
              "4                         30             8        Obese         140/90   \n",
              "..                       ...           ...          ...            ...   \n",
              "369                       75             3   Overweight         140/95   \n",
              "370                       75             3   Overweight         140/95   \n",
              "371                       75             3   Overweight         140/95   \n",
              "372                       75             3   Overweight         140/95   \n",
              "373                       75             3   Overweight         140/95   \n",
              "\n",
              "     Heart Rate  Daily Steps Sleep Disorder  \n",
              "0            77         4200           None  \n",
              "1            75        10000           None  \n",
              "2            75        10000           None  \n",
              "3            85         3000    Sleep Apnea  \n",
              "4            85         3000    Sleep Apnea  \n",
              "..          ...          ...            ...  \n",
              "369          68         7000    Sleep Apnea  \n",
              "370          68         7000    Sleep Apnea  \n",
              "371          68         7000    Sleep Apnea  \n",
              "372          68         7000    Sleep Apnea  \n",
              "373          68         7000    Sleep Apnea  \n",
              "\n",
              "[374 rows x 12 columns]"
            ],
            "text/html": [
              "\n",
              "\n",
              "  <div id=\"df-b1bcd2c3-ec80-4277-9e94-105df05c9d58\">\n",
              "    <div class=\"colab-df-container\">\n",
              "      <div>\n",
              "<style scoped>\n",
              "    .dataframe tbody tr th:only-of-type {\n",
              "        vertical-align: middle;\n",
              "    }\n",
              "\n",
              "    .dataframe tbody tr th {\n",
              "        vertical-align: top;\n",
              "    }\n",
              "\n",
              "    .dataframe thead th {\n",
              "        text-align: right;\n",
              "    }\n",
              "</style>\n",
              "<table border=\"1\" class=\"dataframe\">\n",
              "  <thead>\n",
              "    <tr style=\"text-align: right;\">\n",
              "      <th></th>\n",
              "      <th>Gender</th>\n",
              "      <th>Age</th>\n",
              "      <th>Occupation</th>\n",
              "      <th>Sleep Duration</th>\n",
              "      <th>Quality of Sleep</th>\n",
              "      <th>Physical Activity Level</th>\n",
              "      <th>Stress Level</th>\n",
              "      <th>BMI Category</th>\n",
              "      <th>Blood Pressure</th>\n",
              "      <th>Heart Rate</th>\n",
              "      <th>Daily Steps</th>\n",
              "      <th>Sleep Disorder</th>\n",
              "    </tr>\n",
              "  </thead>\n",
              "  <tbody>\n",
              "    <tr>\n",
              "      <th>0</th>\n",
              "      <td>Male</td>\n",
              "      <td>27</td>\n",
              "      <td>Software Engineer</td>\n",
              "      <td>6.1</td>\n",
              "      <td>6</td>\n",
              "      <td>42</td>\n",
              "      <td>6</td>\n",
              "      <td>Overweight</td>\n",
              "      <td>126/83</td>\n",
              "      <td>77</td>\n",
              "      <td>4200</td>\n",
              "      <td>None</td>\n",
              "    </tr>\n",
              "    <tr>\n",
              "      <th>1</th>\n",
              "      <td>Male</td>\n",
              "      <td>28</td>\n",
              "      <td>Doctor</td>\n",
              "      <td>6.2</td>\n",
              "      <td>6</td>\n",
              "      <td>60</td>\n",
              "      <td>8</td>\n",
              "      <td>Normal</td>\n",
              "      <td>125/80</td>\n",
              "      <td>75</td>\n",
              "      <td>10000</td>\n",
              "      <td>None</td>\n",
              "    </tr>\n",
              "    <tr>\n",
              "      <th>2</th>\n",
              "      <td>Male</td>\n",
              "      <td>28</td>\n",
              "      <td>Doctor</td>\n",
              "      <td>6.2</td>\n",
              "      <td>6</td>\n",
              "      <td>60</td>\n",
              "      <td>8</td>\n",
              "      <td>Normal</td>\n",
              "      <td>125/80</td>\n",
              "      <td>75</td>\n",
              "      <td>10000</td>\n",
              "      <td>None</td>\n",
              "    </tr>\n",
              "    <tr>\n",
              "      <th>3</th>\n",
              "      <td>Male</td>\n",
              "      <td>28</td>\n",
              "      <td>Sales Representative</td>\n",
              "      <td>5.9</td>\n",
              "      <td>4</td>\n",
              "      <td>30</td>\n",
              "      <td>8</td>\n",
              "      <td>Obese</td>\n",
              "      <td>140/90</td>\n",
              "      <td>85</td>\n",
              "      <td>3000</td>\n",
              "      <td>Sleep Apnea</td>\n",
              "    </tr>\n",
              "    <tr>\n",
              "      <th>4</th>\n",
              "      <td>Male</td>\n",
              "      <td>28</td>\n",
              "      <td>Sales Representative</td>\n",
              "      <td>5.9</td>\n",
              "      <td>4</td>\n",
              "      <td>30</td>\n",
              "      <td>8</td>\n",
              "      <td>Obese</td>\n",
              "      <td>140/90</td>\n",
              "      <td>85</td>\n",
              "      <td>3000</td>\n",
              "      <td>Sleep Apnea</td>\n",
              "    </tr>\n",
              "    <tr>\n",
              "      <th>...</th>\n",
              "      <td>...</td>\n",
              "      <td>...</td>\n",
              "      <td>...</td>\n",
              "      <td>...</td>\n",
              "      <td>...</td>\n",
              "      <td>...</td>\n",
              "      <td>...</td>\n",
              "      <td>...</td>\n",
              "      <td>...</td>\n",
              "      <td>...</td>\n",
              "      <td>...</td>\n",
              "      <td>...</td>\n",
              "    </tr>\n",
              "    <tr>\n",
              "      <th>369</th>\n",
              "      <td>Female</td>\n",
              "      <td>59</td>\n",
              "      <td>Nurse</td>\n",
              "      <td>8.1</td>\n",
              "      <td>9</td>\n",
              "      <td>75</td>\n",
              "      <td>3</td>\n",
              "      <td>Overweight</td>\n",
              "      <td>140/95</td>\n",
              "      <td>68</td>\n",
              "      <td>7000</td>\n",
              "      <td>Sleep Apnea</td>\n",
              "    </tr>\n",
              "    <tr>\n",
              "      <th>370</th>\n",
              "      <td>Female</td>\n",
              "      <td>59</td>\n",
              "      <td>Nurse</td>\n",
              "      <td>8.0</td>\n",
              "      <td>9</td>\n",
              "      <td>75</td>\n",
              "      <td>3</td>\n",
              "      <td>Overweight</td>\n",
              "      <td>140/95</td>\n",
              "      <td>68</td>\n",
              "      <td>7000</td>\n",
              "      <td>Sleep Apnea</td>\n",
              "    </tr>\n",
              "    <tr>\n",
              "      <th>371</th>\n",
              "      <td>Female</td>\n",
              "      <td>59</td>\n",
              "      <td>Nurse</td>\n",
              "      <td>8.1</td>\n",
              "      <td>9</td>\n",
              "      <td>75</td>\n",
              "      <td>3</td>\n",
              "      <td>Overweight</td>\n",
              "      <td>140/95</td>\n",
              "      <td>68</td>\n",
              "      <td>7000</td>\n",
              "      <td>Sleep Apnea</td>\n",
              "    </tr>\n",
              "    <tr>\n",
              "      <th>372</th>\n",
              "      <td>Female</td>\n",
              "      <td>59</td>\n",
              "      <td>Nurse</td>\n",
              "      <td>8.1</td>\n",
              "      <td>9</td>\n",
              "      <td>75</td>\n",
              "      <td>3</td>\n",
              "      <td>Overweight</td>\n",
              "      <td>140/95</td>\n",
              "      <td>68</td>\n",
              "      <td>7000</td>\n",
              "      <td>Sleep Apnea</td>\n",
              "    </tr>\n",
              "    <tr>\n",
              "      <th>373</th>\n",
              "      <td>Female</td>\n",
              "      <td>59</td>\n",
              "      <td>Nurse</td>\n",
              "      <td>8.1</td>\n",
              "      <td>9</td>\n",
              "      <td>75</td>\n",
              "      <td>3</td>\n",
              "      <td>Overweight</td>\n",
              "      <td>140/95</td>\n",
              "      <td>68</td>\n",
              "      <td>7000</td>\n",
              "      <td>Sleep Apnea</td>\n",
              "    </tr>\n",
              "  </tbody>\n",
              "</table>\n",
              "<p>374 rows × 12 columns</p>\n",
              "</div>\n",
              "      <button class=\"colab-df-convert\" onclick=\"convertToInteractive('df-b1bcd2c3-ec80-4277-9e94-105df05c9d58')\"\n",
              "              title=\"Convert this dataframe to an interactive table.\"\n",
              "              style=\"display:none;\">\n",
              "\n",
              "  <svg xmlns=\"http://www.w3.org/2000/svg\" height=\"24px\"viewBox=\"0 0 24 24\"\n",
              "       width=\"24px\">\n",
              "    <path d=\"M0 0h24v24H0V0z\" fill=\"none\"/>\n",
              "    <path d=\"M18.56 5.44l.94 2.06.94-2.06 2.06-.94-2.06-.94-.94-2.06-.94 2.06-2.06.94zm-11 1L8.5 8.5l.94-2.06 2.06-.94-2.06-.94L8.5 2.5l-.94 2.06-2.06.94zm10 10l.94 2.06.94-2.06 2.06-.94-2.06-.94-.94-2.06-.94 2.06-2.06.94z\"/><path d=\"M17.41 7.96l-1.37-1.37c-.4-.4-.92-.59-1.43-.59-.52 0-1.04.2-1.43.59L10.3 9.45l-7.72 7.72c-.78.78-.78 2.05 0 2.83L4 21.41c.39.39.9.59 1.41.59.51 0 1.02-.2 1.41-.59l7.78-7.78 2.81-2.81c.8-.78.8-2.07 0-2.86zM5.41 20L4 18.59l7.72-7.72 1.47 1.35L5.41 20z\"/>\n",
              "  </svg>\n",
              "      </button>\n",
              "\n",
              "\n",
              "\n",
              "    <div id=\"df-a12eed68-9c9c-4a91-ac8a-3b2ff29a61aa\">\n",
              "      <button class=\"colab-df-quickchart\" onclick=\"quickchart('df-a12eed68-9c9c-4a91-ac8a-3b2ff29a61aa')\"\n",
              "              title=\"Suggest charts.\"\n",
              "              style=\"display:none;\">\n",
              "\n",
              "<svg xmlns=\"http://www.w3.org/2000/svg\" height=\"24px\"viewBox=\"0 0 24 24\"\n",
              "     width=\"24px\">\n",
              "    <g>\n",
              "        <path d=\"M19 3H5c-1.1 0-2 .9-2 2v14c0 1.1.9 2 2 2h14c1.1 0 2-.9 2-2V5c0-1.1-.9-2-2-2zM9 17H7v-7h2v7zm4 0h-2V7h2v10zm4 0h-2v-4h2v4z\"/>\n",
              "    </g>\n",
              "</svg>\n",
              "      </button>\n",
              "    </div>\n",
              "\n",
              "<style>\n",
              "  .colab-df-quickchart {\n",
              "    background-color: #E8F0FE;\n",
              "    border: none;\n",
              "    border-radius: 50%;\n",
              "    cursor: pointer;\n",
              "    display: none;\n",
              "    fill: #1967D2;\n",
              "    height: 32px;\n",
              "    padding: 0 0 0 0;\n",
              "    width: 32px;\n",
              "  }\n",
              "\n",
              "  .colab-df-quickchart:hover {\n",
              "    background-color: #E2EBFA;\n",
              "    box-shadow: 0px 1px 2px rgba(60, 64, 67, 0.3), 0px 1px 3px 1px rgba(60, 64, 67, 0.15);\n",
              "    fill: #174EA6;\n",
              "  }\n",
              "\n",
              "  [theme=dark] .colab-df-quickchart {\n",
              "    background-color: #3B4455;\n",
              "    fill: #D2E3FC;\n",
              "  }\n",
              "\n",
              "  [theme=dark] .colab-df-quickchart:hover {\n",
              "    background-color: #434B5C;\n",
              "    box-shadow: 0px 1px 3px 1px rgba(0, 0, 0, 0.15);\n",
              "    filter: drop-shadow(0px 1px 2px rgba(0, 0, 0, 0.3));\n",
              "    fill: #FFFFFF;\n",
              "  }\n",
              "</style>\n",
              "\n",
              "    <script>\n",
              "      async function quickchart(key) {\n",
              "        const containerElement = document.querySelector('#' + key);\n",
              "        const charts = await google.colab.kernel.invokeFunction(\n",
              "            'suggestCharts', [key], {});\n",
              "      }\n",
              "    </script>\n",
              "\n",
              "      <script>\n",
              "\n",
              "function displayQuickchartButton(domScope) {\n",
              "  let quickchartButtonEl =\n",
              "    domScope.querySelector('#df-a12eed68-9c9c-4a91-ac8a-3b2ff29a61aa button.colab-df-quickchart');\n",
              "  quickchartButtonEl.style.display =\n",
              "    google.colab.kernel.accessAllowed ? 'block' : 'none';\n",
              "}\n",
              "\n",
              "        displayQuickchartButton(document);\n",
              "      </script>\n",
              "      <style>\n",
              "    .colab-df-container {\n",
              "      display:flex;\n",
              "      flex-wrap:wrap;\n",
              "      gap: 12px;\n",
              "    }\n",
              "\n",
              "    .colab-df-convert {\n",
              "      background-color: #E8F0FE;\n",
              "      border: none;\n",
              "      border-radius: 50%;\n",
              "      cursor: pointer;\n",
              "      display: none;\n",
              "      fill: #1967D2;\n",
              "      height: 32px;\n",
              "      padding: 0 0 0 0;\n",
              "      width: 32px;\n",
              "    }\n",
              "\n",
              "    .colab-df-convert:hover {\n",
              "      background-color: #E2EBFA;\n",
              "      box-shadow: 0px 1px 2px rgba(60, 64, 67, 0.3), 0px 1px 3px 1px rgba(60, 64, 67, 0.15);\n",
              "      fill: #174EA6;\n",
              "    }\n",
              "\n",
              "    [theme=dark] .colab-df-convert {\n",
              "      background-color: #3B4455;\n",
              "      fill: #D2E3FC;\n",
              "    }\n",
              "\n",
              "    [theme=dark] .colab-df-convert:hover {\n",
              "      background-color: #434B5C;\n",
              "      box-shadow: 0px 1px 3px 1px rgba(0, 0, 0, 0.15);\n",
              "      filter: drop-shadow(0px 1px 2px rgba(0, 0, 0, 0.3));\n",
              "      fill: #FFFFFF;\n",
              "    }\n",
              "  </style>\n",
              "\n",
              "      <script>\n",
              "        const buttonEl =\n",
              "          document.querySelector('#df-b1bcd2c3-ec80-4277-9e94-105df05c9d58 button.colab-df-convert');\n",
              "        buttonEl.style.display =\n",
              "          google.colab.kernel.accessAllowed ? 'block' : 'none';\n",
              "\n",
              "        async function convertToInteractive(key) {\n",
              "          const element = document.querySelector('#df-b1bcd2c3-ec80-4277-9e94-105df05c9d58');\n",
              "          const dataTable =\n",
              "            await google.colab.kernel.invokeFunction('convertToInteractive',\n",
              "                                                     [key], {});\n",
              "          if (!dataTable) return;\n",
              "\n",
              "          const docLinkHtml = 'Like what you see? Visit the ' +\n",
              "            '<a target=\"_blank\" href=https://colab.research.google.com/notebooks/data_table.ipynb>data table notebook</a>'\n",
              "            + ' to learn more about interactive tables.';\n",
              "          element.innerHTML = '';\n",
              "          dataTable['output_type'] = 'display_data';\n",
              "          await google.colab.output.renderOutput(dataTable, element);\n",
              "          const docLink = document.createElement('div');\n",
              "          docLink.innerHTML = docLinkHtml;\n",
              "          element.appendChild(docLink);\n",
              "        }\n",
              "      </script>\n",
              "    </div>\n",
              "  </div>\n"
            ]
          },
          "metadata": {},
          "execution_count": 7
        }
      ]
    },
    {
      "cell_type": "code",
      "source": [
        "df['BMI Category'].value_counts()"
      ],
      "metadata": {
        "colab": {
          "base_uri": "https://localhost:8080/"
        },
        "id": "3VWchEpFZrrM",
        "outputId": "ef3b3372-0b37-450b-c592-67932cb38454"
      },
      "execution_count": null,
      "outputs": [
        {
          "output_type": "execute_result",
          "data": {
            "text/plain": [
              "Normal          195\n",
              "Overweight      148\n",
              "Under Weight     21\n",
              "Obese            10\n",
              "Name: BMI Category, dtype: int64"
            ]
          },
          "metadata": {},
          "execution_count": 8
        }
      ]
    },
    {
      "cell_type": "markdown",
      "source": [
        "**Splitting the column 'Blood Pressure' as 'Systolic BP' and 'Diastolic BP'**"
      ],
      "metadata": {
        "id": "LIrvVEE1lQ__"
      }
    },
    {
      "cell_type": "code",
      "source": [
        "print(df['Blood Pressure'].dtypes)"
      ],
      "metadata": {
        "colab": {
          "base_uri": "https://localhost:8080/"
        },
        "id": "IBVIlCbz5Nme",
        "outputId": "9eeecf65-5b49-4936-f046-9a4119144fdb"
      },
      "execution_count": null,
      "outputs": [
        {
          "output_type": "stream",
          "name": "stdout",
          "text": [
            "object\n"
          ]
        }
      ]
    },
    {
      "cell_type": "code",
      "source": [
        "df[['Systolic BP', 'Diastolic BP']] = df['Blood Pressure'].str.split('/', expand=True)\n",
        "df['Systolic BP'] = pd.to_numeric(df['Systolic BP'])\n",
        "df['Diastolic BP'] = pd.to_numeric(df['Diastolic BP'])\n",
        "df = df.drop(columns='Blood Pressure')\n",
        "df"
      ],
      "metadata": {
        "colab": {
          "base_uri": "https://localhost:8080/",
          "height": 468
        },
        "id": "O6kEHWF32r2Z",
        "outputId": "e6591adb-aca8-4506-c94b-dd6560b26f6a"
      },
      "execution_count": null,
      "outputs": [
        {
          "output_type": "execute_result",
          "data": {
            "text/plain": [
              "     Gender  Age            Occupation  Sleep Duration  Quality of Sleep  \\\n",
              "0      Male   27     Software Engineer             6.1                 6   \n",
              "1      Male   28                Doctor             6.2                 6   \n",
              "2      Male   28                Doctor             6.2                 6   \n",
              "3      Male   28  Sales Representative             5.9                 4   \n",
              "4      Male   28  Sales Representative             5.9                 4   \n",
              "..      ...  ...                   ...             ...               ...   \n",
              "369  Female   59                 Nurse             8.1                 9   \n",
              "370  Female   59                 Nurse             8.0                 9   \n",
              "371  Female   59                 Nurse             8.1                 9   \n",
              "372  Female   59                 Nurse             8.1                 9   \n",
              "373  Female   59                 Nurse             8.1                 9   \n",
              "\n",
              "     Physical Activity Level  Stress Level BMI Category  Heart Rate  \\\n",
              "0                         42             6   Overweight          77   \n",
              "1                         60             8       Normal          75   \n",
              "2                         60             8       Normal          75   \n",
              "3                         30             8        Obese          85   \n",
              "4                         30             8        Obese          85   \n",
              "..                       ...           ...          ...         ...   \n",
              "369                       75             3   Overweight          68   \n",
              "370                       75             3   Overweight          68   \n",
              "371                       75             3   Overweight          68   \n",
              "372                       75             3   Overweight          68   \n",
              "373                       75             3   Overweight          68   \n",
              "\n",
              "     Daily Steps Sleep Disorder  Systolic BP  Diastolic BP  \n",
              "0           4200           None          126            83  \n",
              "1          10000           None          125            80  \n",
              "2          10000           None          125            80  \n",
              "3           3000    Sleep Apnea          140            90  \n",
              "4           3000    Sleep Apnea          140            90  \n",
              "..           ...            ...          ...           ...  \n",
              "369         7000    Sleep Apnea          140            95  \n",
              "370         7000    Sleep Apnea          140            95  \n",
              "371         7000    Sleep Apnea          140            95  \n",
              "372         7000    Sleep Apnea          140            95  \n",
              "373         7000    Sleep Apnea          140            95  \n",
              "\n",
              "[374 rows x 13 columns]"
            ],
            "text/html": [
              "\n",
              "\n",
              "  <div id=\"df-aae79d52-f115-4c03-b3b8-ad859475dd1f\">\n",
              "    <div class=\"colab-df-container\">\n",
              "      <div>\n",
              "<style scoped>\n",
              "    .dataframe tbody tr th:only-of-type {\n",
              "        vertical-align: middle;\n",
              "    }\n",
              "\n",
              "    .dataframe tbody tr th {\n",
              "        vertical-align: top;\n",
              "    }\n",
              "\n",
              "    .dataframe thead th {\n",
              "        text-align: right;\n",
              "    }\n",
              "</style>\n",
              "<table border=\"1\" class=\"dataframe\">\n",
              "  <thead>\n",
              "    <tr style=\"text-align: right;\">\n",
              "      <th></th>\n",
              "      <th>Gender</th>\n",
              "      <th>Age</th>\n",
              "      <th>Occupation</th>\n",
              "      <th>Sleep Duration</th>\n",
              "      <th>Quality of Sleep</th>\n",
              "      <th>Physical Activity Level</th>\n",
              "      <th>Stress Level</th>\n",
              "      <th>BMI Category</th>\n",
              "      <th>Heart Rate</th>\n",
              "      <th>Daily Steps</th>\n",
              "      <th>Sleep Disorder</th>\n",
              "      <th>Systolic BP</th>\n",
              "      <th>Diastolic BP</th>\n",
              "    </tr>\n",
              "  </thead>\n",
              "  <tbody>\n",
              "    <tr>\n",
              "      <th>0</th>\n",
              "      <td>Male</td>\n",
              "      <td>27</td>\n",
              "      <td>Software Engineer</td>\n",
              "      <td>6.1</td>\n",
              "      <td>6</td>\n",
              "      <td>42</td>\n",
              "      <td>6</td>\n",
              "      <td>Overweight</td>\n",
              "      <td>77</td>\n",
              "      <td>4200</td>\n",
              "      <td>None</td>\n",
              "      <td>126</td>\n",
              "      <td>83</td>\n",
              "    </tr>\n",
              "    <tr>\n",
              "      <th>1</th>\n",
              "      <td>Male</td>\n",
              "      <td>28</td>\n",
              "      <td>Doctor</td>\n",
              "      <td>6.2</td>\n",
              "      <td>6</td>\n",
              "      <td>60</td>\n",
              "      <td>8</td>\n",
              "      <td>Normal</td>\n",
              "      <td>75</td>\n",
              "      <td>10000</td>\n",
              "      <td>None</td>\n",
              "      <td>125</td>\n",
              "      <td>80</td>\n",
              "    </tr>\n",
              "    <tr>\n",
              "      <th>2</th>\n",
              "      <td>Male</td>\n",
              "      <td>28</td>\n",
              "      <td>Doctor</td>\n",
              "      <td>6.2</td>\n",
              "      <td>6</td>\n",
              "      <td>60</td>\n",
              "      <td>8</td>\n",
              "      <td>Normal</td>\n",
              "      <td>75</td>\n",
              "      <td>10000</td>\n",
              "      <td>None</td>\n",
              "      <td>125</td>\n",
              "      <td>80</td>\n",
              "    </tr>\n",
              "    <tr>\n",
              "      <th>3</th>\n",
              "      <td>Male</td>\n",
              "      <td>28</td>\n",
              "      <td>Sales Representative</td>\n",
              "      <td>5.9</td>\n",
              "      <td>4</td>\n",
              "      <td>30</td>\n",
              "      <td>8</td>\n",
              "      <td>Obese</td>\n",
              "      <td>85</td>\n",
              "      <td>3000</td>\n",
              "      <td>Sleep Apnea</td>\n",
              "      <td>140</td>\n",
              "      <td>90</td>\n",
              "    </tr>\n",
              "    <tr>\n",
              "      <th>4</th>\n",
              "      <td>Male</td>\n",
              "      <td>28</td>\n",
              "      <td>Sales Representative</td>\n",
              "      <td>5.9</td>\n",
              "      <td>4</td>\n",
              "      <td>30</td>\n",
              "      <td>8</td>\n",
              "      <td>Obese</td>\n",
              "      <td>85</td>\n",
              "      <td>3000</td>\n",
              "      <td>Sleep Apnea</td>\n",
              "      <td>140</td>\n",
              "      <td>90</td>\n",
              "    </tr>\n",
              "    <tr>\n",
              "      <th>...</th>\n",
              "      <td>...</td>\n",
              "      <td>...</td>\n",
              "      <td>...</td>\n",
              "      <td>...</td>\n",
              "      <td>...</td>\n",
              "      <td>...</td>\n",
              "      <td>...</td>\n",
              "      <td>...</td>\n",
              "      <td>...</td>\n",
              "      <td>...</td>\n",
              "      <td>...</td>\n",
              "      <td>...</td>\n",
              "      <td>...</td>\n",
              "    </tr>\n",
              "    <tr>\n",
              "      <th>369</th>\n",
              "      <td>Female</td>\n",
              "      <td>59</td>\n",
              "      <td>Nurse</td>\n",
              "      <td>8.1</td>\n",
              "      <td>9</td>\n",
              "      <td>75</td>\n",
              "      <td>3</td>\n",
              "      <td>Overweight</td>\n",
              "      <td>68</td>\n",
              "      <td>7000</td>\n",
              "      <td>Sleep Apnea</td>\n",
              "      <td>140</td>\n",
              "      <td>95</td>\n",
              "    </tr>\n",
              "    <tr>\n",
              "      <th>370</th>\n",
              "      <td>Female</td>\n",
              "      <td>59</td>\n",
              "      <td>Nurse</td>\n",
              "      <td>8.0</td>\n",
              "      <td>9</td>\n",
              "      <td>75</td>\n",
              "      <td>3</td>\n",
              "      <td>Overweight</td>\n",
              "      <td>68</td>\n",
              "      <td>7000</td>\n",
              "      <td>Sleep Apnea</td>\n",
              "      <td>140</td>\n",
              "      <td>95</td>\n",
              "    </tr>\n",
              "    <tr>\n",
              "      <th>371</th>\n",
              "      <td>Female</td>\n",
              "      <td>59</td>\n",
              "      <td>Nurse</td>\n",
              "      <td>8.1</td>\n",
              "      <td>9</td>\n",
              "      <td>75</td>\n",
              "      <td>3</td>\n",
              "      <td>Overweight</td>\n",
              "      <td>68</td>\n",
              "      <td>7000</td>\n",
              "      <td>Sleep Apnea</td>\n",
              "      <td>140</td>\n",
              "      <td>95</td>\n",
              "    </tr>\n",
              "    <tr>\n",
              "      <th>372</th>\n",
              "      <td>Female</td>\n",
              "      <td>59</td>\n",
              "      <td>Nurse</td>\n",
              "      <td>8.1</td>\n",
              "      <td>9</td>\n",
              "      <td>75</td>\n",
              "      <td>3</td>\n",
              "      <td>Overweight</td>\n",
              "      <td>68</td>\n",
              "      <td>7000</td>\n",
              "      <td>Sleep Apnea</td>\n",
              "      <td>140</td>\n",
              "      <td>95</td>\n",
              "    </tr>\n",
              "    <tr>\n",
              "      <th>373</th>\n",
              "      <td>Female</td>\n",
              "      <td>59</td>\n",
              "      <td>Nurse</td>\n",
              "      <td>8.1</td>\n",
              "      <td>9</td>\n",
              "      <td>75</td>\n",
              "      <td>3</td>\n",
              "      <td>Overweight</td>\n",
              "      <td>68</td>\n",
              "      <td>7000</td>\n",
              "      <td>Sleep Apnea</td>\n",
              "      <td>140</td>\n",
              "      <td>95</td>\n",
              "    </tr>\n",
              "  </tbody>\n",
              "</table>\n",
              "<p>374 rows × 13 columns</p>\n",
              "</div>\n",
              "      <button class=\"colab-df-convert\" onclick=\"convertToInteractive('df-aae79d52-f115-4c03-b3b8-ad859475dd1f')\"\n",
              "              title=\"Convert this dataframe to an interactive table.\"\n",
              "              style=\"display:none;\">\n",
              "\n",
              "  <svg xmlns=\"http://www.w3.org/2000/svg\" height=\"24px\"viewBox=\"0 0 24 24\"\n",
              "       width=\"24px\">\n",
              "    <path d=\"M0 0h24v24H0V0z\" fill=\"none\"/>\n",
              "    <path d=\"M18.56 5.44l.94 2.06.94-2.06 2.06-.94-2.06-.94-.94-2.06-.94 2.06-2.06.94zm-11 1L8.5 8.5l.94-2.06 2.06-.94-2.06-.94L8.5 2.5l-.94 2.06-2.06.94zm10 10l.94 2.06.94-2.06 2.06-.94-2.06-.94-.94-2.06-.94 2.06-2.06.94z\"/><path d=\"M17.41 7.96l-1.37-1.37c-.4-.4-.92-.59-1.43-.59-.52 0-1.04.2-1.43.59L10.3 9.45l-7.72 7.72c-.78.78-.78 2.05 0 2.83L4 21.41c.39.39.9.59 1.41.59.51 0 1.02-.2 1.41-.59l7.78-7.78 2.81-2.81c.8-.78.8-2.07 0-2.86zM5.41 20L4 18.59l7.72-7.72 1.47 1.35L5.41 20z\"/>\n",
              "  </svg>\n",
              "      </button>\n",
              "\n",
              "\n",
              "\n",
              "    <div id=\"df-d8309599-5f5c-4a4d-9fd4-7acf0d231370\">\n",
              "      <button class=\"colab-df-quickchart\" onclick=\"quickchart('df-d8309599-5f5c-4a4d-9fd4-7acf0d231370')\"\n",
              "              title=\"Suggest charts.\"\n",
              "              style=\"display:none;\">\n",
              "\n",
              "<svg xmlns=\"http://www.w3.org/2000/svg\" height=\"24px\"viewBox=\"0 0 24 24\"\n",
              "     width=\"24px\">\n",
              "    <g>\n",
              "        <path d=\"M19 3H5c-1.1 0-2 .9-2 2v14c0 1.1.9 2 2 2h14c1.1 0 2-.9 2-2V5c0-1.1-.9-2-2-2zM9 17H7v-7h2v7zm4 0h-2V7h2v10zm4 0h-2v-4h2v4z\"/>\n",
              "    </g>\n",
              "</svg>\n",
              "      </button>\n",
              "    </div>\n",
              "\n",
              "<style>\n",
              "  .colab-df-quickchart {\n",
              "    background-color: #E8F0FE;\n",
              "    border: none;\n",
              "    border-radius: 50%;\n",
              "    cursor: pointer;\n",
              "    display: none;\n",
              "    fill: #1967D2;\n",
              "    height: 32px;\n",
              "    padding: 0 0 0 0;\n",
              "    width: 32px;\n",
              "  }\n",
              "\n",
              "  .colab-df-quickchart:hover {\n",
              "    background-color: #E2EBFA;\n",
              "    box-shadow: 0px 1px 2px rgba(60, 64, 67, 0.3), 0px 1px 3px 1px rgba(60, 64, 67, 0.15);\n",
              "    fill: #174EA6;\n",
              "  }\n",
              "\n",
              "  [theme=dark] .colab-df-quickchart {\n",
              "    background-color: #3B4455;\n",
              "    fill: #D2E3FC;\n",
              "  }\n",
              "\n",
              "  [theme=dark] .colab-df-quickchart:hover {\n",
              "    background-color: #434B5C;\n",
              "    box-shadow: 0px 1px 3px 1px rgba(0, 0, 0, 0.15);\n",
              "    filter: drop-shadow(0px 1px 2px rgba(0, 0, 0, 0.3));\n",
              "    fill: #FFFFFF;\n",
              "  }\n",
              "</style>\n",
              "\n",
              "    <script>\n",
              "      async function quickchart(key) {\n",
              "        const containerElement = document.querySelector('#' + key);\n",
              "        const charts = await google.colab.kernel.invokeFunction(\n",
              "            'suggestCharts', [key], {});\n",
              "      }\n",
              "    </script>\n",
              "\n",
              "      <script>\n",
              "\n",
              "function displayQuickchartButton(domScope) {\n",
              "  let quickchartButtonEl =\n",
              "    domScope.querySelector('#df-d8309599-5f5c-4a4d-9fd4-7acf0d231370 button.colab-df-quickchart');\n",
              "  quickchartButtonEl.style.display =\n",
              "    google.colab.kernel.accessAllowed ? 'block' : 'none';\n",
              "}\n",
              "\n",
              "        displayQuickchartButton(document);\n",
              "      </script>\n",
              "      <style>\n",
              "    .colab-df-container {\n",
              "      display:flex;\n",
              "      flex-wrap:wrap;\n",
              "      gap: 12px;\n",
              "    }\n",
              "\n",
              "    .colab-df-convert {\n",
              "      background-color: #E8F0FE;\n",
              "      border: none;\n",
              "      border-radius: 50%;\n",
              "      cursor: pointer;\n",
              "      display: none;\n",
              "      fill: #1967D2;\n",
              "      height: 32px;\n",
              "      padding: 0 0 0 0;\n",
              "      width: 32px;\n",
              "    }\n",
              "\n",
              "    .colab-df-convert:hover {\n",
              "      background-color: #E2EBFA;\n",
              "      box-shadow: 0px 1px 2px rgba(60, 64, 67, 0.3), 0px 1px 3px 1px rgba(60, 64, 67, 0.15);\n",
              "      fill: #174EA6;\n",
              "    }\n",
              "\n",
              "    [theme=dark] .colab-df-convert {\n",
              "      background-color: #3B4455;\n",
              "      fill: #D2E3FC;\n",
              "    }\n",
              "\n",
              "    [theme=dark] .colab-df-convert:hover {\n",
              "      background-color: #434B5C;\n",
              "      box-shadow: 0px 1px 3px 1px rgba(0, 0, 0, 0.15);\n",
              "      filter: drop-shadow(0px 1px 2px rgba(0, 0, 0, 0.3));\n",
              "      fill: #FFFFFF;\n",
              "    }\n",
              "  </style>\n",
              "\n",
              "      <script>\n",
              "        const buttonEl =\n",
              "          document.querySelector('#df-aae79d52-f115-4c03-b3b8-ad859475dd1f button.colab-df-convert');\n",
              "        buttonEl.style.display =\n",
              "          google.colab.kernel.accessAllowed ? 'block' : 'none';\n",
              "\n",
              "        async function convertToInteractive(key) {\n",
              "          const element = document.querySelector('#df-aae79d52-f115-4c03-b3b8-ad859475dd1f');\n",
              "          const dataTable =\n",
              "            await google.colab.kernel.invokeFunction('convertToInteractive',\n",
              "                                                     [key], {});\n",
              "          if (!dataTable) return;\n",
              "\n",
              "          const docLinkHtml = 'Like what you see? Visit the ' +\n",
              "            '<a target=\"_blank\" href=https://colab.research.google.com/notebooks/data_table.ipynb>data table notebook</a>'\n",
              "            + ' to learn more about interactive tables.';\n",
              "          element.innerHTML = '';\n",
              "          dataTable['output_type'] = 'display_data';\n",
              "          await google.colab.output.renderOutput(dataTable, element);\n",
              "          const docLink = document.createElement('div');\n",
              "          docLink.innerHTML = docLinkHtml;\n",
              "          element.appendChild(docLink);\n",
              "        }\n",
              "      </script>\n",
              "    </div>\n",
              "  </div>\n"
            ]
          },
          "metadata": {},
          "execution_count": 10
        }
      ]
    },
    {
      "cell_type": "markdown",
      "source": [
        "# **Visualization**"
      ],
      "metadata": {
        "id": "v3ZdYAykeS0W"
      }
    },
    {
      "cell_type": "markdown",
      "source": [
        "**Pie Chart - Sleep Disorder**"
      ],
      "metadata": {
        "id": "y5gmXaMHlvfd"
      }
    },
    {
      "cell_type": "code",
      "source": [
        "y_count=df['Sleep Disorder'].value_counts()\n",
        "status=['None','Sleep Apnea','Insomnia']\n",
        "plt.title('Sleep Disorder')\n",
        "plt.pie(y_count,labels=status,colors=['lime','yellow','red'],shadow=True,startangle=30,explode=(0.06,0.06,0.06),autopct='%1.1f%%')\n",
        "plt.legend(loc='best',bbox_to_anchor=(1,0.3))\n",
        "plt.show()"
      ],
      "metadata": {
        "colab": {
          "base_uri": "https://localhost:8080/",
          "height": 428
        },
        "id": "1I5P4ZMCdws_",
        "outputId": "bd98d630-9dfe-4933-8bd1-bff3e882c58c"
      },
      "execution_count": null,
      "outputs": [
        {
          "output_type": "display_data",
          "data": {
            "text/plain": [
              "<Figure size 640x480 with 1 Axes>"
            ],
            "image/png": "[encoded data removed]"
          },
          "metadata": {}
        }
      ]
    },
    {
      "cell_type": "markdown",
      "source": [
        "*   From the pie chart, it can be clearly seen that the dataset used here is an imbalanced dataset."
      ],
      "metadata": {
        "id": "Pw9UwTYU11tA"
      }
    },
    {
      "cell_type": "markdown",
      "source": [
        "**Countplot - BMI Category**"
      ],
      "metadata": {
        "id": "9URZGu_SdyjZ"
      }
    },
    {
      "cell_type": "code",
      "source": [
        "plt.figure(figsize=(8,5))\n",
        "sns.countplot(x='BMI Category',data=df,hue='Gender',palette=['#1338BE','#FC46AA'])\n",
        "plt.title('BMI Category Count')\n",
        "plt.show()"
      ],
      "metadata": {
        "colab": {
          "base_uri": "https://localhost:8080/",
          "height": 487
        },
        "id": "rISCz2siduud",
        "outputId": "7a67e2ec-1427-42c1-a4d4-753686e9a797"
      },
      "execution_count": null,
      "outputs": [
        {
          "output_type": "display_data",
          "data": {
            "text/plain": [
              "<Figure size 800x500 with 1 Axes>"
            ],
            "image/png": "[encoded data removed]"
          },
          "metadata": {}
        }
      ]
    },
    {
      "cell_type": "markdown",
      "source": [
        "\n",
        "In this dataset,\n",
        "*    Most of the females have overweight.\n",
        "*    Most of the males have normal weight.\n",
        "\n"
      ],
      "metadata": {
        "id": "hZX0hW6T2ja4"
      }
    },
    {
      "cell_type": "markdown",
      "source": [
        "**Correlation Heatmap**"
      ],
      "metadata": {
        "id": "MfEeutq5dot2"
      }
    },
    {
      "cell_type": "code",
      "source": [
        "plt.figure(figsize=(10,6))\n",
        "sns.heatmap(df.corr(),annot=True,linewidths=1)\n",
        "plt.show()"
      ],
      "metadata": {
        "colab": {
          "base_uri": "https://localhost:8080/",
          "height": 668
        },
        "id": "ljlY5W3AdJw4",
        "outputId": "f5688795-9a97-4a39-94d2-3ad4821e78b6"
      },
      "execution_count": null,
      "outputs": [
        {
          "output_type": "display_data",
          "data": {
            "text/plain": [
              "<Figure size 1000x600 with 2 Axes>"
            ],
            "image/png": "[encoded data removed]"
          },
          "metadata": {}
        }
      ]
    },
    {
      "cell_type": "markdown",
      "source": [
        "**Barplot - Occupation vs Stress Level**"
      ],
      "metadata": {
        "id": "pqN5g9Dn15e6"
      }
    },
    {
      "cell_type": "code",
      "source": [
        "plt.figure(figsize=(15,7))\n",
        "sns.barplot(x='Occupation',y='Stress Level',data=df,ci=None)\n",
        "plt.title('Occupation vs Stress Level')\n",
        "plt.show()"
      ],
      "metadata": {
        "colab": {
          "base_uri": "https://localhost:8080/",
          "height": 641
        },
        "id": "gUKOCiB1rEt5",
        "outputId": "cc32327d-c547-48b1-e83e-67c675b15b82"
      },
      "execution_count": null,
      "outputs": [
        {
          "output_type": "display_data",
          "data": {
            "text/plain": [
              "<Figure size 1500x700 with 1 Axes>"
            ],
            "image/png": "[encoded data removed]"
          },
          "metadata": {}
        }
      ]
    },
    {
      "cell_type": "markdown",
      "source": [
        "*   According to the data provided here, Sales Representative job has a high stress level of 8 followed by Scientist(7).\n",
        "*   Engineer has the lowest stress level of 4.\n",
        "\n"
      ],
      "metadata": {
        "id": "fVoEdincpwpi"
      }
    },
    {
      "cell_type": "markdown",
      "source": [
        "**Histogram - Age**"
      ],
      "metadata": {
        "id": "llS8iOgm2AQW"
      }
    },
    {
      "cell_type": "code",
      "source": [
        "plt.figure(figsize=(8,5))\n",
        "sns.histplot(data=df,x='Age',hue='Gender',palette=['#1520A6','#FC46AA'])\n",
        "plt.title('Age Count')\n",
        "plt.show()"
      ],
      "metadata": {
        "colab": {
          "base_uri": "https://localhost:8080/",
          "height": 487
        },
        "id": "LUOet_XUmR4U",
        "outputId": "60ca410d-335f-42cf-fd18-30b1143d7a4e"
      },
      "execution_count": null,
      "outputs": [
        {
          "output_type": "display_data",
          "data": {
            "text/plain": [
              "<Figure size 800x500 with 1 Axes>"
            ],
            "image/png": "[encoded data removed]"
          },
          "metadata": {}
        }
      ]
    },
    {
      "cell_type": "markdown",
      "source": [
        "*   Males age is between 26 and 50\n",
        "*   Females age is between 26 and 60"
      ],
      "metadata": {
        "id": "BFjhm5popD9K"
      }
    },
    {
      "cell_type": "markdown",
      "source": [
        "**Barplot - Sleep Disorder vs Heart Rate**"
      ],
      "metadata": {
        "id": "oOb7gocHn4ME"
      }
    },
    {
      "cell_type": "code",
      "source": [
        "plt.figure(figsize=(8,5))\n",
        "sns.barplot(x='Sleep Disorder',y='Heart Rate',data=df,hue='Gender',palette=['#1338BE','#FC46AA'],ci=None)\n",
        "plt.title('Sleep Disorder vs Heart Rate')\n",
        "plt.legend(loc='best',bbox_to_anchor=(1,1))\n",
        "plt.show()"
      ],
      "metadata": {
        "colab": {
          "base_uri": "https://localhost:8080/",
          "height": 487
        },
        "id": "Xys49pKTy1y6",
        "outputId": "4ea4fd47-f956-4608-d72f-8ad5d0029a2c"
      },
      "execution_count": null,
      "outputs": [
        {
          "output_type": "display_data",
          "data": {
            "text/plain": [
              "<Figure size 800x500 with 1 Axes>"
            ],
            "image/png": "[encoded data removed]"
          },
          "metadata": {}
        }
      ]
    },
    {
      "cell_type": "markdown",
      "source": [
        "*   The resting heart rate of male (Age 26-55) is 62 - 67 (Good  Condition)\n",
        "*   The resting heart rate of female (Age 26-65) is 65 - 68 (Good  Condition)"
      ],
      "metadata": {
        "id": "PFUBG_Lez6_A"
      }
    },
    {
      "cell_type": "markdown",
      "source": [
        "**Checking the datatype of each column in the dataset**"
      ],
      "metadata": {
        "id": "Mci43sig3WLe"
      }
    },
    {
      "cell_type": "code",
      "source": [
        "df.dtypes"
      ],
      "metadata": {
        "colab": {
          "base_uri": "https://localhost:8080/"
        },
        "id": "txSe6E_slvNH",
        "outputId": "2694d55b-8f37-487e-e581-94a9fbc622ff"
      },
      "execution_count": null,
      "outputs": [
        {
          "output_type": "execute_result",
          "data": {
            "text/plain": [
              "Gender                      object\n",
              "Age                          int64\n",
              "Occupation                  object\n",
              "Sleep Duration             float64\n",
              "Quality of Sleep             int64\n",
              "Physical Activity Level      int64\n",
              "Stress Level                 int64\n",
              "BMI Category                object\n",
              "Heart Rate                   int64\n",
              "Daily Steps                  int64\n",
              "Sleep Disorder              object\n",
              "Systolic BP                  int64\n",
              "Diastolic BP                 int64\n",
              "dtype: object"
            ]
          },
          "metadata": {},
          "execution_count": 17
        }
      ]
    },
    {
      "cell_type": "markdown",
      "source": [
        "**Converting string data to numeric data**"
      ],
      "metadata": {
        "id": "deg0SSUnmQac"
      }
    },
    {
      "cell_type": "code",
      "source": [
        "le1=LabelEncoder()\n",
        "le2=LabelEncoder()\n",
        "le3=LabelEncoder()\n",
        "le4=LabelEncoder()\n",
        "df['Gender']=le1.fit_transform(df['Gender'])\n",
        "df['Occupation']=le2.fit_transform(df['Occupation'])\n",
        "df['BMI Category']=le3.fit_transform(df['BMI Category'])\n",
        "df['Sleep Disorder']=le4.fit_transform(df['Sleep Disorder'])\n",
        "df"
      ],
      "metadata": {
        "colab": {
          "base_uri": "https://localhost:8080/",
          "height": 468
        },
        "id": "Uge-WloCmGTW",
        "outputId": "d2c77b50-7cdc-4c0d-9f6c-e3dd1f6a3347"
      },
      "execution_count": null,
      "outputs": [
        {
          "output_type": "execute_result",
          "data": {
            "text/plain": [
              "     Gender  Age  Occupation  Sleep Duration  Quality of Sleep  \\\n",
              "0         1   27           9             6.1                 6   \n",
              "1         1   28           1             6.2                 6   \n",
              "2         1   28           1             6.2                 6   \n",
              "3         1   28           6             5.9                 4   \n",
              "4         1   28           6             5.9                 4   \n",
              "..      ...  ...         ...             ...               ...   \n",
              "369       0   59           5             8.1                 9   \n",
              "370       0   59           5             8.0                 9   \n",
              "371       0   59           5             8.1                 9   \n",
              "372       0   59           5             8.1                 9   \n",
              "373       0   59           5             8.1                 9   \n",
              "\n",
              "     Physical Activity Level  Stress Level  BMI Category  Heart Rate  \\\n",
              "0                         42             6             2          77   \n",
              "1                         60             8             0          75   \n",
              "2                         60             8             0          75   \n",
              "3                         30             8             1          85   \n",
              "4                         30             8             1          85   \n",
              "..                       ...           ...           ...         ...   \n",
              "369                       75             3             2          68   \n",
              "370                       75             3             2          68   \n",
              "371                       75             3             2          68   \n",
              "372                       75             3             2          68   \n",
              "373                       75             3             2          68   \n",
              "\n",
              "     Daily Steps  Sleep Disorder  Systolic BP  Diastolic BP  \n",
              "0           4200               1          126            83  \n",
              "1          10000               1          125            80  \n",
              "2          10000               1          125            80  \n",
              "3           3000               2          140            90  \n",
              "4           3000               2          140            90  \n",
              "..           ...             ...          ...           ...  \n",
              "369         7000               2          140            95  \n",
              "370         7000               2          140            95  \n",
              "371         7000               2          140            95  \n",
              "372         7000               2          140            95  \n",
              "373         7000               2          140            95  \n",
              "\n",
              "[374 rows x 13 columns]"
            ],
            "text/html": [
              "\n",
              "\n",
              "  <div id=\"df-f44fde51-3cae-4673-bc3e-552de4a8bad6\">\n",
              "    <div class=\"colab-df-container\">\n",
              "      <div>\n",
              "<style scoped>\n",
              "    .dataframe tbody tr th:only-of-type {\n",
              "        vertical-align: middle;\n",
              "    }\n",
              "\n",
              "    .dataframe tbody tr th {\n",
              "        vertical-align: top;\n",
              "    }\n",
              "\n",
              "    .dataframe thead th {\n",
              "        text-align: right;\n",
              "    }\n",
              "</style>\n",
              "<table border=\"1\" class=\"dataframe\">\n",
              "  <thead>\n",
              "    <tr style=\"text-align: right;\">\n",
              "      <th></th>\n",
              "      <th>Gender</th>\n",
              "      <th>Age</th>\n",
              "      <th>Occupation</th>\n",
              "      <th>Sleep Duration</th>\n",
              "      <th>Quality of Sleep</th>\n",
              "      <th>Physical Activity Level</th>\n",
              "      <th>Stress Level</th>\n",
              "      <th>BMI Category</th>\n",
              "      <th>Heart Rate</th>\n",
              "      <th>Daily Steps</th>\n",
              "      <th>Sleep Disorder</th>\n",
              "      <th>Systolic BP</th>\n",
              "      <th>Diastolic BP</th>\n",
              "    </tr>\n",
              "  </thead>\n",
              "  <tbody>\n",
              "    <tr>\n",
              "      <th>0</th>\n",
              "      <td>1</td>\n",
              "      <td>27</td>\n",
              "      <td>9</td>\n",
              "      <td>6.1</td>\n",
              "      <td>6</td>\n",
              "      <td>42</td>\n",
              "      <td>6</td>\n",
              "      <td>2</td>\n",
              "      <td>77</td>\n",
              "      <td>4200</td>\n",
              "      <td>1</td>\n",
              "      <td>126</td>\n",
              "      <td>83</td>\n",
              "    </tr>\n",
              "    <tr>\n",
              "      <th>1</th>\n",
              "      <td>1</td>\n",
              "      <td>28</td>\n",
              "      <td>1</td>\n",
              "      <td>6.2</td>\n",
              "      <td>6</td>\n",
              "      <td>60</td>\n",
              "      <td>8</td>\n",
              "      <td>0</td>\n",
              "      <td>75</td>\n",
              "      <td>10000</td>\n",
              "      <td>1</td>\n",
              "      <td>125</td>\n",
              "      <td>80</td>\n",
              "    </tr>\n",
              "    <tr>\n",
              "      <th>2</th>\n",
              "      <td>1</td>\n",
              "      <td>28</td>\n",
              "      <td>1</td>\n",
              "      <td>6.2</td>\n",
              "      <td>6</td>\n",
              "      <td>60</td>\n",
              "      <td>8</td>\n",
              "      <td>0</td>\n",
              "      <td>75</td>\n",
              "      <td>10000</td>\n",
              "      <td>1</td>\n",
              "      <td>125</td>\n",
              "      <td>80</td>\n",
              "    </tr>\n",
              "    <tr>\n",
              "      <th>3</th>\n",
              "      <td>1</td>\n",
              "      <td>28</td>\n",
              "      <td>6</td>\n",
              "      <td>5.9</td>\n",
              "      <td>4</td>\n",
              "      <td>30</td>\n",
              "      <td>8</td>\n",
              "      <td>1</td>\n",
              "      <td>85</td>\n",
              "      <td>3000</td>\n",
              "      <td>2</td>\n",
              "      <td>140</td>\n",
              "      <td>90</td>\n",
              "    </tr>\n",
              "    <tr>\n",
              "      <th>4</th>\n",
              "      <td>1</td>\n",
              "      <td>28</td>\n",
              "      <td>6</td>\n",
              "      <td>5.9</td>\n",
              "      <td>4</td>\n",
              "      <td>30</td>\n",
              "      <td>8</td>\n",
              "      <td>1</td>\n",
              "      <td>85</td>\n",
              "      <td>3000</td>\n",
              "      <td>2</td>\n",
              "      <td>140</td>\n",
              "      <td>90</td>\n",
              "    </tr>\n",
              "    <tr>\n",
              "      <th>...</th>\n",
              "      <td>...</td>\n",
              "      <td>...</td>\n",
              "      <td>...</td>\n",
              "      <td>...</td>\n",
              "      <td>...</td>\n",
              "      <td>...</td>\n",
              "      <td>...</td>\n",
              "      <td>...</td>\n",
              "      <td>...</td>\n",
              "      <td>...</td>\n",
              "      <td>...</td>\n",
              "      <td>...</td>\n",
              "      <td>...</td>\n",
              "    </tr>\n",
              "    <tr>\n",
              "      <th>369</th>\n",
              "      <td>0</td>\n",
              "      <td>59</td>\n",
              "      <td>5</td>\n",
              "      <td>8.1</td>\n",
              "      <td>9</td>\n",
              "      <td>75</td>\n",
              "      <td>3</td>\n",
              "      <td>2</td>\n",
              "      <td>68</td>\n",
              "      <td>7000</td>\n",
              "      <td>2</td>\n",
              "      <td>140</td>\n",
              "      <td>95</td>\n",
              "    </tr>\n",
              "    <tr>\n",
              "      <th>370</th>\n",
              "      <td>0</td>\n",
              "      <td>59</td>\n",
              "      <td>5</td>\n",
              "      <td>8.0</td>\n",
              "      <td>9</td>\n",
              "      <td>75</td>\n",
              "      <td>3</td>\n",
              "      <td>2</td>\n",
              "      <td>68</td>\n",
              "      <td>7000</td>\n",
              "      <td>2</td>\n",
              "      <td>140</td>\n",
              "      <td>95</td>\n",
              "    </tr>\n",
              "    <tr>\n",
              "      <th>371</th>\n",
              "      <td>0</td>\n",
              "      <td>59</td>\n",
              "      <td>5</td>\n",
              "      <td>8.1</td>\n",
              "      <td>9</td>\n",
              "      <td>75</td>\n",
              "      <td>3</td>\n",
              "      <td>2</td>\n",
              "      <td>68</td>\n",
              "      <td>7000</td>\n",
              "      <td>2</td>\n",
              "      <td>140</td>\n",
              "      <td>95</td>\n",
              "    </tr>\n",
              "    <tr>\n",
              "      <th>372</th>\n",
              "      <td>0</td>\n",
              "      <td>59</td>\n",
              "      <td>5</td>\n",
              "      <td>8.1</td>\n",
              "      <td>9</td>\n",
              "      <td>75</td>\n",
              "      <td>3</td>\n",
              "      <td>2</td>\n",
              "      <td>68</td>\n",
              "      <td>7000</td>\n",
              "      <td>2</td>\n",
              "      <td>140</td>\n",
              "      <td>95</td>\n",
              "    </tr>\n",
              "    <tr>\n",
              "      <th>373</th>\n",
              "      <td>0</td>\n",
              "      <td>59</td>\n",
              "      <td>5</td>\n",
              "      <td>8.1</td>\n",
              "      <td>9</td>\n",
              "      <td>75</td>\n",
              "      <td>3</td>\n",
              "      <td>2</td>\n",
              "      <td>68</td>\n",
              "      <td>7000</td>\n",
              "      <td>2</td>\n",
              "      <td>140</td>\n",
              "      <td>95</td>\n",
              "    </tr>\n",
              "  </tbody>\n",
              "</table>\n",
              "<p>374 rows × 13 columns</p>\n",
              "</div>\n",
              "      <button class=\"colab-df-convert\" onclick=\"convertToInteractive('df-f44fde51-3cae-4673-bc3e-552de4a8bad6')\"\n",
              "              title=\"Convert this dataframe to an interactive table.\"\n",
              "              style=\"display:none;\">\n",
              "\n",
              "  <svg xmlns=\"http://www.w3.org/2000/svg\" height=\"24px\"viewBox=\"0 0 24 24\"\n",
              "       width=\"24px\">\n",
              "    <path d=\"M0 0h24v24H0V0z\" fill=\"none\"/>\n",
              "    <path d=\"M18.56 5.44l.94 2.06.94-2.06 2.06-.94-2.06-.94-.94-2.06-.94 2.06-2.06.94zm-11 1L8.5 8.5l.94-2.06 2.06-.94-2.06-.94L8.5 2.5l-.94 2.06-2.06.94zm10 10l.94 2.06.94-2.06 2.06-.94-2.06-.94-.94-2.06-.94 2.06-2.06.94z\"/><path d=\"M17.41 7.96l-1.37-1.37c-.4-.4-.92-.59-1.43-.59-.52 0-1.04.2-1.43.59L10.3 9.45l-7.72 7.72c-.78.78-.78 2.05 0 2.83L4 21.41c.39.39.9.59 1.41.59.51 0 1.02-.2 1.41-.59l7.78-7.78 2.81-2.81c.8-.78.8-2.07 0-2.86zM5.41 20L4 18.59l7.72-7.72 1.47 1.35L5.41 20z\"/>\n",
              "  </svg>\n",
              "      </button>\n",
              "\n",
              "\n",
              "\n",
              "    <div id=\"df-34fd8f81-2eaa-4958-b514-ab122f3d6289\">\n",
              "      <button class=\"colab-df-quickchart\" onclick=\"quickchart('df-34fd8f81-2eaa-4958-b514-ab122f3d6289')\"\n",
              "              title=\"Suggest charts.\"\n",
              "              style=\"display:none;\">\n",
              "\n",
              "<svg xmlns=\"http://www.w3.org/2000/svg\" height=\"24px\"viewBox=\"0 0 24 24\"\n",
              "     width=\"24px\">\n",
              "    <g>\n",
              "        <path d=\"M19 3H5c-1.1 0-2 .9-2 2v14c0 1.1.9 2 2 2h14c1.1 0 2-.9 2-2V5c0-1.1-.9-2-2-2zM9 17H7v-7h2v7zm4 0h-2V7h2v10zm4 0h-2v-4h2v4z\"/>\n",
              "    </g>\n",
              "</svg>\n",
              "      </button>\n",
              "    </div>\n",
              "\n",
              "<style>\n",
              "  .colab-df-quickchart {\n",
              "    background-color: #E8F0FE;\n",
              "    border: none;\n",
              "    border-radius: 50%;\n",
              "    cursor: pointer;\n",
              "    display: none;\n",
              "    fill: #1967D2;\n",
              "    height: 32px;\n",
              "    padding: 0 0 0 0;\n",
              "    width: 32px;\n",
              "  }\n",
              "\n",
              "  .colab-df-quickchart:hover {\n",
              "    background-color: #E2EBFA;\n",
              "    box-shadow: 0px 1px 2px rgba(60, 64, 67, 0.3), 0px 1px 3px 1px rgba(60, 64, 67, 0.15);\n",
              "    fill: #174EA6;\n",
              "  }\n",
              "\n",
              "  [theme=dark] .colab-df-quickchart {\n",
              "    background-color: #3B4455;\n",
              "    fill: #D2E3FC;\n",
              "  }\n",
              "\n",
              "  [theme=dark] .colab-df-quickchart:hover {\n",
              "    background-color: #434B5C;\n",
              "    box-shadow: 0px 1px 3px 1px rgba(0, 0, 0, 0.15);\n",
              "    filter: drop-shadow(0px 1px 2px rgba(0, 0, 0, 0.3));\n",
              "    fill: #FFFFFF;\n",
              "  }\n",
              "</style>\n",
              "\n",
              "    <script>\n",
              "      async function quickchart(key) {\n",
              "        const containerElement = document.querySelector('#' + key);\n",
              "        const charts = await google.colab.kernel.invokeFunction(\n",
              "            'suggestCharts', [key], {});\n",
              "      }\n",
              "    </script>\n",
              "\n",
              "      <script>\n",
              "\n",
              "function displayQuickchartButton(domScope) {\n",
              "  let quickchartButtonEl =\n",
              "    domScope.querySelector('#df-34fd8f81-2eaa-4958-b514-ab122f3d6289 button.colab-df-quickchart');\n",
              "  quickchartButtonEl.style.display =\n",
              "    google.colab.kernel.accessAllowed ? 'block' : 'none';\n",
              "}\n",
              "\n",
              "        displayQuickchartButton(document);\n",
              "      </script>\n",
              "      <style>\n",
              "    .colab-df-container {\n",
              "      display:flex;\n",
              "      flex-wrap:wrap;\n",
              "      gap: 12px;\n",
              "    }\n",
              "\n",
              "    .colab-df-convert {\n",
              "      background-color: #E8F0FE;\n",
              "      border: none;\n",
              "      border-radius: 50%;\n",
              "      cursor: pointer;\n",
              "      display: none;\n",
              "      fill: #1967D2;\n",
              "      height: 32px;\n",
              "      padding: 0 0 0 0;\n",
              "      width: 32px;\n",
              "    }\n",
              "\n",
              "    .colab-df-convert:hover {\n",
              "      background-color: #E2EBFA;\n",
              "      box-shadow: 0px 1px 2px rgba(60, 64, 67, 0.3), 0px 1px 3px 1px rgba(60, 64, 67, 0.15);\n",
              "      fill: #174EA6;\n",
              "    }\n",
              "\n",
              "    [theme=dark] .colab-df-convert {\n",
              "      background-color: #3B4455;\n",
              "      fill: #D2E3FC;\n",
              "    }\n",
              "\n",
              "    [theme=dark] .colab-df-convert:hover {\n",
              "      background-color: #434B5C;\n",
              "      box-shadow: 0px 1px 3px 1px rgba(0, 0, 0, 0.15);\n",
              "      filter: drop-shadow(0px 1px 2px rgba(0, 0, 0, 0.3));\n",
              "      fill: #FFFFFF;\n",
              "    }\n",
              "  </style>\n",
              "\n",
              "      <script>\n",
              "        const buttonEl =\n",
              "          document.querySelector('#df-f44fde51-3cae-4673-bc3e-552de4a8bad6 button.colab-df-convert');\n",
              "        buttonEl.style.display =\n",
              "          google.colab.kernel.accessAllowed ? 'block' : 'none';\n",
              "\n",
              "        async function convertToInteractive(key) {\n",
              "          const element = document.querySelector('#df-f44fde51-3cae-4673-bc3e-552de4a8bad6');\n",
              "          const dataTable =\n",
              "            await google.colab.kernel.invokeFunction('convertToInteractive',\n",
              "                                                     [key], {});\n",
              "          if (!dataTable) return;\n",
              "\n",
              "          const docLinkHtml = 'Like what you see? Visit the ' +\n",
              "            '<a target=\"_blank\" href=https://colab.research.google.com/notebooks/data_table.ipynb>data table notebook</a>'\n",
              "            + ' to learn more about interactive tables.';\n",
              "          element.innerHTML = '';\n",
              "          dataTable['output_type'] = 'display_data';\n",
              "          await google.colab.output.renderOutput(dataTable, element);\n",
              "          const docLink = document.createElement('div');\n",
              "          docLink.innerHTML = docLinkHtml;\n",
              "          element.appendChild(docLink);\n",
              "        }\n",
              "      </script>\n",
              "    </div>\n",
              "  </div>\n"
            ]
          },
          "metadata": {},
          "execution_count": 18
        }
      ]
    },
    {
      "cell_type": "markdown",
      "source": [
        "**Input Data**"
      ],
      "metadata": {
        "id": "xqheMkL-mVbt"
      }
    },
    {
      "cell_type": "code",
      "source": [
        "X=df.drop(['Sleep Disorder'],axis=1)\n",
        "X"
      ],
      "metadata": {
        "colab": {
          "base_uri": "https://localhost:8080/",
          "height": 424
        },
        "id": "8JtPjwUSnUNs",
        "outputId": "3ae8e10e-c51f-4eca-a5d6-2350018c038f"
      },
      "execution_count": null,
      "outputs": [
        {
          "output_type": "execute_result",
          "data": {
            "text/plain": [
              "     Gender  Age  Occupation  Sleep Duration  Quality of Sleep  \\\n",
              "0         1   27           9             6.1                 6   \n",
              "1         1   28           1             6.2                 6   \n",
              "2         1   28           1             6.2                 6   \n",
              "3         1   28           6             5.9                 4   \n",
              "4         1   28           6             5.9                 4   \n",
              "..      ...  ...         ...             ...               ...   \n",
              "369       0   59           5             8.1                 9   \n",
              "370       0   59           5             8.0                 9   \n",
              "371       0   59           5             8.1                 9   \n",
              "372       0   59           5             8.1                 9   \n",
              "373       0   59           5             8.1                 9   \n",
              "\n",
              "     Physical Activity Level  Stress Level  BMI Category  Heart Rate  \\\n",
              "0                         42             6             2          77   \n",
              "1                         60             8             0          75   \n",
              "2                         60             8             0          75   \n",
              "3                         30             8             1          85   \n",
              "4                         30             8             1          85   \n",
              "..                       ...           ...           ...         ...   \n",
              "369                       75             3             2          68   \n",
              "370                       75             3             2          68   \n",
              "371                       75             3             2          68   \n",
              "372                       75             3             2          68   \n",
              "373                       75             3             2          68   \n",
              "\n",
              "     Daily Steps  Systolic BP  Diastolic BP  \n",
              "0           4200          126            83  \n",
              "1          10000          125            80  \n",
              "2          10000          125            80  \n",
              "3           3000          140            90  \n",
              "4           3000          140            90  \n",
              "..           ...          ...           ...  \n",
              "369         7000          140            95  \n",
              "370         7000          140            95  \n",
              "371         7000          140            95  \n",
              "372         7000          140            95  \n",
              "373         7000          140            95  \n",
              "\n",
              "[374 rows x 12 columns]"
            ],
            "text/html": [
              "\n",
              "\n",
              "  <div id=\"df-33a02cf2-f7c8-421d-a522-4a0d8c83d761\">\n",
              "    <div class=\"colab-df-container\">\n",
              "      <div>\n",
              "<style scoped>\n",
              "    .dataframe tbody tr th:only-of-type {\n",
              "        vertical-align: middle;\n",
              "    }\n",
              "\n",
              "    .dataframe tbody tr th {\n",
              "        vertical-align: top;\n",
              "    }\n",
              "\n",
              "    .dataframe thead th {\n",
              "        text-align: right;\n",
              "    }\n",
              "</style>\n",
              "<table border=\"1\" class=\"dataframe\">\n",
              "  <thead>\n",
              "    <tr style=\"text-align: right;\">\n",
              "      <th></th>\n",
              "      <th>Gender</th>\n",
              "      <th>Age</th>\n",
              "      <th>Occupation</th>\n",
              "      <th>Sleep Duration</th>\n",
              "      <th>Quality of Sleep</th>\n",
              "      <th>Physical Activity Level</th>\n",
              "      <th>Stress Level</th>\n",
              "      <th>BMI Category</th>\n",
              "      <th>Heart Rate</th>\n",
              "      <th>Daily Steps</th>\n",
              "      <th>Systolic BP</th>\n",
              "      <th>Diastolic BP</th>\n",
              "    </tr>\n",
              "  </thead>\n",
              "  <tbody>\n",
              "    <tr>\n",
              "      <th>0</th>\n",
              "      <td>1</td>\n",
              "      <td>27</td>\n",
              "      <td>9</td>\n",
              "      <td>6.1</td>\n",
              "      <td>6</td>\n",
              "      <td>42</td>\n",
              "      <td>6</td>\n",
              "      <td>2</td>\n",
              "      <td>77</td>\n",
              "      <td>4200</td>\n",
              "      <td>126</td>\n",
              "      <td>83</td>\n",
              "    </tr>\n",
              "    <tr>\n",
              "      <th>1</th>\n",
              "      <td>1</td>\n",
              "      <td>28</td>\n",
              "      <td>1</td>\n",
              "      <td>6.2</td>\n",
              "      <td>6</td>\n",
              "      <td>60</td>\n",
              "      <td>8</td>\n",
              "      <td>0</td>\n",
              "      <td>75</td>\n",
              "      <td>10000</td>\n",
              "      <td>125</td>\n",
              "      <td>80</td>\n",
              "    </tr>\n",
              "    <tr>\n",
              "      <th>2</th>\n",
              "      <td>1</td>\n",
              "      <td>28</td>\n",
              "      <td>1</td>\n",
              "      <td>6.2</td>\n",
              "      <td>6</td>\n",
              "      <td>60</td>\n",
              "      <td>8</td>\n",
              "      <td>0</td>\n",
              "      <td>75</td>\n",
              "      <td>10000</td>\n",
              "      <td>125</td>\n",
              "      <td>80</td>\n",
              "    </tr>\n",
              "    <tr>\n",
              "      <th>3</th>\n",
              "      <td>1</td>\n",
              "      <td>28</td>\n",
              "      <td>6</td>\n",
              "      <td>5.9</td>\n",
              "      <td>4</td>\n",
              "      <td>30</td>\n",
              "      <td>8</td>\n",
              "      <td>1</td>\n",
              "      <td>85</td>\n",
              "      <td>3000</td>\n",
              "      <td>140</td>\n",
              "      <td>90</td>\n",
              "    </tr>\n",
              "    <tr>\n",
              "      <th>4</th>\n",
              "      <td>1</td>\n",
              "      <td>28</td>\n",
              "      <td>6</td>\n",
              "      <td>5.9</td>\n",
              "      <td>4</td>\n",
              "      <td>30</td>\n",
              "      <td>8</td>\n",
              "      <td>1</td>\n",
              "      <td>85</td>\n",
              "      <td>3000</td>\n",
              "      <td>140</td>\n",
              "      <td>90</td>\n",
              "    </tr>\n",
              "    <tr>\n",
              "      <th>...</th>\n",
              "      <td>...</td>\n",
              "      <td>...</td>\n",
              "      <td>...</td>\n",
              "      <td>...</td>\n",
              "      <td>...</td>\n",
              "      <td>...</td>\n",
              "      <td>...</td>\n",
              "      <td>...</td>\n",
              "      <td>...</td>\n",
              "      <td>...</td>\n",
              "      <td>...</td>\n",
              "      <td>...</td>\n",
              "    </tr>\n",
              "    <tr>\n",
              "      <th>369</th>\n",
              "      <td>0</td>\n",
              "      <td>59</td>\n",
              "      <td>5</td>\n",
              "      <td>8.1</td>\n",
              "      <td>9</td>\n",
              "      <td>75</td>\n",
              "      <td>3</td>\n",
              "      <td>2</td>\n",
              "      <td>68</td>\n",
              "      <td>7000</td>\n",
              "      <td>140</td>\n",
              "      <td>95</td>\n",
              "    </tr>\n",
              "    <tr>\n",
              "      <th>370</th>\n",
              "      <td>0</td>\n",
              "      <td>59</td>\n",
              "      <td>5</td>\n",
              "      <td>8.0</td>\n",
              "      <td>9</td>\n",
              "      <td>75</td>\n",
              "      <td>3</td>\n",
              "      <td>2</td>\n",
              "      <td>68</td>\n",
              "      <td>7000</td>\n",
              "      <td>140</td>\n",
              "      <td>95</td>\n",
              "    </tr>\n",
              "    <tr>\n",
              "      <th>371</th>\n",
              "      <td>0</td>\n",
              "      <td>59</td>\n",
              "      <td>5</td>\n",
              "      <td>8.1</td>\n",
              "      <td>9</td>\n",
              "      <td>75</td>\n",
              "      <td>3</td>\n",
              "      <td>2</td>\n",
              "      <td>68</td>\n",
              "      <td>7000</td>\n",
              "      <td>140</td>\n",
              "      <td>95</td>\n",
              "    </tr>\n",
              "    <tr>\n",
              "      <th>372</th>\n",
              "      <td>0</td>\n",
              "      <td>59</td>\n",
              "      <td>5</td>\n",
              "      <td>8.1</td>\n",
              "      <td>9</td>\n",
              "      <td>75</td>\n",
              "      <td>3</td>\n",
              "      <td>2</td>\n",
              "      <td>68</td>\n",
              "      <td>7000</td>\n",
              "      <td>140</td>\n",
              "      <td>95</td>\n",
              "    </tr>\n",
              "    <tr>\n",
              "      <th>373</th>\n",
              "      <td>0</td>\n",
              "      <td>59</td>\n",
              "      <td>5</td>\n",
              "      <td>8.1</td>\n",
              "      <td>9</td>\n",
              "      <td>75</td>\n",
              "      <td>3</td>\n",
              "      <td>2</td>\n",
              "      <td>68</td>\n",
              "      <td>7000</td>\n",
              "      <td>140</td>\n",
              "      <td>95</td>\n",
              "    </tr>\n",
              "  </tbody>\n",
              "</table>\n",
              "<p>374 rows × 12 columns</p>\n",
              "</div>\n",
              "      <button class=\"colab-df-convert\" onclick=\"convertToInteractive('df-33a02cf2-f7c8-421d-a522-4a0d8c83d761')\"\n",
              "              title=\"Convert this dataframe to an interactive table.\"\n",
              "              style=\"display:none;\">\n",
              "\n",
              "  <svg xmlns=\"http://www.w3.org/2000/svg\" height=\"24px\"viewBox=\"0 0 24 24\"\n",
              "       width=\"24px\">\n",
              "    <path d=\"M0 0h24v24H0V0z\" fill=\"none\"/>\n",
              "    <path d=\"M18.56 5.44l.94 2.06.94-2.06 2.06-.94-2.06-.94-.94-2.06-.94 2.06-2.06.94zm-11 1L8.5 8.5l.94-2.06 2.06-.94-2.06-.94L8.5 2.5l-.94 2.06-2.06.94zm10 10l.94 2.06.94-2.06 2.06-.94-2.06-.94-.94-2.06-.94 2.06-2.06.94z\"/><path d=\"M17.41 7.96l-1.37-1.37c-.4-.4-.92-.59-1.43-.59-.52 0-1.04.2-1.43.59L10.3 9.45l-7.72 7.72c-.78.78-.78 2.05 0 2.83L4 21.41c.39.39.9.59 1.41.59.51 0 1.02-.2 1.41-.59l7.78-7.78 2.81-2.81c.8-.78.8-2.07 0-2.86zM5.41 20L4 18.59l7.72-7.72 1.47 1.35L5.41 20z\"/>\n",
              "  </svg>\n",
              "      </button>\n",
              "\n",
              "\n",
              "\n",
              "    <div id=\"df-12ec5b77-980f-4003-8fa0-44f5a01619e4\">\n",
              "      <button class=\"colab-df-quickchart\" onclick=\"quickchart('df-12ec5b77-980f-4003-8fa0-44f5a01619e4')\"\n",
              "              title=\"Suggest charts.\"\n",
              "              style=\"display:none;\">\n",
              "\n",
              "<svg xmlns=\"http://www.w3.org/2000/svg\" height=\"24px\"viewBox=\"0 0 24 24\"\n",
              "     width=\"24px\">\n",
              "    <g>\n",
              "        <path d=\"M19 3H5c-1.1 0-2 .9-2 2v14c0 1.1.9 2 2 2h14c1.1 0 2-.9 2-2V5c0-1.1-.9-2-2-2zM9 17H7v-7h2v7zm4 0h-2V7h2v10zm4 0h-2v-4h2v4z\"/>\n",
              "    </g>\n",
              "</svg>\n",
              "      </button>\n",
              "    </div>\n",
              "\n",
              "<style>\n",
              "  .colab-df-quickchart {\n",
              "    background-color: #E8F0FE;\n",
              "    border: none;\n",
              "    border-radius: 50%;\n",
              "    cursor: pointer;\n",
              "    display: none;\n",
              "    fill: #1967D2;\n",
              "    height: 32px;\n",
              "    padding: 0 0 0 0;\n",
              "    width: 32px;\n",
              "  }\n",
              "\n",
              "  .colab-df-quickchart:hover {\n",
              "    background-color: #E2EBFA;\n",
              "    box-shadow: 0px 1px 2px rgba(60, 64, 67, 0.3), 0px 1px 3px 1px rgba(60, 64, 67, 0.15);\n",
              "    fill: #174EA6;\n",
              "  }\n",
              "\n",
              "  [theme=dark] .colab-df-quickchart {\n",
              "    background-color: #3B4455;\n",
              "    fill: #D2E3FC;\n",
              "  }\n",
              "\n",
              "  [theme=dark] .colab-df-quickchart:hover {\n",
              "    background-color: #434B5C;\n",
              "    box-shadow: 0px 1px 3px 1px rgba(0, 0, 0, 0.15);\n",
              "    filter: drop-shadow(0px 1px 2px rgba(0, 0, 0, 0.3));\n",
              "    fill: #FFFFFF;\n",
              "  }\n",
              "</style>\n",
              "\n",
              "    <script>\n",
              "      async function quickchart(key) {\n",
              "        const containerElement = document.querySelector('#' + key);\n",
              "        const charts = await google.colab.kernel.invokeFunction(\n",
              "            'suggestCharts', [key], {});\n",
              "      }\n",
              "    </script>\n",
              "\n",
              "      <script>\n",
              "\n",
              "function displayQuickchartButton(domScope) {\n",
              "  let quickchartButtonEl =\n",
              "    domScope.querySelector('#df-12ec5b77-980f-4003-8fa0-44f5a01619e4 button.colab-df-quickchart');\n",
              "  quickchartButtonEl.style.display =\n",
              "    google.colab.kernel.accessAllowed ? 'block' : 'none';\n",
              "}\n",
              "\n",
              "        displayQuickchartButton(document);\n",
              "      </script>\n",
              "      <style>\n",
              "    .colab-df-container {\n",
              "      display:flex;\n",
              "      flex-wrap:wrap;\n",
              "      gap: 12px;\n",
              "    }\n",
              "\n",
              "    .colab-df-convert {\n",
              "      background-color: #E8F0FE;\n",
              "      border: none;\n",
              "      border-radius: 50%;\n",
              "      cursor: pointer;\n",
              "      display: none;\n",
              "      fill: #1967D2;\n",
              "      height: 32px;\n",
              "      padding: 0 0 0 0;\n",
              "      width: 32px;\n",
              "    }\n",
              "\n",
              "    .colab-df-convert:hover {\n",
              "      background-color: #E2EBFA;\n",
              "      box-shadow: 0px 1px 2px rgba(60, 64, 67, 0.3), 0px 1px 3px 1px rgba(60, 64, 67, 0.15);\n",
              "      fill: #174EA6;\n",
              "    }\n",
              "\n",
              "    [theme=dark] .colab-df-convert {\n",
              "      background-color: #3B4455;\n",
              "      fill: #D2E3FC;\n",
              "    }\n",
              "\n",
              "    [theme=dark] .colab-df-convert:hover {\n",
              "      background-color: #434B5C;\n",
              "      box-shadow: 0px 1px 3px 1px rgba(0, 0, 0, 0.15);\n",
              "      filter: drop-shadow(0px 1px 2px rgba(0, 0, 0, 0.3));\n",
              "      fill: #FFFFFF;\n",
              "    }\n",
              "  </style>\n",
              "\n",
              "      <script>\n",
              "        const buttonEl =\n",
              "          document.querySelector('#df-33a02cf2-f7c8-421d-a522-4a0d8c83d761 button.colab-df-convert');\n",
              "        buttonEl.style.display =\n",
              "          google.colab.kernel.accessAllowed ? 'block' : 'none';\n",
              "\n",
              "        async function convertToInteractive(key) {\n",
              "          const element = document.querySelector('#df-33a02cf2-f7c8-421d-a522-4a0d8c83d761');\n",
              "          const dataTable =\n",
              "            await google.colab.kernel.invokeFunction('convertToInteractive',\n",
              "                                                     [key], {});\n",
              "          if (!dataTable) return;\n",
              "\n",
              "          const docLinkHtml = 'Like what you see? Visit the ' +\n",
              "            '<a target=\"_blank\" href=https://colab.research.google.com/notebooks/data_table.ipynb>data table notebook</a>'\n",
              "            + ' to learn more about interactive tables.';\n",
              "          element.innerHTML = '';\n",
              "          dataTable['output_type'] = 'display_data';\n",
              "          await google.colab.output.renderOutput(dataTable, element);\n",
              "          const docLink = document.createElement('div');\n",
              "          docLink.innerHTML = docLinkHtml;\n",
              "          element.appendChild(docLink);\n",
              "        }\n",
              "      </script>\n",
              "    </div>\n",
              "  </div>\n"
            ]
          },
          "metadata": {},
          "execution_count": 19
        }
      ]
    },
    {
      "cell_type": "markdown",
      "source": [
        "**Output Data / Class Label / Target**"
      ],
      "metadata": {
        "id": "uF2y5pV8maU4"
      }
    },
    {
      "cell_type": "code",
      "source": [
        "y=df['Sleep Disorder']\n",
        "y"
      ],
      "metadata": {
        "colab": {
          "base_uri": "https://localhost:8080/"
        },
        "id": "Br-fi_HKnj0w",
        "outputId": "906f0dd5-3c0e-4b5a-e068-9d5b26dabb5e"
      },
      "execution_count": null,
      "outputs": [
        {
          "output_type": "execute_result",
          "data": {
            "text/plain": [
              "0      1\n",
              "1      1\n",
              "2      1\n",
              "3      2\n",
              "4      2\n",
              "      ..\n",
              "369    2\n",
              "370    2\n",
              "371    2\n",
              "372    2\n",
              "373    2\n",
              "Name: Sleep Disorder, Length: 374, dtype: int64"
            ]
          },
          "metadata": {},
          "execution_count": 20
        }
      ]
    },
    {
      "cell_type": "markdown",
      "source": [
        "**Scaling the input data to normalize the values**"
      ],
      "metadata": {
        "id": "YWQMWX-4mhE6"
      }
    },
    {
      "cell_type": "code",
      "source": [
        "mms=MinMaxScaler()\n",
        "Xm=mms.fit_transform(X)\n",
        "Xm"
      ],
      "metadata": {
        "colab": {
          "base_uri": "https://localhost:8080/"
        },
        "id": "0KKAljjToGlk",
        "outputId": "73e1b2f8-26c0-421a-aa68-86d844b009fc"
      },
      "execution_count": null,
      "outputs": [
        {
          "output_type": "execute_result",
          "data": {
            "text/plain": [
              "array([[1.        , 0.        , 0.9       , ..., 0.17142857, 0.40740741,\n",
              "        0.4       ],\n",
              "       [1.        , 0.03125   , 0.1       , ..., 1.        , 0.37037037,\n",
              "        0.25      ],\n",
              "       [1.        , 0.03125   , 0.1       , ..., 1.        , 0.37037037,\n",
              "        0.25      ],\n",
              "       ...,\n",
              "       [0.        , 1.        , 0.5       , ..., 0.57142857, 0.92592593,\n",
              "        1.        ],\n",
              "       [0.        , 1.        , 0.5       , ..., 0.57142857, 0.92592593,\n",
              "        1.        ],\n",
              "       [0.        , 1.        , 0.5       , ..., 0.57142857, 0.92592593,\n",
              "        1.        ]])"
            ]
          },
          "metadata": {},
          "execution_count": 21
        }
      ]
    },
    {
      "cell_type": "markdown",
      "source": [
        "**Splitting the data as training dataset and testing dataset for training the machine and testing the accuracy**"
      ],
      "metadata": {
        "id": "5mz_PCEXmx-d"
      }
    },
    {
      "cell_type": "code",
      "source": [
        "X_train,X_test,y_train,y_test=train_test_split(Xm,y,test_size=0.3,random_state=1)"
      ],
      "metadata": {
        "id": "M_4hHUBYoYWB"
      },
      "execution_count": null,
      "outputs": []
    },
    {
      "cell_type": "markdown",
      "source": [
        "# **Models/Algorithms**\n",
        "\n",
        "**K-Nearest Neighbor**"
      ],
      "metadata": {
        "id": "dV_QZcYLnN53"
      }
    },
    {
      "cell_type": "code",
      "source": [
        "knn=KNeighborsClassifier()\n",
        "knn.fit(X_train,y_train)\n",
        "y_pred_knn=knn.predict(X_test)\n",
        "y_pred_knn"
      ],
      "metadata": {
        "colab": {
          "base_uri": "https://localhost:8080/"
        },
        "id": "Hy0jlB1codBm",
        "outputId": "5b2b1ae7-616e-44c0-e1dd-2da8515244c8"
      },
      "execution_count": null,
      "outputs": [
        {
          "output_type": "execute_result",
          "data": {
            "text/plain": [
              "array([1, 1, 2, 0, 1, 2, 0, 1, 1, 1, 1, 1, 0, 0, 0, 0, 2, 1, 1, 1, 0, 0,\n",
              "       1, 2, 2, 0, 1, 1, 2, 1, 1, 2, 1, 0, 0, 1, 1, 1, 1, 1, 1, 2, 1, 1,\n",
              "       1, 1, 2, 2, 1, 1, 1, 0, 1, 0, 1, 1, 1, 0, 1, 2, 2, 1, 1, 2, 1, 2,\n",
              "       1, 1, 1, 0, 1, 1, 2, 1, 0, 2, 0, 1, 2, 1, 0, 1, 0, 0, 0, 1, 1, 1,\n",
              "       0, 1, 2, 1, 0, 1, 1, 1, 2, 1, 1, 0, 2, 1, 1, 1, 1, 1, 0, 0, 1, 1,\n",
              "       1, 2, 1])"
            ]
          },
          "metadata": {},
          "execution_count": 23
        }
      ]
    },
    {
      "cell_type": "markdown",
      "source": [
        "**Support Vector Classification**"
      ],
      "metadata": {
        "id": "YgvYUnF4ol02"
      }
    },
    {
      "cell_type": "code",
      "source": [
        "sv=SVC()\n",
        "sv.fit(X_train,y_train)\n",
        "y_pred_sv=sv.predict(X_test)\n",
        "y_pred_sv"
      ],
      "metadata": {
        "colab": {
          "base_uri": "https://localhost:8080/"
        },
        "id": "svvtgZmZody0",
        "outputId": "464fb06a-a318-4a32-a183-1b1441cf79db"
      },
      "execution_count": null,
      "outputs": [
        {
          "output_type": "execute_result",
          "data": {
            "text/plain": [
              "array([1, 1, 2, 0, 1, 2, 1, 1, 1, 1, 1, 1, 0, 0, 2, 0, 2, 1, 1, 1, 2, 0,\n",
              "       1, 2, 2, 2, 1, 1, 2, 1, 1, 2, 1, 0, 0, 1, 1, 1, 1, 1, 1, 2, 1, 1,\n",
              "       1, 1, 2, 2, 1, 1, 1, 0, 1, 0, 1, 1, 1, 2, 1, 2, 2, 1, 1, 2, 1, 2,\n",
              "       1, 1, 1, 0, 1, 1, 2, 1, 1, 2, 0, 1, 2, 1, 0, 1, 0, 0, 0, 1, 1, 1,\n",
              "       0, 1, 2, 1, 0, 1, 1, 1, 2, 1, 1, 0, 2, 1, 1, 1, 1, 1, 0, 0, 1, 1,\n",
              "       1, 2, 1])"
            ]
          },
          "metadata": {},
          "execution_count": 24
        }
      ]
    },
    {
      "cell_type": "markdown",
      "source": [
        "**Naive Bayes Classification**"
      ],
      "metadata": {
        "id": "CQvUtRTTop3G"
      }
    },
    {
      "cell_type": "code",
      "source": [
        "nb=GaussianNB()\n",
        "nb.fit(X_train,y_train)\n",
        "y_pred_nb=nb.predict(X_test)\n",
        "y_pred_nb"
      ],
      "metadata": {
        "colab": {
          "base_uri": "https://localhost:8080/"
        },
        "id": "LVQXJuT9og3Q",
        "outputId": "7c5b174e-1cfb-4028-856d-c73c8289a850"
      },
      "execution_count": null,
      "outputs": [
        {
          "output_type": "execute_result",
          "data": {
            "text/plain": [
              "array([1, 1, 2, 0, 1, 2, 1, 1, 1, 1, 1, 1, 0, 0, 2, 0, 2, 1, 1, 1, 0, 0,\n",
              "       1, 2, 2, 2, 1, 1, 2, 1, 1, 2, 1, 0, 0, 1, 1, 1, 1, 1, 1, 2, 1, 1,\n",
              "       1, 1, 2, 2, 1, 1, 1, 0, 1, 0, 0, 1, 1, 2, 1, 2, 2, 1, 1, 2, 1, 2,\n",
              "       1, 1, 1, 0, 1, 1, 2, 1, 0, 2, 0, 1, 2, 1, 0, 1, 2, 0, 0, 1, 1, 1,\n",
              "       0, 1, 2, 1, 0, 1, 1, 1, 2, 1, 1, 0, 2, 1, 1, 1, 1, 1, 0, 0, 1, 1,\n",
              "       1, 2, 1])"
            ]
          },
          "metadata": {},
          "execution_count": 25
        }
      ]
    },
    {
      "cell_type": "markdown",
      "source": [
        "**Decision Tree Classification**"
      ],
      "metadata": {
        "id": "kh_aM8KQoyUR"
      }
    },
    {
      "cell_type": "code",
      "source": [
        "de=DecisionTreeClassifier()\n",
        "de.fit(X_train,y_train)\n",
        "y_pred_de=de.predict(X_test)\n",
        "y_pred_de"
      ],
      "metadata": {
        "colab": {
          "base_uri": "https://localhost:8080/"
        },
        "id": "yoVea3QbolZK",
        "outputId": "fa15d483-1fae-4bf8-e5eb-19f330e8bf11"
      },
      "execution_count": null,
      "outputs": [
        {
          "output_type": "execute_result",
          "data": {
            "text/plain": [
              "array([1, 1, 1, 0, 1, 2, 1, 1, 1, 1, 1, 1, 0, 0, 2, 0, 2, 1, 1, 1, 2, 0,\n",
              "       1, 2, 2, 2, 1, 1, 2, 1, 1, 1, 1, 0, 0, 1, 1, 1, 1, 1, 1, 2, 1, 1,\n",
              "       1, 1, 2, 2, 1, 1, 1, 0, 1, 0, 1, 1, 1, 2, 1, 2, 2, 1, 1, 2, 1, 2,\n",
              "       1, 1, 1, 0, 1, 1, 2, 1, 1, 2, 0, 1, 2, 1, 0, 1, 2, 0, 0, 1, 1, 1,\n",
              "       0, 1, 2, 1, 0, 1, 1, 1, 2, 1, 1, 0, 2, 1, 1, 0, 1, 1, 0, 0, 1, 1,\n",
              "       1, 2, 1])"
            ]
          },
          "metadata": {},
          "execution_count": 26
        }
      ]
    },
    {
      "cell_type": "markdown",
      "source": [
        "# **Ensemble Methods**\n",
        "\n",
        "**Random Forest Classification**"
      ],
      "metadata": {
        "id": "U7GTiA4qo37C"
      }
    },
    {
      "cell_type": "code",
      "source": [
        "rf=RandomForestClassifier(random_state=1)\n",
        "rf.fit(X_train,y_train)\n",
        "y_pred_rf=rf.predict(X_test)\n",
        "y_pred_rf"
      ],
      "metadata": {
        "colab": {
          "base_uri": "https://localhost:8080/"
        },
        "id": "cjxqqVIForB6",
        "outputId": "b562cc73-7e57-4607-e488-79880eeec099"
      },
      "execution_count": null,
      "outputs": [
        {
          "output_type": "execute_result",
          "data": {
            "text/plain": [
              "array([1, 1, 2, 0, 1, 2, 1, 1, 1, 1, 1, 1, 0, 0, 2, 0, 2, 1, 1, 1, 2, 0,\n",
              "       1, 2, 2, 2, 1, 1, 2, 1, 1, 2, 1, 0, 0, 1, 1, 1, 1, 1, 1, 2, 1, 1,\n",
              "       1, 1, 2, 2, 1, 1, 1, 0, 1, 0, 1, 1, 1, 2, 1, 2, 2, 1, 1, 2, 1, 2,\n",
              "       1, 1, 1, 0, 1, 1, 2, 1, 1, 2, 0, 1, 2, 1, 0, 1, 2, 0, 0, 1, 1, 1,\n",
              "       0, 1, 2, 1, 0, 1, 1, 1, 2, 1, 1, 0, 2, 1, 1, 1, 1, 1, 0, 0, 1, 1,\n",
              "       1, 2, 1])"
            ]
          },
          "metadata": {},
          "execution_count": 27
        }
      ]
    },
    {
      "cell_type": "markdown",
      "source": [
        "**Ada Boost Classification**"
      ],
      "metadata": {
        "id": "ieja-RPPpGms"
      }
    },
    {
      "cell_type": "code",
      "source": [
        "ad=AdaBoostClassifier(random_state=1)\n",
        "ad.fit(X_train,y_train)\n",
        "y_pred_ad=ad.predict(X_test)\n",
        "y_pred_ad"
      ],
      "metadata": {
        "colab": {
          "base_uri": "https://localhost:8080/"
        },
        "id": "r6CnnOQUottG",
        "outputId": "efca2551-35a5-475c-9757-20ac7540280f"
      },
      "execution_count": null,
      "outputs": [
        {
          "output_type": "execute_result",
          "data": {
            "text/plain": [
              "array([1, 1, 2, 1, 1, 2, 1, 1, 1, 1, 1, 1, 0, 0, 1, 1, 2, 1, 1, 1, 2, 0,\n",
              "       1, 2, 2, 1, 1, 1, 2, 1, 1, 2, 1, 0, 0, 1, 1, 1, 1, 1, 1, 2, 1, 1,\n",
              "       1, 1, 2, 2, 1, 1, 1, 1, 1, 0, 2, 1, 1, 2, 1, 2, 2, 1, 1, 2, 1, 2,\n",
              "       1, 1, 1, 1, 1, 1, 2, 1, 1, 2, 1, 1, 2, 1, 1, 1, 2, 0, 1, 1, 1, 1,\n",
              "       0, 1, 2, 1, 1, 1, 1, 1, 2, 1, 1, 0, 2, 1, 1, 1, 1, 1, 0, 1, 1, 1,\n",
              "       1, 2, 1])"
            ]
          },
          "metadata": {},
          "execution_count": 28
        }
      ]
    },
    {
      "cell_type": "markdown",
      "source": [
        "**Gradient Boost Classification**"
      ],
      "metadata": {
        "id": "wiILNypjpKXZ"
      }
    },
    {
      "cell_type": "code",
      "source": [
        "gd=GradientBoostingClassifier(random_state=1)\n",
        "gd.fit(X_train,y_train)\n",
        "y_pred_gd=gd.predict(X_test)\n",
        "y_pred_gd"
      ],
      "metadata": {
        "colab": {
          "base_uri": "https://localhost:8080/"
        },
        "id": "Wl9fuJDQoxUd",
        "outputId": "48388c91-357d-4b9d-99d6-493ab8363e65"
      },
      "execution_count": null,
      "outputs": [
        {
          "output_type": "execute_result",
          "data": {
            "text/plain": [
              "array([1, 1, 2, 0, 1, 2, 1, 1, 1, 1, 1, 1, 0, 0, 2, 0, 2, 1, 1, 1, 2, 0,\n",
              "       1, 2, 2, 2, 1, 1, 2, 1, 1, 2, 1, 0, 0, 1, 1, 1, 1, 1, 1, 2, 1, 1,\n",
              "       1, 1, 2, 2, 1, 1, 1, 0, 1, 0, 1, 1, 1, 2, 1, 2, 2, 1, 1, 2, 1, 2,\n",
              "       1, 1, 1, 0, 1, 1, 2, 1, 1, 2, 0, 1, 2, 1, 0, 1, 2, 0, 0, 1, 1, 1,\n",
              "       0, 1, 2, 1, 0, 1, 1, 1, 2, 1, 1, 0, 2, 1, 1, 1, 1, 1, 0, 0, 1, 1,\n",
              "       1, 2, 1])"
            ]
          },
          "metadata": {},
          "execution_count": 29
        }
      ]
    },
    {
      "cell_type": "markdown",
      "source": [
        "**XG Boost Classification**"
      ],
      "metadata": {
        "id": "q9O6yNT6pTd_"
      }
    },
    {
      "cell_type": "code",
      "source": [
        "xg=XGBClassifier(random_state=1)\n",
        "xg.fit(X_train,y_train)\n",
        "y_pred_xg=xg.predict(X_test)\n",
        "y_pred_xg"
      ],
      "metadata": {
        "colab": {
          "base_uri": "https://localhost:8080/"
        },
        "id": "elKkVcHTo0ad",
        "outputId": "4ce958dd-a585-431d-e426-a469f0aace3c"
      },
      "execution_count": null,
      "outputs": [
        {
          "output_type": "execute_result",
          "data": {
            "text/plain": [
              "array([1, 1, 2, 0, 1, 2, 1, 1, 1, 1, 1, 1, 0, 0, 2, 0, 2, 1, 1, 1, 2, 0,\n",
              "       1, 2, 2, 2, 1, 1, 2, 1, 1, 2, 1, 0, 0, 1, 1, 1, 1, 1, 1, 2, 1, 1,\n",
              "       1, 1, 2, 2, 1, 1, 1, 0, 1, 0, 1, 1, 1, 2, 1, 2, 2, 1, 1, 2, 1, 2,\n",
              "       1, 1, 1, 0, 1, 1, 2, 1, 1, 2, 0, 1, 2, 1, 0, 1, 2, 0, 0, 1, 1, 1,\n",
              "       0, 1, 2, 1, 0, 1, 1, 1, 2, 1, 1, 0, 2, 1, 1, 1, 1, 1, 0, 0, 1, 1,\n",
              "       1, 2, 1])"
            ]
          },
          "metadata": {},
          "execution_count": 30
        }
      ]
    },
    {
      "cell_type": "markdown",
      "source": [
        "**Stacking Classification**"
      ],
      "metadata": {
        "id": "kr14KHuApXZc"
      }
    },
    {
      "cell_type": "code",
      "source": [
        "lst=[('knn',KNeighborsClassifier()),('svc',SVC()),('nbc',GaussianNB()),('dtc',DecisionTreeClassifier(random_state=1)),('rfc',RandomForestClassifier(random_state=1)),('abc',AdaBoostClassifier()),('gbc',GradientBoostingClassifier()),('xbc',XGBClassifier())]\n",
        "sc=StackingClassifier(estimators=lst,final_estimator=LogisticRegression())\n",
        "sc.fit(X_train,y_train)\n",
        "y_pred_sc=sc.predict(X_test)\n",
        "y_pred_sc"
      ],
      "metadata": {
        "colab": {
          "base_uri": "https://localhost:8080/"
        },
        "id": "TH1OecdJo3fb",
        "outputId": "90481e16-f0c8-4709-d3e9-65524c3cdfef"
      },
      "execution_count": null,
      "outputs": [
        {
          "output_type": "execute_result",
          "data": {
            "text/plain": [
              "array([1, 1, 2, 0, 1, 2, 1, 1, 1, 1, 1, 1, 0, 0, 2, 0, 2, 1, 1, 1, 2, 0,\n",
              "       1, 2, 2, 2, 1, 1, 2, 1, 1, 2, 1, 0, 0, 1, 1, 1, 1, 1, 1, 2, 1, 1,\n",
              "       1, 1, 2, 2, 1, 1, 1, 0, 1, 0, 1, 1, 1, 2, 1, 2, 2, 1, 1, 2, 1, 2,\n",
              "       1, 1, 1, 0, 1, 1, 2, 1, 1, 2, 0, 1, 2, 1, 0, 1, 0, 0, 0, 1, 1, 1,\n",
              "       0, 1, 2, 1, 0, 1, 1, 1, 2, 1, 1, 0, 2, 1, 1, 1, 1, 1, 0, 0, 1, 1,\n",
              "       1, 2, 1])"
            ]
          },
          "metadata": {},
          "execution_count": 31
        }
      ]
    },
    {
      "cell_type": "markdown",
      "source": [
        "# **Preformance Measures**\n",
        "\n",
        "**Accuracy Score, Classification Report, Confusion Matrix Display**"
      ],
      "metadata": {
        "id": "Gza5BoLIp1Wr"
      }
    },
    {
      "cell_type": "code",
      "source": [
        "lst=[knn,sv,nb,de,rf,ad,gd,xg,sc]\n",
        "acc_score1=[]\n",
        "for i in lst:\n",
        "  print('*'*20,i,'*'*20)\n",
        "  i.fit(X_train,y_train)\n",
        "  y_pred=i.predict(X_test)\n",
        "  acc=accuracy_score(y_test,y_pred)*100\n",
        "  print('Accuracy Score: ',acc)\n",
        "  print(classification_report(y_test,y_pred))\n",
        "  print('_'*200)\n",
        "  acc_score1.append(acc)"
      ],
      "metadata": {
        "colab": {
          "base_uri": "https://localhost:8080/"
        },
        "id": "Nj5xMLC8o5go",
        "outputId": "18910a1d-0c2a-42ac-ce27-9887eb91a88a"
      },
      "execution_count": null,
      "outputs": [
        {
          "output_type": "stream",
          "name": "stdout",
          "text": [
            "******************** KNeighborsClassifier() ********************\n",
            "Accuracy Score:  86.72566371681415\n",
            "              precision    recall  f1-score   support\n",
            "\n",
            "           0       0.69      0.78      0.73        23\n",
            "           1       0.91      0.92      0.92        65\n",
            "           2       0.95      0.80      0.87        25\n",
            "\n",
            "    accuracy                           0.87       113\n",
            "   macro avg       0.85      0.84      0.84       113\n",
            "weighted avg       0.87      0.87      0.87       113\n",
            "\n",
            "________________________________________________________________________________________________________________________________________________________________________________________________________\n",
            "******************** SVC() ********************\n",
            "Accuracy Score:  88.49557522123894\n",
            "              precision    recall  f1-score   support\n",
            "\n",
            "           0       0.80      0.70      0.74        23\n",
            "           1       0.91      0.95      0.93        65\n",
            "           2       0.88      0.88      0.88        25\n",
            "\n",
            "    accuracy                           0.88       113\n",
            "   macro avg       0.86      0.84      0.85       113\n",
            "weighted avg       0.88      0.88      0.88       113\n",
            "\n",
            "________________________________________________________________________________________________________________________________________________________________________________________________________\n",
            "******************** GaussianNB() ********************\n",
            "Accuracy Score:  88.49557522123894\n",
            "              precision    recall  f1-score   support\n",
            "\n",
            "           0       0.77      0.74      0.76        23\n",
            "           1       0.91      0.92      0.92        65\n",
            "           2       0.92      0.92      0.92        25\n",
            "\n",
            "    accuracy                           0.88       113\n",
            "   macro avg       0.87      0.86      0.86       113\n",
            "weighted avg       0.88      0.88      0.88       113\n",
            "\n",
            "________________________________________________________________________________________________________________________________________________________________________________________________________\n",
            "******************** DecisionTreeClassifier() ********************\n",
            "Accuracy Score:  86.72566371681415\n",
            "              precision    recall  f1-score   support\n",
            "\n",
            "           0       0.80      0.70      0.74        23\n",
            "           1       0.88      0.94      0.91        65\n",
            "           2       0.88      0.84      0.86        25\n",
            "\n",
            "    accuracy                           0.87       113\n",
            "   macro avg       0.85      0.82      0.84       113\n",
            "weighted avg       0.86      0.87      0.86       113\n",
            "\n",
            "________________________________________________________________________________________________________________________________________________________________________________________________________\n",
            "******************** RandomForestClassifier(random_state=1) ********************\n",
            "Accuracy Score:  89.38053097345133\n",
            "              precision    recall  f1-score   support\n",
            "\n",
            "           0       0.84      0.70      0.76        23\n",
            "           1       0.91      0.95      0.93        65\n",
            "           2       0.88      0.92      0.90        25\n",
            "\n",
            "    accuracy                           0.89       113\n",
            "   macro avg       0.88      0.86      0.87       113\n",
            "weighted avg       0.89      0.89      0.89       113\n",
            "\n",
            "________________________________________________________________________________________________________________________________________________________________________________________________________\n",
            "******************** AdaBoostClassifier(random_state=1) ********************\n",
            "Accuracy Score:  81.41592920353983\n",
            "              precision    recall  f1-score   support\n",
            "\n",
            "           0       0.80      0.35      0.48        23\n",
            "           1       0.79      0.95      0.87        65\n",
            "           2       0.88      0.88      0.88        25\n",
            "\n",
            "    accuracy                           0.81       113\n",
            "   macro avg       0.82      0.73      0.74       113\n",
            "weighted avg       0.81      0.81      0.79       113\n",
            "\n",
            "________________________________________________________________________________________________________________________________________________________________________________________________________\n",
            "******************** GradientBoostingClassifier(random_state=1) ********************\n",
            "Accuracy Score:  89.38053097345133\n",
            "              precision    recall  f1-score   support\n",
            "\n",
            "           0       0.84      0.70      0.76        23\n",
            "           1       0.91      0.95      0.93        65\n",
            "           2       0.88      0.92      0.90        25\n",
            "\n",
            "    accuracy                           0.89       113\n",
            "   macro avg       0.88      0.86      0.87       113\n",
            "weighted avg       0.89      0.89      0.89       113\n",
            "\n",
            "________________________________________________________________________________________________________________________________________________________________________________________________________\n",
            "******************** XGBClassifier(base_score=None, booster=None, callbacks=None,\n",
            "              colsample_bylevel=None, colsample_bynode=None,\n",
            "              colsample_bytree=None, early_stopping_rounds=None,\n",
            "              enable_categorical=False, eval_metric=None, feature_types=None,\n",
            "              gamma=None, gpu_id=None, grow_policy=None, importance_type=None,\n",
            "              interaction_constraints=None, learning_rate=None, max_bin=None,\n",
            "              max_cat_threshold=None, max_cat_to_onehot=None,\n",
            "              max_delta_step=None, max_depth=None, max_leaves=None,\n",
            "              min_child_weight=None, missing=nan, monotone_constraints=None,\n",
            "              n_estimators=100, n_jobs=None, num_parallel_tree=None,\n",
            "              objective='multi:softprob', predictor=None, ...) ********************\n",
            "Accuracy Score:  89.38053097345133\n",
            "              precision    recall  f1-score   support\n",
            "\n",
            "           0       0.84      0.70      0.76        23\n",
            "           1       0.91      0.95      0.93        65\n",
            "           2       0.88      0.92      0.90        25\n",
            "\n",
            "    accuracy                           0.89       113\n",
            "   macro avg       0.88      0.86      0.87       113\n",
            "weighted avg       0.89      0.89      0.89       113\n",
            "\n",
            "________________________________________________________________________________________________________________________________________________________________________________________________________\n",
            "******************** StackingClassifier(estimators=[('knn', KNeighborsClassifier()), ('svc', SVC()),\n",
            "                               ('nbc', GaussianNB()),\n",
            "                               ('dtc', DecisionTreeClassifier(random_state=1)),\n",
            "                               ('rfc', RandomForestClassifier(random_state=1)),\n",
            "                               ('abc', AdaBoostClassifier()),\n",
            "                               ('gbc', GradientBoostingClassifier()),\n",
            "                               ('xbc',\n",
            "                                XGBClassifier(base_score=None, booster=None,\n",
            "                                              callbacks=None,\n",
            "                                              colsample_bylevel=None,\n",
            "                                              colsa...\n",
            "                                              importance_type=None,\n",
            "                                              interaction_constraints=None,\n",
            "                                              learning_rate=None, max_bin=None,\n",
            "                                              max_cat_threshold=None,\n",
            "                                              max_cat_to_onehot=None,\n",
            "                                              max_delta_step=None,\n",
            "                                              max_depth=None, max_leaves=None,\n",
            "                                              min_child_weight=None,\n",
            "                                              missing=nan,\n",
            "                                              monotone_constraints=None,\n",
            "                                              n_estimators=100, n_jobs=None,\n",
            "                                              num_parallel_tree=None,\n",
            "                                              predictor=None, random_state=None, ...))],\n",
            "                   final_estimator=LogisticRegression()) ********************\n",
            "Accuracy Score:  88.49557522123894\n",
            "              precision    recall  f1-score   support\n",
            "\n",
            "           0       0.80      0.70      0.74        23\n",
            "           1       0.91      0.95      0.93        65\n",
            "           2       0.88      0.88      0.88        25\n",
            "\n",
            "    accuracy                           0.88       113\n",
            "   macro avg       0.86      0.84      0.85       113\n",
            "weighted avg       0.88      0.88      0.88       113\n",
            "\n",
            "________________________________________________________________________________________________________________________________________________________________________________________________________\n"
          ]
        }
      ]
    },
    {
      "cell_type": "markdown",
      "source": [
        "**Accuracy Table**"
      ],
      "metadata": {
        "id": "T6SZFUR4tbRC"
      }
    },
    {
      "cell_type": "code",
      "source": [
        "alg_name=['KNeighborsClassifier','SVC','GaussianNB','DecisionTreeClassifier','RandomForestClassifier','AdaBoostClassifier','GradientBoostingClassifier','XGBClassifier','StackingClassifier']\n",
        "dic={'Model':alg_name,'Accuracy with Default Parameters':acc_score1}\n",
        "acc1=pd.DataFrame(dic)\n",
        "acc1.sort_values(by='Accuracy with Default Parameters',ascending=False,ignore_index=True,inplace=True)\n",
        "# acc1.style.highlight_max(subset=['Accuracy with Default Parameters'],color='green',axis=0)\n",
        "acc1"
      ],
      "metadata": {
        "colab": {
          "base_uri": "https://localhost:8080/",
          "height": 332
        },
        "id": "6s5UPfqxNMcd",
        "outputId": "42b42dea-7586-4db7-91e9-14f1a6cc1787"
      },
      "execution_count": null,
      "outputs": [
        {
          "output_type": "execute_result",
          "data": {
            "text/plain": [
              "                        Model  Accuracy with Default Parameters\n",
              "0      RandomForestClassifier                         89.380531\n",
              "1  GradientBoostingClassifier                         89.380531\n",
              "2               XGBClassifier                         89.380531\n",
              "3                         SVC                         88.495575\n",
              "4                  GaussianNB                         88.495575\n",
              "5          StackingClassifier                         88.495575\n",
              "6        KNeighborsClassifier                         86.725664\n",
              "7      DecisionTreeClassifier                         86.725664\n",
              "8          AdaBoostClassifier                         81.415929"
            ],
            "text/html": [
              "\n",
              "\n",
              "  <div id=\"df-ee7817f9-522e-443c-94d3-f6ae00d896b5\">\n",
              "    <div class=\"colab-df-container\">\n",
              "      <div>\n",
              "<style scoped>\n",
              "    .dataframe tbody tr th:only-of-type {\n",
              "        vertical-align: middle;\n",
              "    }\n",
              "\n",
              "    .dataframe tbody tr th {\n",
              "        vertical-align: top;\n",
              "    }\n",
              "\n",
              "    .dataframe thead th {\n",
              "        text-align: right;\n",
              "    }\n",
              "</style>\n",
              "<table border=\"1\" class=\"dataframe\">\n",
              "  <thead>\n",
              "    <tr style=\"text-align: right;\">\n",
              "      <th></th>\n",
              "      <th>Model</th>\n",
              "      <th>Accuracy with Default Parameters</th>\n",
              "    </tr>\n",
              "  </thead>\n",
              "  <tbody>\n",
              "    <tr>\n",
              "      <th>0</th>\n",
              "      <td>RandomForestClassifier</td>\n",
              "      <td>89.380531</td>\n",
              "    </tr>\n",
              "    <tr>\n",
              "      <th>1</th>\n",
              "      <td>GradientBoostingClassifier</td>\n",
              "      <td>89.380531</td>\n",
              "    </tr>\n",
              "    <tr>\n",
              "      <th>2</th>\n",
              "      <td>XGBClassifier</td>\n",
              "      <td>89.380531</td>\n",
              "    </tr>\n",
              "    <tr>\n",
              "      <th>3</th>\n",
              "      <td>SVC</td>\n",
              "      <td>88.495575</td>\n",
              "    </tr>\n",
              "    <tr>\n",
              "      <th>4</th>\n",
              "      <td>GaussianNB</td>\n",
              "      <td>88.495575</td>\n",
              "    </tr>\n",
              "    <tr>\n",
              "      <th>5</th>\n",
              "      <td>StackingClassifier</td>\n",
              "      <td>88.495575</td>\n",
              "    </tr>\n",
              "    <tr>\n",
              "      <th>6</th>\n",
              "      <td>KNeighborsClassifier</td>\n",
              "      <td>86.725664</td>\n",
              "    </tr>\n",
              "    <tr>\n",
              "      <th>7</th>\n",
              "      <td>DecisionTreeClassifier</td>\n",
              "      <td>86.725664</td>\n",
              "    </tr>\n",
              "    <tr>\n",
              "      <th>8</th>\n",
              "      <td>AdaBoostClassifier</td>\n",
              "      <td>81.415929</td>\n",
              "    </tr>\n",
              "  </tbody>\n",
              "</table>\n",
              "</div>\n",
              "      <button class=\"colab-df-convert\" onclick=\"convertToInteractive('df-ee7817f9-522e-443c-94d3-f6ae00d896b5')\"\n",
              "              title=\"Convert this dataframe to an interactive table.\"\n",
              "              style=\"display:none;\">\n",
              "\n",
              "  <svg xmlns=\"http://www.w3.org/2000/svg\" height=\"24px\"viewBox=\"0 0 24 24\"\n",
              "       width=\"24px\">\n",
              "    <path d=\"M0 0h24v24H0V0z\" fill=\"none\"/>\n",
              "    <path d=\"M18.56 5.44l.94 2.06.94-2.06 2.06-.94-2.06-.94-.94-2.06-.94 2.06-2.06.94zm-11 1L8.5 8.5l.94-2.06 2.06-.94-2.06-.94L8.5 2.5l-.94 2.06-2.06.94zm10 10l.94 2.06.94-2.06 2.06-.94-2.06-.94-.94-2.06-.94 2.06-2.06.94z\"/><path d=\"M17.41 7.96l-1.37-1.37c-.4-.4-.92-.59-1.43-.59-.52 0-1.04.2-1.43.59L10.3 9.45l-7.72 7.72c-.78.78-.78 2.05 0 2.83L4 21.41c.39.39.9.59 1.41.59.51 0 1.02-.2 1.41-.59l7.78-7.78 2.81-2.81c.8-.78.8-2.07 0-2.86zM5.41 20L4 18.59l7.72-7.72 1.47 1.35L5.41 20z\"/>\n",
              "  </svg>\n",
              "      </button>\n",
              "\n",
              "\n",
              "\n",
              "    <div id=\"df-75512e0a-a2fe-4e20-bed0-02b101c404f3\">\n",
              "      <button class=\"colab-df-quickchart\" onclick=\"quickchart('df-75512e0a-a2fe-4e20-bed0-02b101c404f3')\"\n",
              "              title=\"Suggest charts.\"\n",
              "              style=\"display:none;\">\n",
              "\n",
              "<svg xmlns=\"http://www.w3.org/2000/svg\" height=\"24px\"viewBox=\"0 0 24 24\"\n",
              "     width=\"24px\">\n",
              "    <g>\n",
              "        <path d=\"M19 3H5c-1.1 0-2 .9-2 2v14c0 1.1.9 2 2 2h14c1.1 0 2-.9 2-2V5c0-1.1-.9-2-2-2zM9 17H7v-7h2v7zm4 0h-2V7h2v10zm4 0h-2v-4h2v4z\"/>\n",
              "    </g>\n",
              "</svg>\n",
              "      </button>\n",
              "    </div>\n",
              "\n",
              "<style>\n",
              "  .colab-df-quickchart {\n",
              "    background-color: #E8F0FE;\n",
              "    border: none;\n",
              "    border-radius: 50%;\n",
              "    cursor: pointer;\n",
              "    display: none;\n",
              "    fill: #1967D2;\n",
              "    height: 32px;\n",
              "    padding: 0 0 0 0;\n",
              "    width: 32px;\n",
              "  }\n",
              "\n",
              "  .colab-df-quickchart:hover {\n",
              "    background-color: #E2EBFA;\n",
              "    box-shadow: 0px 1px 2px rgba(60, 64, 67, 0.3), 0px 1px 3px 1px rgba(60, 64, 67, 0.15);\n",
              "    fill: #174EA6;\n",
              "  }\n",
              "\n",
              "  [theme=dark] .colab-df-quickchart {\n",
              "    background-color: #3B4455;\n",
              "    fill: #D2E3FC;\n",
              "  }\n",
              "\n",
              "  [theme=dark] .colab-df-quickchart:hover {\n",
              "    background-color: #434B5C;\n",
              "    box-shadow: 0px 1px 3px 1px rgba(0, 0, 0, 0.15);\n",
              "    filter: drop-shadow(0px 1px 2px rgba(0, 0, 0, 0.3));\n",
              "    fill: #FFFFFF;\n",
              "  }\n",
              "</style>\n",
              "\n",
              "    <script>\n",
              "      async function quickchart(key) {\n",
              "        const containerElement = document.querySelector('#' + key);\n",
              "        const charts = await google.colab.kernel.invokeFunction(\n",
              "            'suggestCharts', [key], {});\n",
              "      }\n",
              "    </script>\n",
              "\n",
              "      <script>\n",
              "\n",
              "function displayQuickchartButton(domScope) {\n",
              "  let quickchartButtonEl =\n",
              "    domScope.querySelector('#df-75512e0a-a2fe-4e20-bed0-02b101c404f3 button.colab-df-quickchart');\n",
              "  quickchartButtonEl.style.display =\n",
              "    google.colab.kernel.accessAllowed ? 'block' : 'none';\n",
              "}\n",
              "\n",
              "        displayQuickchartButton(document);\n",
              "      </script>\n",
              "      <style>\n",
              "    .colab-df-container {\n",
              "      display:flex;\n",
              "      flex-wrap:wrap;\n",
              "      gap: 12px;\n",
              "    }\n",
              "\n",
              "    .colab-df-convert {\n",
              "      background-color: #E8F0FE;\n",
              "      border: none;\n",
              "      border-radius: 50%;\n",
              "      cursor: pointer;\n",
              "      display: none;\n",
              "      fill: #1967D2;\n",
              "      height: 32px;\n",
              "      padding: 0 0 0 0;\n",
              "      width: 32px;\n",
              "    }\n",
              "\n",
              "    .colab-df-convert:hover {\n",
              "      background-color: #E2EBFA;\n",
              "      box-shadow: 0px 1px 2px rgba(60, 64, 67, 0.3), 0px 1px 3px 1px rgba(60, 64, 67, 0.15);\n",
              "      fill: #174EA6;\n",
              "    }\n",
              "\n",
              "    [theme=dark] .colab-df-convert {\n",
              "      background-color: #3B4455;\n",
              "      fill: #D2E3FC;\n",
              "    }\n",
              "\n",
              "    [theme=dark] .colab-df-convert:hover {\n",
              "      background-color: #434B5C;\n",
              "      box-shadow: 0px 1px 3px 1px rgba(0, 0, 0, 0.15);\n",
              "      filter: drop-shadow(0px 1px 2px rgba(0, 0, 0, 0.3));\n",
              "      fill: #FFFFFF;\n",
              "    }\n",
              "  </style>\n",
              "\n",
              "      <script>\n",
              "        const buttonEl =\n",
              "          document.querySelector('#df-ee7817f9-522e-443c-94d3-f6ae00d896b5 button.colab-df-convert');\n",
              "        buttonEl.style.display =\n",
              "          google.colab.kernel.accessAllowed ? 'block' : 'none';\n",
              "\n",
              "        async function convertToInteractive(key) {\n",
              "          const element = document.querySelector('#df-ee7817f9-522e-443c-94d3-f6ae00d896b5');\n",
              "          const dataTable =\n",
              "            await google.colab.kernel.invokeFunction('convertToInteractive',\n",
              "                                                     [key], {});\n",
              "          if (!dataTable) return;\n",
              "\n",
              "          const docLinkHtml = 'Like what you see? Visit the ' +\n",
              "            '<a target=\"_blank\" href=https://colab.research.google.com/notebooks/data_table.ipynb>data table notebook</a>'\n",
              "            + ' to learn more about interactive tables.';\n",
              "          element.innerHTML = '';\n",
              "          dataTable['output_type'] = 'display_data';\n",
              "          await google.colab.output.renderOutput(dataTable, element);\n",
              "          const docLink = document.createElement('div');\n",
              "          docLink.innerHTML = docLinkHtml;\n",
              "          element.appendChild(docLink);\n",
              "        }\n",
              "      </script>\n",
              "    </div>\n",
              "  </div>\n"
            ]
          },
          "metadata": {},
          "execution_count": 33
        }
      ]
    },
    {
      "cell_type": "markdown",
      "source": [
        "# **Sampling**"
      ],
      "metadata": {
        "id": "6UtjoEo9fqBG"
      }
    },
    {
      "cell_type": "code",
      "source": [
        "ou=SMOTEENN(random_state=1)\n",
        "Xs,ys=ou.fit_resample(X,y)"
      ],
      "metadata": {
        "id": "zQRzcsh70ZK4"
      },
      "execution_count": null,
      "outputs": []
    },
    {
      "cell_type": "code",
      "source": [
        "ys.value_counts()"
      ],
      "metadata": {
        "colab": {
          "base_uri": "https://localhost:8080/"
        },
        "id": "70SrVp8P0e-b",
        "outputId": "71a691c4-93f7-4cee-e6a9-551d503ad019"
      },
      "execution_count": null,
      "outputs": [
        {
          "output_type": "execute_result",
          "data": {
            "text/plain": [
              "1    169\n",
              "0    162\n",
              "2    120\n",
              "Name: Sleep Disorder, dtype: int64"
            ]
          },
          "metadata": {},
          "execution_count": 35
        }
      ]
    },
    {
      "cell_type": "markdown",
      "source": [
        "**Scaling the input data to normalize the values**"
      ],
      "metadata": {
        "id": "QfBA6M_tA6nc"
      }
    },
    {
      "cell_type": "code",
      "source": [
        "Xs=mms.fit_transform(Xs)\n",
        "Xs"
      ],
      "metadata": {
        "colab": {
          "base_uri": "https://localhost:8080/"
        },
        "id": "gvq-EH4yvpoh",
        "outputId": "934c742a-3c34-4fd7-a68c-237ae0b3681f"
      },
      "execution_count": null,
      "outputs": [
        {
          "output_type": "execute_result",
          "data": {
            "text/plain": [
              "array([[1.        , 0.03225806, 1.        , ..., 0.0340318 , 0.92592593,\n",
              "        0.75      ],\n",
              "       [1.        , 0.25806452, 1.        , ..., 0.22722544, 0.51851852,\n",
              "        0.45      ],\n",
              "       [1.        , 0.4516129 , 0.7       , ..., 0.40555803, 0.55555556,\n",
              "        0.5       ],\n",
              "       ...,\n",
              "       [0.        , 0.67741935, 0.5       , ..., 1.        , 0.92592593,\n",
              "        1.        ],\n",
              "       [0.        , 0.93548387, 0.5       , ..., 0.55416852, 0.92592593,\n",
              "        1.        ],\n",
              "       [0.        , 0.70967742, 0.5       , ..., 1.        , 0.92592593,\n",
              "        1.        ]])"
            ]
          },
          "metadata": {},
          "execution_count": 36
        }
      ]
    },
    {
      "cell_type": "markdown",
      "source": [
        "# **Feature Extraction**\n",
        "\n",
        "**Principal Component Analysis**"
      ],
      "metadata": {
        "id": "RruCYj7XO1DJ"
      }
    },
    {
      "cell_type": "code",
      "source": [
        "from sklearn.decomposition import PCA\n",
        "pca=PCA(n_components=7,random_state=1)\n",
        "Xs=pca.fit_transform(Xs)\n",
        "Xs"
      ],
      "metadata": {
        "colab": {
          "base_uri": "https://localhost:8080/"
        },
        "id": "CNbZweI9NaMr",
        "outputId": "b42afd1a-2314-4684-86e9-01430baa7e85"
      },
      "execution_count": null,
      "outputs": [
        {
          "output_type": "execute_result",
          "data": {
            "text/plain": [
              "array([[ 6.04845455e-01, -7.42411163e-01, -2.84017284e-01, ...,\n",
              "         1.59133562e-01,  6.69560556e-01,  2.64439668e-01],\n",
              "       [ 6.42899083e-01, -6.57841181e-01, -4.89970174e-01, ...,\n",
              "        -6.67137583e-02, -1.68397638e-04,  2.06465692e-01],\n",
              "       [ 5.33924132e-01, -5.27683840e-01, -1.85644174e-01, ...,\n",
              "         2.54510972e-02, -1.65945428e-01,  2.14841496e-02],\n",
              "       ...,\n",
              "       [-4.55716362e-01, -8.65057281e-01,  6.03094995e-01, ...,\n",
              "        -4.91818966e-02,  5.62390074e-02, -8.24203162e-02],\n",
              "       [-1.04792713e+00,  2.62442219e-01,  2.74474751e-01, ...,\n",
              "         8.52134556e-02, -4.97351218e-02, -8.49034007e-03],\n",
              "       [-4.68925861e-01, -8.57697531e-01,  6.07774635e-01, ...,\n",
              "        -3.45069622e-02,  4.18449343e-02, -9.27437187e-02]])"
            ]
          },
          "metadata": {},
          "execution_count": 37
        }
      ]
    },
    {
      "cell_type": "code",
      "source": [
        "X_train,X_test,y_train,y_test=train_test_split(Xs,ys,test_size=0.25,random_state=1)"
      ],
      "metadata": {
        "id": "PLrNODyI0kNJ"
      },
      "execution_count": null,
      "outputs": []
    },
    {
      "cell_type": "code",
      "source": [
        "l1,l2,l3=0,0,0\n",
        "for i in range(3,30,2):\n",
        "  knn2=KNeighborsClassifier(n_neighbors=i)\n",
        "  knn2.fit(X_train,y_train)\n",
        "  y_pred=knn2.predict(X_test)\n",
        "  ac1=accuracy_score(y_test,y_pred)\n",
        "  if ac1>l1:\n",
        "    l1=ac1\n",
        "    n=i\n",
        "print(n,l1)\n",
        "lst1=['rbf','poly','linear']\n",
        "for i in lst1:\n",
        "  sv2=SVC(kernel=i)\n",
        "  sv2.fit(X_train,y_train)\n",
        "  y_pred=sv2.predict(X_test)\n",
        "  ac2=accuracy_score(y_test,y_pred)\n",
        "  if ac2>l2:\n",
        "    l2=ac2\n",
        "    k=i\n",
        "print(k,l2)\n",
        "lst2=['gini','entropy']\n",
        "for i in lst2:\n",
        "  de2=DecisionTreeClassifier(criterion=i)\n",
        "  de2.fit(X_train,y_train)\n",
        "  y_pred=de2.predict(X_test)\n",
        "  ac3=accuracy_score(y_test,y_pred)\n",
        "  if ac3>l3:\n",
        "    l3=ac3\n",
        "    c=i\n",
        "print(c,l3)"
      ],
      "metadata": {
        "colab": {
          "base_uri": "https://localhost:8080/"
        },
        "id": "nS3bX8mvyswu",
        "outputId": "3afed366-aa77-49d1-fe79-732eccbda1fd"
      },
      "execution_count": null,
      "outputs": [
        {
          "output_type": "stream",
          "name": "stdout",
          "text": [
            "3 0.9911504424778761\n",
            "rbf 1.0\n",
            "gini 0.9911504424778761\n"
          ]
        }
      ]
    },
    {
      "cell_type": "markdown",
      "source": [
        "**K-Nearest Neighbor**"
      ],
      "metadata": {
        "id": "Jkt-rgqKobPk"
      }
    },
    {
      "cell_type": "code",
      "source": [
        "knn2=KNeighborsClassifier(n_neighbors=n)\n",
        "knn2.fit(X_train,y_train)\n",
        "y_pred_knn=knn2.predict(X_test)\n",
        "y_pred_knn"
      ],
      "metadata": {
        "colab": {
          "base_uri": "https://localhost:8080/"
        },
        "id": "aOf2YDkRvrSd",
        "outputId": "88988d5e-916e-418d-b8e1-e28ee05c89df"
      },
      "execution_count": null,
      "outputs": [
        {
          "output_type": "execute_result",
          "data": {
            "text/plain": [
              "array([2, 1, 0, 0, 0, 2, 0, 2, 0, 1, 0, 1, 1, 0, 2, 2, 1, 1, 2, 1, 1, 1,\n",
              "       1, 1, 0, 0, 2, 0, 1, 1, 1, 0, 2, 1, 1, 1, 0, 1, 1, 1, 1, 1, 1, 0,\n",
              "       0, 2, 2, 2, 1, 1, 1, 2, 2, 2, 0, 1, 1, 1, 1, 1, 2, 1, 2, 1, 2, 1,\n",
              "       2, 1, 1, 0, 1, 1, 2, 0, 2, 1, 2, 1, 0, 2, 0, 1, 1, 1, 1, 1, 0, 0,\n",
              "       2, 0, 2, 1, 2, 2, 0, 0, 0, 2, 1, 0, 2, 0, 1, 1, 0, 1, 0, 1, 2, 1,\n",
              "       0, 1, 1])"
            ]
          },
          "metadata": {},
          "execution_count": 40
        }
      ]
    },
    {
      "cell_type": "markdown",
      "source": [
        "**Support Vector Classification**"
      ],
      "metadata": {
        "id": "p7oV9arRoidS"
      }
    },
    {
      "cell_type": "code",
      "source": [
        "sv2=SVC(kernel=k)\n",
        "sv2.fit(X_train,y_train)\n",
        "y_pred_sv=sv2.predict(X_test)\n",
        "y_pred_sv"
      ],
      "metadata": {
        "colab": {
          "base_uri": "https://localhost:8080/"
        },
        "id": "5XK9tjh4vwt1",
        "outputId": "5d34ea57-0029-4382-96a7-d6ea0530a7f5"
      },
      "execution_count": null,
      "outputs": [
        {
          "output_type": "execute_result",
          "data": {
            "text/plain": [
              "array([2, 1, 0, 0, 0, 2, 0, 2, 0, 1, 0, 1, 1, 0, 2, 2, 1, 1, 2, 1, 1, 1,\n",
              "       1, 1, 0, 0, 2, 0, 1, 1, 1, 0, 2, 1, 1, 1, 0, 1, 1, 1, 2, 1, 1, 0,\n",
              "       0, 2, 2, 2, 1, 1, 1, 2, 2, 2, 0, 1, 1, 1, 1, 1, 2, 1, 2, 1, 2, 1,\n",
              "       2, 1, 1, 0, 1, 1, 2, 0, 2, 1, 2, 1, 0, 2, 0, 1, 1, 1, 1, 1, 0, 0,\n",
              "       2, 0, 2, 1, 2, 2, 0, 0, 0, 2, 1, 0, 2, 0, 1, 1, 0, 1, 0, 1, 2, 1,\n",
              "       0, 1, 1])"
            ]
          },
          "metadata": {},
          "execution_count": 41
        }
      ]
    },
    {
      "cell_type": "markdown",
      "source": [
        "**Naive Bayes Classification**"
      ],
      "metadata": {
        "id": "uFq1eSQFosGX"
      }
    },
    {
      "cell_type": "code",
      "source": [
        "nb2=GaussianNB()\n",
        "nb2.fit(X_train,y_train)\n",
        "y_pred_nb=nb2.predict(X_test)\n",
        "y_pred_nb"
      ],
      "metadata": {
        "colab": {
          "base_uri": "https://localhost:8080/"
        },
        "id": "k4UBD1Nvvzs1",
        "outputId": "53b924ea-6ad2-463b-d620-3c09c656c088"
      },
      "execution_count": null,
      "outputs": [
        {
          "output_type": "execute_result",
          "data": {
            "text/plain": [
              "array([2, 1, 0, 0, 0, 2, 0, 2, 0, 1, 0, 1, 1, 0, 2, 2, 1, 1, 2, 1, 1, 1,\n",
              "       1, 1, 0, 0, 2, 0, 1, 1, 1, 0, 2, 1, 1, 1, 0, 1, 1, 1, 2, 1, 1, 0,\n",
              "       0, 2, 2, 2, 1, 1, 1, 1, 2, 2, 0, 1, 1, 1, 1, 1, 2, 1, 2, 1, 2, 1,\n",
              "       2, 1, 1, 0, 1, 1, 2, 0, 2, 1, 2, 1, 0, 2, 0, 1, 1, 1, 1, 1, 0, 0,\n",
              "       1, 0, 2, 1, 2, 2, 0, 0, 0, 2, 1, 0, 2, 0, 1, 1, 0, 1, 0, 1, 2, 1,\n",
              "       0, 1, 1])"
            ]
          },
          "metadata": {},
          "execution_count": 42
        }
      ]
    },
    {
      "cell_type": "markdown",
      "source": [
        "**Decision Tree Classification**"
      ],
      "metadata": {
        "id": "0l4FAVgfov6Q"
      }
    },
    {
      "cell_type": "code",
      "source": [
        "de2=DecisionTreeClassifier(criterion=c)\n",
        "de2.fit(X_train,y_train)\n",
        "y_pred_de=de2.predict(X_test)\n",
        "y_pred_de"
      ],
      "metadata": {
        "colab": {
          "base_uri": "https://localhost:8080/"
        },
        "id": "Fx0KyFzXv0Xv",
        "outputId": "8cbf2696-5cda-4d31-c3fa-f5040827c6b4"
      },
      "execution_count": null,
      "outputs": [
        {
          "output_type": "execute_result",
          "data": {
            "text/plain": [
              "array([2, 1, 0, 0, 0, 2, 0, 2, 0, 1, 0, 1, 1, 0, 2, 2, 1, 1, 2, 1, 1, 1,\n",
              "       1, 1, 0, 0, 2, 0, 1, 1, 1, 0, 2, 1, 1, 1, 0, 1, 1, 1, 0, 1, 1, 0,\n",
              "       0, 2, 2, 2, 1, 1, 1, 2, 2, 2, 0, 1, 1, 1, 1, 1, 2, 1, 2, 1, 2, 1,\n",
              "       2, 1, 1, 0, 1, 1, 2, 0, 2, 1, 2, 1, 0, 2, 0, 1, 1, 1, 1, 1, 0, 0,\n",
              "       2, 0, 2, 1, 2, 2, 0, 0, 0, 2, 1, 0, 2, 0, 1, 1, 0, 1, 0, 1, 2, 1,\n",
              "       0, 1, 1])"
            ]
          },
          "metadata": {},
          "execution_count": 43
        }
      ]
    },
    {
      "cell_type": "markdown",
      "source": [
        "# **Ensemble Methods**\n",
        "\n",
        "**Random Forest Classification**"
      ],
      "metadata": {
        "id": "C_dxaunNo967"
      }
    },
    {
      "cell_type": "code",
      "source": [
        "rf2=RandomForestClassifier(random_state=1)\n",
        "rf2.fit(X_train,y_train)\n",
        "y_pred_rf=rf2.predict(X_test)\n",
        "y_pred_rf"
      ],
      "metadata": {
        "colab": {
          "base_uri": "https://localhost:8080/"
        },
        "id": "k7nYAiO0v5ON",
        "outputId": "9dbc6029-18c6-43af-c4ba-da9dc5afd9a0"
      },
      "execution_count": null,
      "outputs": [
        {
          "output_type": "execute_result",
          "data": {
            "text/plain": [
              "array([2, 1, 0, 0, 0, 2, 0, 2, 0, 1, 0, 1, 1, 0, 2, 2, 1, 1, 2, 1, 1, 1,\n",
              "       1, 1, 0, 0, 2, 0, 1, 1, 1, 0, 2, 1, 1, 1, 0, 1, 1, 1, 2, 1, 1, 0,\n",
              "       0, 2, 2, 2, 1, 1, 1, 2, 2, 2, 0, 1, 1, 1, 1, 1, 2, 1, 2, 1, 2, 1,\n",
              "       2, 1, 1, 0, 1, 1, 2, 0, 2, 1, 2, 1, 0, 2, 0, 1, 1, 1, 1, 1, 0, 0,\n",
              "       2, 0, 2, 1, 2, 2, 0, 0, 0, 2, 1, 0, 2, 0, 1, 1, 0, 1, 0, 1, 2, 1,\n",
              "       0, 1, 1])"
            ]
          },
          "metadata": {},
          "execution_count": 44
        }
      ]
    },
    {
      "cell_type": "markdown",
      "source": [
        "**Ada Boost Classification**"
      ],
      "metadata": {
        "id": "6Qs-cFfMpEA3"
      }
    },
    {
      "cell_type": "code",
      "source": [
        "ad2=AdaBoostClassifier(random_state=1)\n",
        "ad2.fit(X_train,y_train)\n",
        "y_pred_ad=ad2.predict(X_test)\n",
        "y_pred_ad"
      ],
      "metadata": {
        "colab": {
          "base_uri": "https://localhost:8080/"
        },
        "id": "lLkh9D_ev-Oc",
        "outputId": "a2d497a8-87cd-4b76-c454-4a2483bd5421"
      },
      "execution_count": null,
      "outputs": [
        {
          "output_type": "execute_result",
          "data": {
            "text/plain": [
              "array([2, 1, 0, 0, 0, 2, 0, 2, 0, 1, 0, 1, 1, 0, 2, 2, 1, 1, 2, 1, 1, 1,\n",
              "       1, 1, 0, 0, 2, 0, 1, 1, 1, 0, 2, 1, 1, 1, 0, 1, 1, 1, 2, 1, 1, 0,\n",
              "       0, 2, 2, 2, 1, 1, 1, 2, 2, 2, 0, 1, 1, 1, 1, 1, 2, 1, 2, 1, 2, 1,\n",
              "       2, 1, 1, 0, 1, 1, 2, 0, 2, 1, 2, 1, 0, 2, 0, 1, 1, 1, 1, 1, 0, 0,\n",
              "       2, 0, 2, 1, 2, 2, 0, 0, 0, 2, 1, 0, 2, 0, 1, 1, 0, 1, 0, 1, 2, 1,\n",
              "       0, 1, 1])"
            ]
          },
          "metadata": {},
          "execution_count": 45
        }
      ]
    },
    {
      "cell_type": "markdown",
      "source": [
        "**Gradient Boost Classification**"
      ],
      "metadata": {
        "id": "echqNwxzpND1"
      }
    },
    {
      "cell_type": "code",
      "source": [
        "gd2=GradientBoostingClassifier(random_state=1)\n",
        "gd2.fit(X_train,y_train)\n",
        "y_pred_gd=gd2.predict(X_test)\n",
        "y_pred_gd"
      ],
      "metadata": {
        "colab": {
          "base_uri": "https://localhost:8080/"
        },
        "id": "O87byN1fwCBl",
        "outputId": "9d8680e5-491d-4d4d-8327-b1701ba52985"
      },
      "execution_count": null,
      "outputs": [
        {
          "output_type": "execute_result",
          "data": {
            "text/plain": [
              "array([2, 1, 0, 0, 0, 2, 0, 2, 0, 1, 0, 1, 1, 0, 2, 2, 1, 1, 2, 1, 1, 1,\n",
              "       1, 1, 0, 0, 2, 0, 1, 1, 1, 0, 2, 1, 1, 1, 0, 1, 1, 1, 0, 1, 1, 0,\n",
              "       0, 2, 2, 2, 1, 1, 1, 2, 2, 2, 0, 1, 1, 1, 1, 1, 2, 1, 2, 1, 2, 1,\n",
              "       2, 1, 1, 0, 1, 1, 2, 0, 2, 1, 2, 1, 0, 2, 0, 1, 1, 1, 1, 1, 0, 0,\n",
              "       2, 0, 2, 1, 2, 2, 0, 0, 0, 2, 1, 0, 2, 0, 1, 1, 0, 1, 0, 1, 2, 1,\n",
              "       0, 1, 1])"
            ]
          },
          "metadata": {},
          "execution_count": 46
        }
      ]
    },
    {
      "cell_type": "markdown",
      "source": [
        "**XG Boost Classification**"
      ],
      "metadata": {
        "id": "6uGtay51pQ5v"
      }
    },
    {
      "cell_type": "code",
      "source": [
        "xg2=XGBClassifier(random_state=1)\n",
        "xg2.fit(X_train,y_train)\n",
        "y_pred_xg=xg2.predict(X_test)\n",
        "y_pred_xg"
      ],
      "metadata": {
        "colab": {
          "base_uri": "https://localhost:8080/"
        },
        "id": "wT4p_DI3wFpm",
        "outputId": "09d86562-f673-4e8a-e17f-4eb9bca57cba"
      },
      "execution_count": null,
      "outputs": [
        {
          "output_type": "execute_result",
          "data": {
            "text/plain": [
              "array([2, 1, 0, 0, 0, 2, 0, 2, 0, 1, 0, 1, 1, 0, 2, 2, 1, 1, 2, 1, 1, 1,\n",
              "       1, 1, 0, 0, 2, 0, 1, 1, 1, 0, 2, 1, 1, 1, 0, 1, 1, 1, 0, 1, 1, 0,\n",
              "       0, 2, 2, 2, 1, 1, 1, 2, 2, 2, 0, 1, 1, 1, 1, 1, 2, 1, 2, 1, 2, 1,\n",
              "       2, 1, 1, 0, 1, 1, 2, 0, 2, 1, 2, 1, 0, 2, 0, 1, 1, 1, 1, 1, 0, 0,\n",
              "       2, 0, 2, 1, 2, 2, 0, 0, 0, 2, 1, 0, 2, 0, 1, 1, 0, 1, 0, 1, 2, 1,\n",
              "       0, 1, 1])"
            ]
          },
          "metadata": {},
          "execution_count": 47
        }
      ]
    },
    {
      "cell_type": "markdown",
      "source": [
        "**Stacking Classification**"
      ],
      "metadata": {
        "id": "q2DgN5Irpahi"
      }
    },
    {
      "cell_type": "code",
      "source": [
        "lst=[('knn',KNeighborsClassifier()),('svc',SVC()),('nbc',GaussianNB()),('dtc',DecisionTreeClassifier(random_state=1)),('rfc',RandomForestClassifier(random_state=1)),('abc',AdaBoostClassifier()),('gbc',GradientBoostingClassifier()),('xbc',XGBClassifier())]\n",
        "sc2=StackingClassifier(estimators=lst,final_estimator=LogisticRegression())\n",
        "sc2.fit(X_train,y_train)\n",
        "y_pred_sc=sc2.predict(X_test)\n",
        "y_pred_sc"
      ],
      "metadata": {
        "colab": {
          "base_uri": "https://localhost:8080/"
        },
        "id": "qiJosTz6wJKv",
        "outputId": "a6754883-e6fd-4477-f9d7-97959c5e92c9"
      },
      "execution_count": null,
      "outputs": [
        {
          "output_type": "execute_result",
          "data": {
            "text/plain": [
              "array([2, 1, 0, 0, 0, 2, 0, 2, 0, 1, 0, 1, 1, 0, 2, 2, 1, 1, 2, 1, 1, 1,\n",
              "       1, 1, 0, 0, 2, 0, 1, 1, 1, 0, 2, 1, 1, 1, 0, 1, 1, 1, 0, 1, 1, 0,\n",
              "       0, 2, 2, 2, 1, 1, 1, 2, 2, 2, 0, 1, 1, 1, 1, 1, 2, 1, 2, 1, 2, 1,\n",
              "       2, 1, 1, 0, 1, 1, 2, 0, 2, 1, 2, 1, 0, 2, 0, 1, 1, 1, 1, 1, 0, 0,\n",
              "       2, 0, 2, 1, 2, 2, 0, 0, 0, 2, 1, 0, 2, 0, 1, 1, 0, 1, 0, 1, 2, 1,\n",
              "       0, 1, 1])"
            ]
          },
          "metadata": {},
          "execution_count": 48
        }
      ]
    },
    {
      "cell_type": "markdown",
      "source": [
        "# **Preformance Measures**\n",
        "\n",
        "**Accuracy Score, Classification Report, Confusion Matrix Display**"
      ],
      "metadata": {
        "id": "Zpm4173Opn8n"
      }
    },
    {
      "cell_type": "code",
      "source": [
        "lst=[knn2,sv2,nb2,de2,rf2,ad2,gd2,xg2,sc2]\n",
        "acc_score2=[]\n",
        "for i in lst:\n",
        "  print('*'*20,i,'*'*20)\n",
        "  i.fit(X_train,y_train)\n",
        "  y_pred=i.predict(X_test)\n",
        "  acc=accuracy_score(y_test,y_pred)*100\n",
        "  print('Accuracy Score: ',acc)\n",
        "  print(classification_report(y_test,y_pred))\n",
        "  print('_'*200)\n",
        "  acc_score2.append(acc)"
      ],
      "metadata": {
        "colab": {
          "base_uri": "https://localhost:8080/"
        },
        "id": "CpBRgmbowUil",
        "outputId": "bcfa3afa-3aea-499f-c845-3ea06a4d681f"
      },
      "execution_count": null,
      "outputs": [
        {
          "output_type": "stream",
          "name": "stdout",
          "text": [
            "******************** KNeighborsClassifier(n_neighbors=3) ********************\n",
            "Accuracy Score:  99.11504424778761\n",
            "              precision    recall  f1-score   support\n",
            "\n",
            "           0       1.00      1.00      1.00        30\n",
            "           1       0.98      1.00      0.99        53\n",
            "           2       1.00      0.97      0.98        30\n",
            "\n",
            "    accuracy                           0.99       113\n",
            "   macro avg       0.99      0.99      0.99       113\n",
            "weighted avg       0.99      0.99      0.99       113\n",
            "\n",
            "________________________________________________________________________________________________________________________________________________________________________________________________________\n",
            "******************** SVC() ********************\n",
            "Accuracy Score:  100.0\n",
            "              precision    recall  f1-score   support\n",
            "\n",
            "           0       1.00      1.00      1.00        30\n",
            "           1       1.00      1.00      1.00        53\n",
            "           2       1.00      1.00      1.00        30\n",
            "\n",
            "    accuracy                           1.00       113\n",
            "   macro avg       1.00      1.00      1.00       113\n",
            "weighted avg       1.00      1.00      1.00       113\n",
            "\n",
            "________________________________________________________________________________________________________________________________________________________________________________________________________\n",
            "******************** GaussianNB() ********************\n",
            "Accuracy Score:  98.23008849557522\n",
            "              precision    recall  f1-score   support\n",
            "\n",
            "           0       1.00      1.00      1.00        30\n",
            "           1       0.96      1.00      0.98        53\n",
            "           2       1.00      0.93      0.97        30\n",
            "\n",
            "    accuracy                           0.98       113\n",
            "   macro avg       0.99      0.98      0.98       113\n",
            "weighted avg       0.98      0.98      0.98       113\n",
            "\n",
            "________________________________________________________________________________________________________________________________________________________________________________________________________\n",
            "******************** DecisionTreeClassifier() ********************\n",
            "Accuracy Score:  99.11504424778761\n",
            "              precision    recall  f1-score   support\n",
            "\n",
            "           0       0.97      1.00      0.98        30\n",
            "           1       1.00      1.00      1.00        53\n",
            "           2       1.00      0.97      0.98        30\n",
            "\n",
            "    accuracy                           0.99       113\n",
            "   macro avg       0.99      0.99      0.99       113\n",
            "weighted avg       0.99      0.99      0.99       113\n",
            "\n",
            "________________________________________________________________________________________________________________________________________________________________________________________________________\n",
            "******************** RandomForestClassifier(random_state=1) ********************\n",
            "Accuracy Score:  100.0\n",
            "              precision    recall  f1-score   support\n",
            "\n",
            "           0       1.00      1.00      1.00        30\n",
            "           1       1.00      1.00      1.00        53\n",
            "           2       1.00      1.00      1.00        30\n",
            "\n",
            "    accuracy                           1.00       113\n",
            "   macro avg       1.00      1.00      1.00       113\n",
            "weighted avg       1.00      1.00      1.00       113\n",
            "\n",
            "________________________________________________________________________________________________________________________________________________________________________________________________________\n",
            "******************** AdaBoostClassifier(random_state=1) ********************\n",
            "Accuracy Score:  100.0\n",
            "              precision    recall  f1-score   support\n",
            "\n",
            "           0       1.00      1.00      1.00        30\n",
            "           1       1.00      1.00      1.00        53\n",
            "           2       1.00      1.00      1.00        30\n",
            "\n",
            "    accuracy                           1.00       113\n",
            "   macro avg       1.00      1.00      1.00       113\n",
            "weighted avg       1.00      1.00      1.00       113\n",
            "\n",
            "________________________________________________________________________________________________________________________________________________________________________________________________________\n",
            "******************** GradientBoostingClassifier(random_state=1) ********************\n",
            "Accuracy Score:  99.11504424778761\n",
            "              precision    recall  f1-score   support\n",
            "\n",
            "           0       0.97      1.00      0.98        30\n",
            "           1       1.00      1.00      1.00        53\n",
            "           2       1.00      0.97      0.98        30\n",
            "\n",
            "    accuracy                           0.99       113\n",
            "   macro avg       0.99      0.99      0.99       113\n",
            "weighted avg       0.99      0.99      0.99       113\n",
            "\n",
            "________________________________________________________________________________________________________________________________________________________________________________________________________\n",
            "******************** XGBClassifier(base_score=None, booster=None, callbacks=None,\n",
            "              colsample_bylevel=None, colsample_bynode=None,\n",
            "              colsample_bytree=None, early_stopping_rounds=None,\n",
            "              enable_categorical=False, eval_metric=None, feature_types=None,\n",
            "              gamma=None, gpu_id=None, grow_policy=None, importance_type=None,\n",
            "              interaction_constraints=None, learning_rate=None, max_bin=None,\n",
            "              max_cat_threshold=None, max_cat_to_onehot=None,\n",
            "              max_delta_step=None, max_depth=None, max_leaves=None,\n",
            "              min_child_weight=None, missing=nan, monotone_constraints=None,\n",
            "              n_estimators=100, n_jobs=None, num_parallel_tree=None,\n",
            "              objective='multi:softprob', predictor=None, ...) ********************\n",
            "Accuracy Score:  99.11504424778761\n",
            "              precision    recall  f1-score   support\n",
            "\n",
            "           0       0.97      1.00      0.98        30\n",
            "           1       1.00      1.00      1.00        53\n",
            "           2       1.00      0.97      0.98        30\n",
            "\n",
            "    accuracy                           0.99       113\n",
            "   macro avg       0.99      0.99      0.99       113\n",
            "weighted avg       0.99      0.99      0.99       113\n",
            "\n",
            "________________________________________________________________________________________________________________________________________________________________________________________________________\n",
            "******************** StackingClassifier(estimators=[('knn', KNeighborsClassifier()), ('svc', SVC()),\n",
            "                               ('nbc', GaussianNB()),\n",
            "                               ('dtc', DecisionTreeClassifier(random_state=1)),\n",
            "                               ('rfc', RandomForestClassifier(random_state=1)),\n",
            "                               ('abc', AdaBoostClassifier()),\n",
            "                               ('gbc', GradientBoostingClassifier()),\n",
            "                               ('xbc',\n",
            "                                XGBClassifier(base_score=None, booster=None,\n",
            "                                              callbacks=None,\n",
            "                                              colsample_bylevel=None,\n",
            "                                              colsa...\n",
            "                                              importance_type=None,\n",
            "                                              interaction_constraints=None,\n",
            "                                              learning_rate=None, max_bin=None,\n",
            "                                              max_cat_threshold=None,\n",
            "                                              max_cat_to_onehot=None,\n",
            "                                              max_delta_step=None,\n",
            "                                              max_depth=None, max_leaves=None,\n",
            "                                              min_child_weight=None,\n",
            "                                              missing=nan,\n",
            "                                              monotone_constraints=None,\n",
            "                                              n_estimators=100, n_jobs=None,\n",
            "                                              num_parallel_tree=None,\n",
            "                                              predictor=None, random_state=None, ...))],\n",
            "                   final_estimator=LogisticRegression()) ********************\n",
            "Accuracy Score:  99.11504424778761\n",
            "              precision    recall  f1-score   support\n",
            "\n",
            "           0       0.97      1.00      0.98        30\n",
            "           1       1.00      1.00      1.00        53\n",
            "           2       1.00      0.97      0.98        30\n",
            "\n",
            "    accuracy                           0.99       113\n",
            "   macro avg       0.99      0.99      0.99       113\n",
            "weighted avg       0.99      0.99      0.99       113\n",
            "\n",
            "________________________________________________________________________________________________________________________________________________________________________________________________________\n"
          ]
        }
      ]
    },
    {
      "cell_type": "markdown",
      "source": [
        "**Accuracy Table**"
      ],
      "metadata": {
        "id": "GhsiHaXEtUEH"
      }
    },
    {
      "cell_type": "code",
      "source": [
        "alg_name=['KNeighborsClassifier','SVC','GaussianNB','DecisionTreeClassifier','RandomForestClassifier','AdaBoostClassifier','GradientBoostingClassifier','XGBClassifier','StackingClassifier']\n",
        "dic={'Model':alg_name,'Accuracy with Default Parameters':acc_score1,'Accuracy after Sampling & PCA':acc_score2}\n",
        "acc2=pd.DataFrame(dic)\n",
        "acc2.sort_values(by='Accuracy after Sampling & PCA',ascending=False,ignore_index=True,inplace=True)\n",
        "# acc2.style.highlight_max(subset=['Accuracy with Default Parameters','Accuracy after Sampling & PCA'],color='blue',axis=0)\n",
        "acc2"
      ],
      "metadata": {
        "id": "Z8KeaNwrWcN6",
        "colab": {
          "base_uri": "https://localhost:8080/",
          "height": 332
        },
        "outputId": "2ca4c4a7-1d57-4f3c-ed8c-7c4b26aab1da"
      },
      "execution_count": null,
      "outputs": [
        {
          "output_type": "execute_result",
          "data": {
            "text/plain": [
              "                        Model  Accuracy with Default Parameters  \\\n",
              "0                         SVC                         88.495575   \n",
              "1      RandomForestClassifier                         89.380531   \n",
              "2          AdaBoostClassifier                         81.415929   \n",
              "3        KNeighborsClassifier                         86.725664   \n",
              "4      DecisionTreeClassifier                         86.725664   \n",
              "5  GradientBoostingClassifier                         89.380531   \n",
              "6               XGBClassifier                         89.380531   \n",
              "7          StackingClassifier                         88.495575   \n",
              "8                  GaussianNB                         88.495575   \n",
              "\n",
              "   Accuracy after Sampling & PCA  \n",
              "0                     100.000000  \n",
              "1                     100.000000  \n",
              "2                     100.000000  \n",
              "3                      99.115044  \n",
              "4                      99.115044  \n",
              "5                      99.115044  \n",
              "6                      99.115044  \n",
              "7                      99.115044  \n",
              "8                      98.230088  "
            ],
            "text/html": [
              "\n",
              "\n",
              "  <div id=\"df-5a48a420-faa1-4504-afbe-68c3972137ff\">\n",
              "    <div class=\"colab-df-container\">\n",
              "      <div>\n",
              "<style scoped>\n",
              "    .dataframe tbody tr th:only-of-type {\n",
              "        vertical-align: middle;\n",
              "    }\n",
              "\n",
              "    .dataframe tbody tr th {\n",
              "        vertical-align: top;\n",
              "    }\n",
              "\n",
              "    .dataframe thead th {\n",
              "        text-align: right;\n",
              "    }\n",
              "</style>\n",
              "<table border=\"1\" class=\"dataframe\">\n",
              "  <thead>\n",
              "    <tr style=\"text-align: right;\">\n",
              "      <th></th>\n",
              "      <th>Model</th>\n",
              "      <th>Accuracy with Default Parameters</th>\n",
              "      <th>Accuracy after Sampling &amp; PCA</th>\n",
              "    </tr>\n",
              "  </thead>\n",
              "  <tbody>\n",
              "    <tr>\n",
              "      <th>0</th>\n",
              "      <td>SVC</td>\n",
              "      <td>88.495575</td>\n",
              "      <td>100.000000</td>\n",
              "    </tr>\n",
              "    <tr>\n",
              "      <th>1</th>\n",
              "      <td>RandomForestClassifier</td>\n",
              "      <td>89.380531</td>\n",
              "      <td>100.000000</td>\n",
              "    </tr>\n",
              "    <tr>\n",
              "      <th>2</th>\n",
              "      <td>AdaBoostClassifier</td>\n",
              "      <td>81.415929</td>\n",
              "      <td>100.000000</td>\n",
              "    </tr>\n",
              "    <tr>\n",
              "      <th>3</th>\n",
              "      <td>KNeighborsClassifier</td>\n",
              "      <td>86.725664</td>\n",
              "      <td>99.115044</td>\n",
              "    </tr>\n",
              "    <tr>\n",
              "      <th>4</th>\n",
              "      <td>DecisionTreeClassifier</td>\n",
              "      <td>86.725664</td>\n",
              "      <td>99.115044</td>\n",
              "    </tr>\n",
              "    <tr>\n",
              "      <th>5</th>\n",
              "      <td>GradientBoostingClassifier</td>\n",
              "      <td>89.380531</td>\n",
              "      <td>99.115044</td>\n",
              "    </tr>\n",
              "    <tr>\n",
              "      <th>6</th>\n",
              "      <td>XGBClassifier</td>\n",
              "      <td>89.380531</td>\n",
              "      <td>99.115044</td>\n",
              "    </tr>\n",
              "    <tr>\n",
              "      <th>7</th>\n",
              "      <td>StackingClassifier</td>\n",
              "      <td>88.495575</td>\n",
              "      <td>99.115044</td>\n",
              "    </tr>\n",
              "    <tr>\n",
              "      <th>8</th>\n",
              "      <td>GaussianNB</td>\n",
              "      <td>88.495575</td>\n",
              "      <td>98.230088</td>\n",
              "    </tr>\n",
              "  </tbody>\n",
              "</table>\n",
              "</div>\n",
              "      <button class=\"colab-df-convert\" onclick=\"convertToInteractive('df-5a48a420-faa1-4504-afbe-68c3972137ff')\"\n",
              "              title=\"Convert this dataframe to an interactive table.\"\n",
              "              style=\"display:none;\">\n",
              "\n",
              "  <svg xmlns=\"http://www.w3.org/2000/svg\" height=\"24px\"viewBox=\"0 0 24 24\"\n",
              "       width=\"24px\">\n",
              "    <path d=\"M0 0h24v24H0V0z\" fill=\"none\"/>\n",
              "    <path d=\"M18.56 5.44l.94 2.06.94-2.06 2.06-.94-2.06-.94-.94-2.06-.94 2.06-2.06.94zm-11 1L8.5 8.5l.94-2.06 2.06-.94-2.06-.94L8.5 2.5l-.94 2.06-2.06.94zm10 10l.94 2.06.94-2.06 2.06-.94-2.06-.94-.94-2.06-.94 2.06-2.06.94z\"/><path d=\"M17.41 7.96l-1.37-1.37c-.4-.4-.92-.59-1.43-.59-.52 0-1.04.2-1.43.59L10.3 9.45l-7.72 7.72c-.78.78-.78 2.05 0 2.83L4 21.41c.39.39.9.59 1.41.59.51 0 1.02-.2 1.41-.59l7.78-7.78 2.81-2.81c.8-.78.8-2.07 0-2.86zM5.41 20L4 18.59l7.72-7.72 1.47 1.35L5.41 20z\"/>\n",
              "  </svg>\n",
              "      </button>\n",
              "\n",
              "\n",
              "\n",
              "    <div id=\"df-6cf71a3c-9059-48f7-98aa-2fb83bca165d\">\n",
              "      <button class=\"colab-df-quickchart\" onclick=\"quickchart('df-6cf71a3c-9059-48f7-98aa-2fb83bca165d')\"\n",
              "              title=\"Suggest charts.\"\n",
              "              style=\"display:none;\">\n",
              "\n",
              "<svg xmlns=\"http://www.w3.org/2000/svg\" height=\"24px\"viewBox=\"0 0 24 24\"\n",
              "     width=\"24px\">\n",
              "    <g>\n",
              "        <path d=\"M19 3H5c-1.1 0-2 .9-2 2v14c0 1.1.9 2 2 2h14c1.1 0 2-.9 2-2V5c0-1.1-.9-2-2-2zM9 17H7v-7h2v7zm4 0h-2V7h2v10zm4 0h-2v-4h2v4z\"/>\n",
              "    </g>\n",
              "</svg>\n",
              "      </button>\n",
              "    </div>\n",
              "\n",
              "<style>\n",
              "  .colab-df-quickchart {\n",
              "    background-color: #E8F0FE;\n",
              "    border: none;\n",
              "    border-radius: 50%;\n",
              "    cursor: pointer;\n",
              "    display: none;\n",
              "    fill: #1967D2;\n",
              "    height: 32px;\n",
              "    padding: 0 0 0 0;\n",
              "    width: 32px;\n",
              "  }\n",
              "\n",
              "  .colab-df-quickchart:hover {\n",
              "    background-color: #E2EBFA;\n",
              "    box-shadow: 0px 1px 2px rgba(60, 64, 67, 0.3), 0px 1px 3px 1px rgba(60, 64, 67, 0.15);\n",
              "    fill: #174EA6;\n",
              "  }\n",
              "\n",
              "  [theme=dark] .colab-df-quickchart {\n",
              "    background-color: #3B4455;\n",
              "    fill: #D2E3FC;\n",
              "  }\n",
              "\n",
              "  [theme=dark] .colab-df-quickchart:hover {\n",
              "    background-color: #434B5C;\n",
              "    box-shadow: 0px 1px 3px 1px rgba(0, 0, 0, 0.15);\n",
              "    filter: drop-shadow(0px 1px 2px rgba(0, 0, 0, 0.3));\n",
              "    fill: #FFFFFF;\n",
              "  }\n",
              "</style>\n",
              "\n",
              "    <script>\n",
              "      async function quickchart(key) {\n",
              "        const containerElement = document.querySelector('#' + key);\n",
              "        const charts = await google.colab.kernel.invokeFunction(\n",
              "            'suggestCharts', [key], {});\n",
              "      }\n",
              "    </script>\n",
              "\n",
              "      <script>\n",
              "\n",
              "function displayQuickchartButton(domScope) {\n",
              "  let quickchartButtonEl =\n",
              "    domScope.querySelector('#df-6cf71a3c-9059-48f7-98aa-2fb83bca165d button.colab-df-quickchart');\n",
              "  quickchartButtonEl.style.display =\n",
              "    google.colab.kernel.accessAllowed ? 'block' : 'none';\n",
              "}\n",
              "\n",
              "        displayQuickchartButton(document);\n",
              "      </script>\n",
              "      <style>\n",
              "    .colab-df-container {\n",
              "      display:flex;\n",
              "      flex-wrap:wrap;\n",
              "      gap: 12px;\n",
              "    }\n",
              "\n",
              "    .colab-df-convert {\n",
              "      background-color: #E8F0FE;\n",
              "      border: none;\n",
              "      border-radius: 50%;\n",
              "      cursor: pointer;\n",
              "      display: none;\n",
              "      fill: #1967D2;\n",
              "      height: 32px;\n",
              "      padding: 0 0 0 0;\n",
              "      width: 32px;\n",
              "    }\n",
              "\n",
              "    .colab-df-convert:hover {\n",
              "      background-color: #E2EBFA;\n",
              "      box-shadow: 0px 1px 2px rgba(60, 64, 67, 0.3), 0px 1px 3px 1px rgba(60, 64, 67, 0.15);\n",
              "      fill: #174EA6;\n",
              "    }\n",
              "\n",
              "    [theme=dark] .colab-df-convert {\n",
              "      background-color: #3B4455;\n",
              "      fill: #D2E3FC;\n",
              "    }\n",
              "\n",
              "    [theme=dark] .colab-df-convert:hover {\n",
              "      background-color: #434B5C;\n",
              "      box-shadow: 0px 1px 3px 1px rgba(0, 0, 0, 0.15);\n",
              "      filter: drop-shadow(0px 1px 2px rgba(0, 0, 0, 0.3));\n",
              "      fill: #FFFFFF;\n",
              "    }\n",
              "  </style>\n",
              "\n",
              "      <script>\n",
              "        const buttonEl =\n",
              "          document.querySelector('#df-5a48a420-faa1-4504-afbe-68c3972137ff button.colab-df-convert');\n",
              "        buttonEl.style.display =\n",
              "          google.colab.kernel.accessAllowed ? 'block' : 'none';\n",
              "\n",
              "        async function convertToInteractive(key) {\n",
              "          const element = document.querySelector('#df-5a48a420-faa1-4504-afbe-68c3972137ff');\n",
              "          const dataTable =\n",
              "            await google.colab.kernel.invokeFunction('convertToInteractive',\n",
              "                                                     [key], {});\n",
              "          if (!dataTable) return;\n",
              "\n",
              "          const docLinkHtml = 'Like what you see? Visit the ' +\n",
              "            '<a target=\"_blank\" href=https://colab.research.google.com/notebooks/data_table.ipynb>data table notebook</a>'\n",
              "            + ' to learn more about interactive tables.';\n",
              "          element.innerHTML = '';\n",
              "          dataTable['output_type'] = 'display_data';\n",
              "          await google.colab.output.renderOutput(dataTable, element);\n",
              "          const docLink = document.createElement('div');\n",
              "          docLink.innerHTML = docLinkHtml;\n",
              "          element.appendChild(docLink);\n",
              "        }\n",
              "      </script>\n",
              "    </div>\n",
              "  </div>\n"
            ]
          },
          "metadata": {},
          "execution_count": 50
        }
      ]
    },
    {
      "cell_type": "markdown",
      "source": [
        "#**Conclusion**\n",
        "\n",
        "In both cases (*Accuracy with Default Parameters* and *Accuracy after Sampling and PCA*)\t **RandomForestClassifier** and gives maximum accuracy."
      ],
      "metadata": {
        "id": "dU4Lv_4FQAKp"
      }
    },
    {
      "cell_type": "markdown",
      "source": [
        "# **Prediction**\n"
      ],
      "metadata": {
        "id": "W6Z0GRGhZYPy"
      }
    },
    {
      "cell_type": "code",
      "source": [
        "# Gender\tAge\tOccupation\tSleep Duration\tQuality of Sleep\tPhysical Activity Level\tStress Level\tBMI Category\tHeart Rate\tDaily Steps\tSystolic BP\tDiastolic BP Sleep Disorder\n",
        "# Male\t  28\tDoctor    \t6.2\t            6\t                60\t                    8\t            Normal\t      75\t        10000\t      125       \t80           None\n",
        "# 1\t      28\t1\t          6.2\t            6\t                60\t                    8\t            0\t            75\t        10000\t      125\t        80           1\n",
        "# Female\t59\tNurse\t      8.0\t            9               \t75                    \t3\t            Overweight\t  68\t        7000        140\t        95           Sleep Apnea\n",
        "# 0\t      59\t5\t          8.0\t            9\t                75\t                    3\t            1           \t68        \t7000\t      140       \t95           2\n",
        "# Male\t  36\tTeacher   \t6.6           \t5\t                35                     \t7           \tOverweight\t  74         \t4800\t      129        \t84           Insomnia\n",
        "# 1       36  10          6.6             5                 35                      7             1             74          4800        129         84           0"
      ],
      "metadata": {
        "id": "aY2Hc4kqW7E3"
      },
      "execution_count": null,
      "outputs": []
    },
    {
      "cell_type": "markdown",
      "source": [
        "**RandomForestClassifier is used here for prediction.**"
      ],
      "metadata": {
        "id": "sTVVFDUc1QxX"
      }
    },
    {
      "cell_type": "code",
      "source": [
        "y_new1=rf2.predict(pca.transform(mms.transform([[le1.transform(['Male']).item(),28,le2.transform(['Doctor']).item(),6.2,6,60,8,le3.transform(['Normal']).item(),75,10000,125,80]])))\n",
        "y_new2=rf2.predict(pca.transform(mms.transform([[le1.transform(['Female']).item(),59,le2.transform(['Nurse']).item(),8.0,9,75,3,le3.transform(['Overweight']).item(),68,7000,140,95]])))\n",
        "y_new3=rf2.predict(pca.transform(mms.transform([[le1.transform(['Male']).item(),36,le2.transform(['Teacher']).item(),6.6,5,35,7,le3.transform(['Overweight']).item(),74,4800,129,84]])))\n",
        "print(le4.inverse_transform(y_new1).item())\n",
        "print(le4.inverse_transform(y_new2).item())\n",
        "print(le4.inverse_transform(y_new3).item())"
      ],
      "metadata": {
        "id": "clapHOfwbbkP",
        "colab": {
          "base_uri": "https://localhost:8080/"
        },
        "outputId": "fc540168-f6b9-454f-e4f7-4b766c6af66d"
      },
      "execution_count": null,
      "outputs": [
        {
          "output_type": "stream",
          "name": "stdout",
          "text": [
            "None\n",
            "Sleep Apnea\n",
            "Insomnia\n"
          ]
        }
      ]
    }
  ]
}